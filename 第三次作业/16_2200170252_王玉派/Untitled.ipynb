{
 "cells": [
  {
   "cell_type": "code",
   "execution_count": 102,
   "id": "e9b28bc3-b1fa-4d6c-829d-748fb2ba10be",
   "metadata": {},
   "outputs": [],
   "source": [
    "import numpy as np\n",
    "import matplotlib.pyplot as plt\n",
    "import matplotlib\n",
    "from matplotlib import rcParams  ## run command settings for plotting\n",
    "from sklearn.metrics import roc_auc_score, roc_curve"
   ]
  },
  {
   "cell_type": "code",
   "execution_count": 103,
   "id": "37a3e15c-1492-4fbf-8139-249309ff4941",
   "metadata": {},
   "outputs": [],
   "source": [
    "config = {\n",
    "    \"mathtext.fontset\":'stix',\n",
    "    \"font.family\":'serif',\n",
    "    \"font.serif\": ['SimHei'],\n",
    "    \"font.size\": 10,  \n",
    "    'axes.unicode_minus': False \n",
    "}\n",
    "\n",
    "rcParams.update(config)"
   ]
  },
  {
   "cell_type": "code",
   "execution_count": 104,
   "id": "4d129ea5-99d8-485e-9349-f6a618d90eb9",
   "metadata": {},
   "outputs": [],
   "source": [
    "def sigmoid(z):\n",
    "    return 1/(1+np.exp(-z))"
   ]
  },
  {
   "cell_type": "markdown",
   "id": "2c66ae18-12c5-4278-be4b-841672a705cf",
   "metadata": {},
   "source": [
    "计算逻辑回归损失"
   ]
  },
  {
   "cell_type": "code",
   "execution_count": 105,
   "id": "8e767e4e-5702-4cc7-a991-3b621ec9dfbf",
   "metadata": {},
   "outputs": [],
   "source": [
    "def computeCost(X,Y,W):\n",
    "    P=sigmoid(np.dot(X,W))\n",
    "    loss=np.sum(-Y*np.log(P)-(1-Y)*np.log(1-P))/X.shape[0]\n",
    "    return loss,P"
   ]
  },
  {
   "cell_type": "markdown",
   "id": "ea582c2f-760e-4e4b-9c0c-879d2b40cb46",
   "metadata": {},
   "source": [
    "逻辑回归梯度下降"
   ]
  },
  {
   "cell_type": "code",
   "execution_count": 106,
   "id": "903d8f08-db3d-41d0-be91-ef3afa5fc9ed",
   "metadata": {},
   "outputs": [],
   "source": [
    "def gradientDecent(W,X,Y):\n",
    "   \n",
    "    error=sigmoid(np.dot(X,W))-Y#P=sigmoid(f(x,w)),P-Y\n",
    "    \n",
    "    grad=np.dot(X.T,error)/X.shape[0]#x.shape是样本数\n",
    "   \n",
    "    W-=alpha*grad\n",
    "    return W"
   ]
  },
  {
   "cell_type": "code",
   "execution_count": 107,
   "id": "ff296d57-f9ca-4bff-b088-4f76a1e9bfc4",
   "metadata": {},
   "outputs": [],
   "source": [
    "def logisticRegression(X,Y,alpha,iters,X1,Y1):    \n",
    "    feature_dim=X.shape[1]\n",
    "    W=np.zeros((feature_dim,1))\n",
    "    loss_his=[]\n",
    "    loss_v=[]\n",
    "    for i in range(iters):\n",
    "        loss,P=computeCost(X,Y,W)\n",
    "        loss1,P1=computeCost(X1,Y1,W)\n",
    "        \n",
    "        loss_his.append(loss)\n",
    "        loss_v.append(loss1)\n",
    "        W=gradientDecent(W,X,Y)\n",
    "                                \n",
    "    return loss_his,W,loss_v,P"
   ]
  },
  {
   "cell_type": "code",
   "execution_count": 108,
   "id": "185b2881-e668-44ae-9ca6-a871dad2d2d1",
   "metadata": {},
   "outputs": [],
   "source": [
    "def logisticRegression1(X,Y,alpha,iters):    \n",
    "    feature_dim=X.shape[1]\n",
    "    W=np.zeros((feature_dim,1))\n",
    "    loss_his=[]\n",
    "    w_his=[]\n",
    "    for i in range(iters):\n",
    "        loss,P=computeCost(X,Y,W)\n",
    "        \n",
    "        loss_his.append(loss)\n",
    "        w_his.append(W.copy())\n",
    "        W=gradientDecent(W,X,Y)\n",
    "                                \n",
    "    return loss_his,W,w_his"
   ]
  },
  {
   "cell_type": "markdown",
   "id": "65e11761-e4ab-4923-beed-49eda3c21eed",
   "metadata": {},
   "source": [
    "模型评估"
   ]
  },
  {
   "cell_type": "code",
   "execution_count": 109,
   "id": "e7bf29b3-7f30-450f-9cee-07fe9eed6cbc",
   "metadata": {},
   "outputs": [],
   "source": [
    "def assess(P,Y):\n",
    "    \n",
    "    index = np.argsort(P, axis=0)[::-1]\n",
    "    P1=np.take_along_axis(P, index, axis=0)\n",
    "    Y1=np.take_along_axis(Y, index, axis=0)\n",
    "\n",
    "    # 求PR\n",
    "    recall = []\n",
    "    precision = []\n",
    "    TPR = []\n",
    "    FPR = []\n",
    "    F1_score=[]\n",
    "    for a in P1:\n",
    "        tp = 0\n",
    "        fn = 0\n",
    "        fp = 0\n",
    "        tn = 0\n",
    "        x = 0\n",
    "        y = 0\n",
    "        for p in range(len(Y1)):\n",
    "            if (Y1[p] == 1) and (P1[p] >= a):\n",
    "                tp = tp + 1\n",
    "            elif (Y1[p] == 1) and (P1[p] < a):\n",
    "                fn = fn + 1\n",
    "            elif (Y1[p] == 0) and (P1[p] >= a):\n",
    "                fp = fp + 1\n",
    "            elif (Y1[p] == 0) and (P1[p] < a):\n",
    "                tn = tn + 1\n",
    "        x = float(tp) / (tp + fn)\n",
    "        y = float(tp) / (tp + fp)\n",
    "        fpr = float(fp) / (tn + fp)\n",
    "        f1_score=(2*float(y)*x)/(x+y)\n",
    "        \n",
    "        recall.append(x)\n",
    "        precision.append(y)\n",
    "        TPR.append(x)\n",
    "        FPR.append(fpr)\n",
    "        F1_score.append(f1_score)\n",
    "\n",
    "#计算auc，Roc\n",
    "    y_true = []\n",
    "    y_score = []\n",
    "    for p in range(len(Y1)):\n",
    "        y_c = Y1[p]\n",
    "        if y_c == 1:\n",
    "            y = 1\n",
    "        else:\n",
    "            y = 0\n",
    "\n",
    "        y_hat = P[p]\n",
    "        y_true.append(y)\n",
    "        y_score.append(y_hat)\n",
    "\n",
    "    # 计算auc\n",
    "    auc = roc_auc_score(y_true, y_score, sample_weight=None)\n",
    "    \n",
    "    fpr, tpr, th = roc_curve(y_true, y_score)\n",
    "    return precision,recall,F1_score,fpr,tpr,auc"
   ]
  },
  {
   "cell_type": "code",
   "execution_count": 110,
   "id": "43581c46-6203-416d-9cf3-51c8d0ed99b7",
   "metadata": {},
   "outputs": [],
   "source": [
    "## 读取数据\n",
    "import numpy as np\n",
    "data = np.loadtxt('C:\\\\Users\\\\wyp\\\\Desktop\\\\ex2data1.txt', delimiter=',')"
   ]
  },
  {
   "cell_type": "code",
   "execution_count": 111,
   "id": "37ceadd4-5a1b-4972-966e-7f0eb126fdd8",
   "metadata": {},
   "outputs": [],
   "source": [
    "## K折交叉验证划分数据\n",
    "from sklearn.model_selection import KFold\n",
    "\n",
    "total_loss_his=[0]*10000\n",
    "total_loss_v=[0]*10000\n",
    "\n",
    "total_W=np.zeros((3,1))\n",
    "\n",
    "kf = KFold(n_splits=5)\n",
    "for train_index, test_index in kf.split(data):\n",
    "    cols = data.shape[1]\n",
    "    train, test = data[train_index], data[test_index]\n",
    "  \n",
    "    X = train[:,:cols-1]\n",
    "    y=train[:,cols-1:]\n",
    "    X = np.insert(X, 0, 1, axis=1)   \n",
    "\n",
    "    X1 = test[:,:cols-1]\n",
    "    y1=test[:,cols-1:]\n",
    "    X1 = np.insert(X1, 0, 1, axis=1)  \n",
    "\n",
    "    \n",
    "    alpha =0.0001\n",
    "    iters = 10000\n",
    "    \n",
    "    #loss_his, W,loss_v,P = logisticRegression(X,y, alpha, iters,X1,y1)\n",
    "    loss_his,W,w_his=logisticRegression1(X,y, alpha, iters)\n",
    "\n",
    "    total_W=total_W+W\n",
    "\n",
    "   \n",
    "    v_loss=[]\n",
    "    for w in w_his:\n",
    "        loss,_=computeCost(X1,y1,w)\n",
    "        v_loss.append(loss)\n",
    "    #获取总的loss\n",
    "    total_loss_his=list(np.add(loss_his,total_loss_his))\n",
    "    total_loss_v=list(np.add(v_loss,total_loss_v))\n",
    "    \n",
    "\n",
    "total_loss_his=list(np.array(total_loss_his)/5) \n",
    "total_loss_v=list(np.array(total_loss_v)/5)\n",
    "total_W=total_W/5\n"
   ]
  },
  {
   "cell_type": "code",
   "execution_count": 112,
   "id": "81050e43-4002-4ed4-aa94-1807b537b831",
   "metadata": {},
   "outputs": [],
   "source": [
    "\n",
    "t_x = data[:,:cols-1]\n",
    "t_y=data[:,cols-1:]\n",
    "t_x = np.insert(t_x, 0, 1, axis=1)\n",
    "loss1,p=computeCost(t_x,t_y,total_W)\n",
    "precision,recall,F1_score,fpr,tpr,auc=assess(p,t_y)"
   ]
  },
  {
   "cell_type": "code",
   "execution_count": 113,
   "id": "6d53c129-d8cc-4cd8-a347-cdca7962ec4a",
   "metadata": {
    "scrolled": true
   },
   "outputs": [
    {
     "data": {
      "image/png": "[encoded data removed]",
      "text/plain": [
       "<Figure size 400x200 with 1 Axes>"
      ]
     },
     "metadata": {},
     "output_type": "display_data"
    }
   ],
   "source": [
    "fig,ax=plt.subplots(figsize=(4,2))\n",
    "ax.plot(np.arange(iters),total_loss_his,'r')\n",
    "ax.plot(np.arange(iters),total_loss_v,'b')\n",
    "ax.set_xlabel('iterations')\n",
    "ax.set_ylabel('loss',rotation=0)\n",
    "ax.set_title('CostVsIters')\n",
    "plt.show()"
   ]
  },
  {
   "cell_type": "code",
   "execution_count": 114,
   "id": "b5770b6d-c738-459a-8853-86d2d45fdba2",
   "metadata": {},
   "outputs": [
    {
     "data": {
      "text/plain": [
       "0.4058333333333333"
      ]
     },
     "execution_count": 114,
     "metadata": {},
     "output_type": "execute_result"
    }
   ],
   "source": [
    "auc"
   ]
  },
  {
   "cell_type": "code",
   "execution_count": 115,
   "id": "5ca6ae7b-903d-4a0b-baae-9adfc22a56d9",
   "metadata": {},
   "outputs": [
    {
     "data": {
      "image/png": "[encoded data removed]",
      "text/plain": [
       "<Figure size 500x500 with 1 Axes>"
      ]
     },
     "metadata": {},
     "output_type": "display_data"
    }
   ],
   "source": [
    "plt.figure(figsize=(5,5))\n",
    "plt.title('precision-recall curve',fontsize=16)\n",
    "plt.plot(recall,precision)\n",
    "plt.plot(recall,precision,'ro')\n",
    "plt.ylabel('Precision',fontsize=16)\n",
    "plt.xlabel('Recall',fontsize=16)\n",
    "plt.show()"
   ]
  },
  {
   "cell_type": "code",
   "execution_count": 116,
   "id": "d16e52d6-e30e-40c8-80c0-7b558db02c42",
   "metadata": {},
   "outputs": [
    {
     "data": {
      "image/png": "[encoded data removed]",
      "text/plain": [
       "<Figure size 640x480 with 1 Axes>"
      ]
     },
     "metadata": {},
     "output_type": "display_data"
    }
   ],
   "source": [
    "plt.plot(fpr,tpr)\n",
    "plt.title('ROC curve',fontsize=14)\n",
    "plt.ylabel('TPR',fontsize=14)\n",
    "plt.xlabel('FPR',fontsize=14)\n",
    "plt.show()"
   ]
  }
 ],
 "metadata": {
  "kernelspec": {
   "display_name": "Python 3 (ipykernel)",
   "language": "python",
   "name": "python3"
  },
  "language_info": {
   "codemirror_mode": {
    "name": "ipython",
    "version": 3
   },
   "file_extension": ".py",
   "mimetype": "text/x-python",
   "name": "python",
   "nbconvert_exporter": "python",
   "pygments_lexer": "ipython3",
   "version": "3.11.7"
  }
 },
 "nbformat": 4,
 "nbformat_minor": 5
}
