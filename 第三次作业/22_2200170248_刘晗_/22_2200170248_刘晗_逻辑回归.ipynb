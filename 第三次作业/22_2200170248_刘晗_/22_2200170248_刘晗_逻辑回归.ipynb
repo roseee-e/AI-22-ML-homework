{
 "cells": [
  {
   "cell_type": "code",
   "execution_count": 180,
   "id": "7207143b-e628-45c6-bb37-b99993a881f8",
   "metadata": {},
   "outputs": [],
   "source": [
    "import numpy as np\n",
    "import matplotlib.pyplot as plt\n",
    "import matplotlib\n",
    "import pandas as pd\n",
    "from matplotlib import rcParams  # rcParams是Matplotlib中的一个字典，用于管理默认参数和属性\n",
    "from sklearn.model_selection import StratifiedKFold\n",
    "from sklearn.metrics import precision_recall_curve, roc_curve, auc, roc_auc_score, precision_score, recall_score, f1_score"
   ]
  },
  {
   "cell_type": "code",
   "execution_count": 181,
   "id": "6fd3c72e-3f46-4dcd-bfb3-68118c121b4b",
   "metadata": {},
   "outputs": [],
   "source": [
    "config = {\n",
    "    \"mathtext.fontset\": 'stix',  # 数学公式的字体集\n",
    "    \"font.family\": 'serif',  # 指定绘图中的字体系列为衬线字体\n",
    "    \"font.serif\": ['SimHei'],  # 设置衬线字体的具体类型，中文宋体\n",
    "    \"font.size\": 10,  # 字号，大家自行调节\n",
    "    'axes.unicode_minus': False  # 处理负号，即-号\n",
    "}\n",
    "rcParams.update(config)  # 设置画图的一些参数"
   ]
  },
  {
   "cell_type": "code",
   "execution_count": 182,
   "id": "b0b57835-701e-4413-8772-a6e2cfcc0360",
   "metadata": {},
   "outputs": [
    {
     "data": {
      "text/html": [
       "<div>\n",
       "<style scoped>\n",
       "    .dataframe tbody tr th:only-of-type {\n",
       "        vertical-align: middle;\n",
       "    }\n",
       "\n",
       "    .dataframe tbody tr th {\n",
       "        vertical-align: top;\n",
       "    }\n",
       "\n",
       "    .dataframe thead th {\n",
       "        text-align: right;\n",
       "    }\n",
       "</style>\n",
       "<table border=\"1\" class=\"dataframe\">\n",
       "  <thead>\n",
       "    <tr style=\"text-align: right;\">\n",
       "      <th></th>\n",
       "      <th>34.62365962451697</th>\n",
       "      <th>78.0246928153624</th>\n",
       "      <th>0</th>\n",
       "    </tr>\n",
       "  </thead>\n",
       "  <tbody>\n",
       "    <tr>\n",
       "      <th>0</th>\n",
       "      <td>30.286711</td>\n",
       "      <td>43.894998</td>\n",
       "      <td>0</td>\n",
       "    </tr>\n",
       "    <tr>\n",
       "      <th>1</th>\n",
       "      <td>35.847409</td>\n",
       "      <td>72.902198</td>\n",
       "      <td>0</td>\n",
       "    </tr>\n",
       "    <tr>\n",
       "      <th>2</th>\n",
       "      <td>60.182599</td>\n",
       "      <td>86.308552</td>\n",
       "      <td>1</td>\n",
       "    </tr>\n",
       "    <tr>\n",
       "      <th>3</th>\n",
       "      <td>79.032736</td>\n",
       "      <td>75.344376</td>\n",
       "      <td>1</td>\n",
       "    </tr>\n",
       "    <tr>\n",
       "      <th>4</th>\n",
       "      <td>45.083277</td>\n",
       "      <td>56.316372</td>\n",
       "      <td>0</td>\n",
       "    </tr>\n",
       "  </tbody>\n",
       "</table>\n",
       "</div>"
      ],
      "text/plain": [
       "   34.62365962451697  78.0246928153624  0\n",
       "0          30.286711         43.894998  0\n",
       "1          35.847409         72.902198  0\n",
       "2          60.182599         86.308552  1\n",
       "3          79.032736         75.344376  1\n",
       "4          45.083277         56.316372  0"
      ]
     },
     "execution_count": 182,
     "metadata": {},
     "output_type": "execute_result"
    }
   ],
   "source": [
    "path = r'E:\\机器学习\\ex2data1.csv'\n",
    "data = pd.read_csv(path)  # data 是dataframe 的数据类型\n",
    "data.head()  # 返回data中的前几行数据，默认是前5行。"
   ]
  },
  {
   "cell_type": "code",
   "execution_count": 183,
   "id": "94f6c075-92b2-48d9-ba1a-f7f61e9496d1",
   "metadata": {},
   "outputs": [],
   "source": [
    "# 特征与标签提取\n",
    "cols = data.shape[1]  # data.shape 返回一个元组，元组的第一个元素表示数据集的行数，第二个元素表示数据集的列数\n",
    "X_data = data.iloc[:, :cols - 1]  # X去掉最后一列\n",
    "Y_data = data.iloc[:, cols - 1:]  # Y 最后一列\n",
    "\n",
    "x_data = X_data.values\n",
    "y_data = Y_data.values"
   ]
  },
  {
   "cell_type": "code",
   "execution_count": 184,
   "id": "5265872a-6ffe-4b98-8e63-b76d23c06e3d",
   "metadata": {},
   "outputs": [
    {
     "data": {
      "image/png": "[encoded data removed]",
      "text/plain": [
       "<Figure size 600x400 with 1 Axes>"
      ]
     },
     "metadata": {},
     "output_type": "display_data"
    }
   ],
   "source": [
    "# 绘制数据二维散点图\n",
    "plt.figure(figsize=(6, 4))\n",
    "plt.scatter(x_data[y_data[:, 0] == 0][:, 0], x_data[y_data[:, 0] == 0][:, 1], c='blue', marker='o', label='label 0')\n",
    "plt.scatter(x_data[y_data[:, 0] == 1][:, 0], x_data[y_data[:, 0] == 1][:, 1], c='red', marker='o', label='label 1')\n",
    "plt.xlabel('Feature 1')\n",
    "plt.ylabel('Feature 2')\n",
    "plt.title('Scatter Plot of Features')\n",
    "plt.legend()\n",
    "plt.show()"
   ]
  },
  {
   "cell_type": "code",
   "execution_count": 185,
   "id": "880d1fa6-a838-402f-8155-745d30db4d36",
   "metadata": {},
   "outputs": [],
   "source": [
    "# 建立逻辑回归模型 ， 使用sigmoid\n",
    "def sigmoid(z):\n",
    "    return 1 / (1 + np.exp(-z))"
   ]
  },
  {
   "cell_type": "code",
   "execution_count": 186,
   "id": "e2da2ab8-15fa-4cf5-a965-2d1704839a0d",
   "metadata": {},
   "outputs": [],
   "source": [
    "# 损失函数\n",
    "def computeCost(X, Y, W):\n",
    "    p = sigmoid(np.dot(X, W))\n",
    "    loss = np.sum(-Y * np.log(p) - (1 - Y) * np.log(1 - p)) / X.shape[0]\n",
    "    return loss, p"
   ]
  },
  {
   "cell_type": "code",
   "execution_count": 187,
   "id": "f51b4764-0a31-4a13-a51a-fbf147271ef0",
   "metadata": {},
   "outputs": [],
   "source": [
    "# 计算损失函数对w参数的导数\n",
    "def gradientDecent(W, X, Y):\n",
    "    error = sigmoid(np.dot(X, W)) - Y\n",
    "    grad = np.dot(X.T, error) / X.shape[1]\n",
    "    W -= alpha * grad\n",
    "    return W"
   ]
  },
  {
   "cell_type": "code",
   "execution_count": 188,
   "id": "624de5c1-72ac-48de-beaf-4e55f56151ac",
   "metadata": {},
   "outputs": [],
   "source": [
    "# 逻辑回归参数训练过程\n",
    "def logisticRegression(X, Y, alpha, iters):\n",
    "    loss_his = []  # 初始化模型参数\n",
    "    W_his = []\n",
    "    feature_dim = X.shape[1]\n",
    "    W = np.zeros((feature_dim, 1))  # 初始化W系数矩阵，w 是一个(feature_dim,1)矩阵\n",
    "    # 重复步骤2和步骤3，直到收敛或迭代结束\n",
    "    for i in range(iters):\n",
    "        # step2 : 使用初始化参数预测输出并计算损失\n",
    "        loss, P = computeCost(X, Y, W)\n",
    "        loss_his.append(loss)\n",
    "        # step3: 采用梯度下降法更新参数\n",
    "        W_his.append(W.copy())  # 记录W\n",
    "        W = gradientDecent(W, X, Y)\n",
    "\n",
    "    return loss_his, W, W_his  # 返回损失和模型参数。"
   ]
  },
  {
   "cell_type": "code",
   "execution_count": 189,
   "id": "c487d6fe-eee9-4459-8993-2cd541a0de2d",
   "metadata": {},
   "outputs": [],
   "source": [
    "# 数据归一化\n",
    "def normalize_data(data):\n",
    "    normalized_data = (data - np.min(data, axis=0)) / (np.max(data, axis=0) - np.min(data, axis=0))  # axis=0沿着每列\n",
    "    return normalized_data  # , np.min(data, axis=0), np.max(data, axis=0)\n",
    "\n",
    "\n",
    "x_data = normalize_data(x_data)"
   ]
  },
  {
   "cell_type": "code",
   "execution_count": 190,
   "id": "c392e562-6224-4e8c-b0eb-5084197e8496",
   "metadata": {},
   "outputs": [],
   "source": [
    "alpha = 0.0001\n",
    "iters = 10000"
   ]
  },
  {
   "cell_type": "code",
   "execution_count": 191,
   "id": "c517e6c7-cef9-4f07-86f5-4e35562ab74c",
   "metadata": {},
   "outputs": [],
   "source": [
    "# 保存每次验证的损失值\n",
    "\n",
    "train_losses = []\n",
    "test_losses = []\n",
    "W_train_his = []\n",
    "\n",
    "precision_his = []\n",
    "recall_his = []\n",
    "f1_his = []\n",
    "fpr_his = []\n",
    "tpr_his = []\n",
    "roc_auc_his = []"
   ]
  },
  {
   "cell_type": "code",
   "execution_count": 192,
   "id": "41ac7ffc-3e58-4ead-8cdb-a8bbd8b93a77",
   "metadata": {},
   "outputs": [],
   "source": [
    "# 数据划分——K折交叉验证\n",
    "\n",
    "# 初始化5折交叉验证\n",
    "kf = StratifiedKFold(n_splits=5, shuffle=True, random_state=42)\n",
    "\n",
    "for train_index, test_index in kf.split(x_data, y_data):\n",
    "    # 划分训练集和验证集\n",
    "    x_train, x_test = x_data[train_index], x_data[test_index]\n",
    "    y_train, y_test = y_data[train_index], y_data[test_index]\n",
    "\n",
    "    # 训练逻辑回归模型\n",
    "    train_loss_history, W_train, W_his = logisticRegression(x_train, y_train, alpha, iters)\n",
    "    W_train_his.append(W_train)\n",
    "\n",
    "    # 在测试集上计算损失\n",
    "    test_loss_history = []\n",
    "    for W in W_his:\n",
    "        loss, _ = computeCost(x_test, y_test, W)\n",
    "        test_loss_history.append(loss)\n",
    "\n",
    "    train_losses.append(train_loss_history)\n",
    "    test_losses.append(test_loss_history)\n",
    "\n",
    "    # 计算测试集上的预测\n",
    "    test_predictions = sigmoid(np.dot(x_test, W_train))\n",
    "    # 将概率进行阈值处理，得到二元预测结果\n",
    "    binary_predictions = (test_predictions >= 0.5).astype(int)\n",
    "\n",
    "\n",
    "    # 计算评估指标\n",
    "    precision = precision_score(y_test, binary_predictions)\n",
    "    recall = recall_score(y_test, binary_predictions)\n",
    "    f1 = f1_score(y_test, binary_predictions)\n",
    "    fpr, tpr, _ = roc_curve(y_test, test_predictions)\n",
    "    # roc_auc = auc()\n",
    "\n",
    "    precision_his.append(precision)\n",
    "    recall_his.append(recall)\n",
    "    f1_his.append(f1)\n",
    "    fpr_his.append(fpr)\n",
    "    tpr_his.append(tpr)"
   ]
  },
  {
   "cell_type": "code",
   "execution_count": 193,
   "id": "31ddb01b-0618-4d9a-9ca3-a85f5690d7bd",
   "metadata": {},
   "outputs": [],
   "source": [
    "# 计算每次迭代的平均训练损失和测试损失\n",
    "avg_train_loss = np.mean(train_losses, axis=0)\n",
    "avg_test_loss = np.mean(test_losses, axis=0)\n",
    "W_train_his_avg = np.mean(W_train_his, axis=0)\n",
    "\n",
    "# 计算评估指标的平均值\n",
    "precision_avg = np.mean(precision_his)\n",
    "recall_avg = np.mean(recall_his)\n",
    "f1_avg = np.mean(f1_his)"
   ]
  },
  {
   "cell_type": "code",
   "execution_count": 194,
   "id": "87e81a5e-bc01-4451-a487-5dd227757a99",
   "metadata": {},
   "outputs": [],
   "source": [
    "fpr_grid = np.linspace(0.0, 1.0, 100)\n",
    "mean_tpr = np.zeros_like(fpr_grid)\n",
    "for i in range(5):\n",
    "    mean_tpr += np.interp(fpr_grid, fpr_his[i], tpr_his[i])\n",
    "fpr_grid = np.insert(fpr_grid, 0, 0.0)\n",
    "mean_tpr = np.insert(mean_tpr, 0, 0.0)\n",
    "mean_tpr = mean_tpr/5"
   ]
  },
  {
   "cell_type": "code",
   "execution_count": 195,
   "id": "d8ac9e0a-2526-41c4-b604-8df0f55bb25b",
   "metadata": {},
   "outputs": [
    {
     "data": {
      "image/png": "[encoded data removed]",
      "text/plain": [
       "<Figure size 500x300 with 1 Axes>"
      ]
     },
     "metadata": {},
     "output_type": "display_data"
    }
   ],
   "source": [
    "# 画出训练和测试的损失曲线\n",
    "plt.figure(figsize=(5, 3))\n",
    "plt.plot(np.arange(iters), avg_train_loss, c='r', label='Training Loss')\n",
    "plt.plot(np.arange(iters), avg_test_loss, c='b', label='Test Loss')\n",
    "plt.xlabel('Iteration')\n",
    "plt.ylabel('Loss')\n",
    "plt.title('Training and Test Loss Curves')\n",
    "plt.legend()\n",
    "plt.show()"
   ]
  },
  {
   "cell_type": "code",
   "execution_count": 196,
   "id": "72a15fe9-2020-488e-a462-15de69badfbc",
   "metadata": {},
   "outputs": [
    {
     "data": {
      "image/png": "[encoded data removed]",
      "text/plain": [
       "<Figure size 500x400 with 1 Axes>"
      ]
     },
     "metadata": {},
     "output_type": "display_data"
    }
   ],
   "source": [
    "plt.figure(figsize=(5, 4))\n",
    "plt.plot(fpr_grid, mean_tpr, color='red', label='ROC Curve')\n",
    "plt.plot([0, 1], [0, 1], color='gray', linestyle='--')\n",
    "plt.xlabel('FPR')\n",
    "plt.ylabel('TPR')\n",
    "plt.title('平均ROC曲线')\n",
    "plt.legend(loc='lower right')\n",
    "plt.show()"
   ]
  },
  {
   "cell_type": "code",
   "execution_count": 197,
   "id": "0b2b8cb9-f16c-4e00-a428-2eeebd28ac7f",
   "metadata": {},
   "outputs": [
    {
     "data": {
      "text/plain": [
       "0.9563131313131313"
      ]
     },
     "execution_count": 197,
     "metadata": {},
     "output_type": "execute_result"
    }
   ],
   "source": [
    "roc_auc = auc(fpr_grid, mean_tpr)\n",
    "roc_auc"
   ]
  },
  {
   "cell_type": "code",
   "execution_count": 198,
   "id": "c0911e08-967d-4de1-9a9f-5c586ef5ec5b",
   "metadata": {},
   "outputs": [
    {
     "data": {
      "text/plain": [
       "0.6063157894736841"
      ]
     },
     "execution_count": 198,
     "metadata": {},
     "output_type": "execute_result"
    }
   ],
   "source": [
    "precision_avg"
   ]
  },
  {
   "cell_type": "code",
   "execution_count": 199,
   "id": "6a927b3c-3b74-46f2-83a3-56f45ea11fef",
   "metadata": {},
   "outputs": [
    {
     "data": {
      "text/plain": [
       "1.0"
      ]
     },
     "execution_count": 199,
     "metadata": {},
     "output_type": "execute_result"
    }
   ],
   "source": [
    "recall_avg"
   ]
  },
  {
   "cell_type": "code",
   "execution_count": 200,
   "id": "ac9d6418-6e38-4b38-a549-dd5821d8d416",
   "metadata": {},
   "outputs": [
    {
     "data": {
      "text/plain": [
       "0.7548387096774192"
      ]
     },
     "execution_count": 200,
     "metadata": {},
     "output_type": "execute_result"
    }
   ],
   "source": [
    "f1_avg"
   ]
  }
 ],
 "metadata": {
  "kernelspec": {
   "display_name": "Python 3 (ipykernel)",
   "language": "python",
   "name": "python3"
  },
  "language_info": {
   "codemirror_mode": {
    "name": "ipython",
    "version": 3
   },
   "file_extension": ".py",
   "mimetype": "text/x-python",
   "name": "python",
   "nbconvert_exporter": "python",
   "pygments_lexer": "ipython3",
   "version": "3.11.7"
  }
 },
 "nbformat": 4,
 "nbformat_minor": 5
}
