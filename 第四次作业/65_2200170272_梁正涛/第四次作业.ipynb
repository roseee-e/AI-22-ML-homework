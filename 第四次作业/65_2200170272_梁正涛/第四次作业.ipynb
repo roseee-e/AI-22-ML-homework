{
 "cells": [
  {
   "cell_type": "markdown",
   "metadata": {},
   "source": [
    "## 贝叶斯分类\n",
    "### 1. 贝叶斯分类器\n",
    "贝叶斯分类器是一类分类算法的总称，这类算法均以贝叶斯定理为基础\n",
    "$$\n",
    "P(y|x) = \\frac{P(x|y)P(y)}{P(x)}\n",
    "$$\n",
    "贝叶斯分类器的决策过程是**基于特征之间的条件独立性假设，即假设每个特征之间相互独立**。\n",
    "\n",
    "\n",
    "对于给定的输入x，通过计算后验概率$ P(y|x) $来决定x的类别。贝叶斯分类器的决策规则为：对于输入x，选择能使后验概率$P(y|x)$最大的类别y作为x的类别，贝叶斯分类器的决策规则为：\n",
    "$$\n",
    "\\hat{y} = argmax_{y_{i}}P(y_{i}|x) = argmax_{y_{i}}\\frac{P(x|y_{i})P(y_{i})}{P(x)}\n",
    "$$"
   ]
  },
  {
   "cell_type": "code",
   "execution_count": 53,
   "metadata": {},
   "outputs": [
    {
     "name": "stdout",
     "output_type": "stream",
     "text": [
      "Initial Data:\n",
      "   A  B  C  y\n",
      "0  1  0  0  1\n",
      "1  0  1  0  0\n",
      "2  0  1  0  1\n",
      "3  1  0  0  1\n",
      "4  0  1  1  0\n"
     ]
    }
   ],
   "source": [
    "import numpy as np\n",
    "import pandas as pd\n",
    "\n",
    "# 定义数据\n",
    "data = [\n",
    "    [1, 0, 0, 1], [0, 1, 0, 0], [0, 1, 0, 1], [1, 0, 0, 1],\n",
    "    [0, 1, 1, 0], [1, 0, 1, 0], [0, 0, 0, 1], [0, 1, 1, 0],\n",
    "    [1, 0, 0, 1], [1, 1, 0, 1]\n",
    "]\n",
    "test=[0,0,1]\n",
    "# 创建DataFrame\n",
    "Data = pd.DataFrame(data, columns=['A', 'B', 'C', 'y'])\n",
    "print(\"Initial Data:\")\n",
    "print(Data.head())"
   ]
  },
  {
   "cell_type": "markdown",
   "metadata": {},
   "source": [
    "\n",
    "定义朴素贝叶斯分类器\n",
    "接下来，定义一个函数来计算先验概率和条件概率。朴素贝叶斯分类器假设特征之间相互独立，这使得我们能够简单地计算特征的条件概率：\n"
   ]
  },
  {
   "cell_type": "code",
   "execution_count": 54,
   "metadata": {},
   "outputs": [],
   "source": [
    "def naive_bayes(X_data, Y_data):\n",
    "    y = Y_data.values\n",
    "    y_unique = np.unique(y)\n",
    "    prior_prob = {yu: np.mean(y == yu) for yu in y_unique}\n",
    "\n",
    "    condition_prob = {}\n",
    "    for feature in X_data.columns:\n",
    "        condition_prob[feature] = {}\n",
    "        for yu in y_unique:\n",
    "            subset = X_data[y == yu]\n",
    "            feature_counts = subset[feature].value_counts(normalize=True)\n",
    "            condition_prob[feature][yu] = feature_counts.to_dict()\n",
    "\n",
    "    return prior_prob, condition_prob\n",
    "\n",
    "\n",
    "# 分离特征和标签\n",
    "X_data = Data[['A', 'B', 'C']]\n",
    "Y_data = Data['y']\n",
    "\n",
    "# 计算先验概率和条件概率\n",
    "prior_prob, condition_prob = naive_bayes(X_data, Y_data)"
   ]
  },
  {
   "cell_type": "markdown",
   "metadata": {},
   "source": [
    "### 输出计算结果\n",
    "展示先验概率和条件概率的计算结果。"
   ]
  },
  {
   "cell_type": "markdown",
   "metadata": {},
   "source": [
    "### 预测新的输入样本\n",
    "使用预测函数来计算给定新输入样本的分类。"
   ]
  },
  {
   "cell_type": "code",
   "execution_count": 55,
   "metadata": {},
   "outputs": [
    {
     "name": "stdout",
     "output_type": "stream",
     "text": [
      "Predictions:\n",
      "[0]\n"
     ]
    }
   ],
   "source": [
    "def predict(test_data, prior_prob, condition_prob):\n",
    "    results = []\n",
    "    for index, row in test_data.iterrows():\n",
    "        class_probs = {yu: prior_prob[yu] for yu in prior_prob.keys()}\n",
    "        for feature in test_data.columns:\n",
    "            for yu in class_probs:\n",
    "                class_probs[yu] *= condition_prob[feature][yu].get(\n",
    "                    row[feature], np.finfo(float).eps)\n",
    "\n",
    "        total_prob = sum(class_probs.values())\n",
    "        normalized_probs = {k: v / total_prob for k, v in class_probs.items()}\n",
    "        results.append(max(normalized_probs, key=normalized_probs.get))\n",
    "    return results\n",
    "\n",
    "\n",
    "# 测试数据\n",
    "test_data = pd.DataFrame([[0, 0, 1]], columns=['A', 'B', 'C'])\n",
    "predictions = predict(test_data, prior_prob, condition_prob)\n",
    "\n",
    "# 输出预测结果\n",
    "print(\"Predictions:\")\n",
    "print(predictions)"
   ]
  },
  {
   "cell_type": "markdown",
   "metadata": {},
   "source": [
    "### 最终分析结果解释\n",
    "在我们的朴素贝叶斯分类器实现中，我们没有使用拉普拉斯平滑处理。根据运行结果，特征 C 当值为 1 时，在训练数据集中总是对应于目标类别 0。因此，当我们对新样本（特征 A=0, B=0, C=1）进行分类预测时，分类器直接判定该样本属于类别 0。\n",
    "\n",
    "这种情况突显了在某些特征值在特定类别中完全缺失时，朴素贝叶斯分类器可能会直接做出决策的局限性。这也展示了拉普拉斯平滑的重要性：通过对每个类别的计数中添加一个小的常数（通常是1），拉普拉斯平滑可以避免因训练数据中的特征值缺失而导致的概率计算为零，从而使模型对未见过的特征组合具有更好的泛化能力。\n",
    "\n",
    "因此，在面对实际数据集时，特别是那些可能存在未观察到的特征值组合的数据集时，推荐使用拉普拉斯平滑来增强朴素贝叶斯模型的稳健性和预测能力。\n",
    "\n",
    "以下是加入拉普拉斯平滑后的结果"
   ]
  },
  {
   "cell_type": "code",
   "execution_count": 56,
   "metadata": {},
   "outputs": [],
   "source": [
    "def naive_bayes(X_data, Y_data):\n",
    "    y = Y_data.values\n",
    "    y_unique = np.unique(y)\n",
    "    prior_prob = {yu: (np.sum(y == yu) + 1) / (len(y) + len(y_unique))\n",
    "                  for yu in y_unique}\n",
    "\n",
    "    condition_prob = {}\n",
    "    for feature in X_data.columns:\n",
    "        condition_prob[feature] = {}\n",
    "        for yu in y_unique:\n",
    "            subset = X_data[y == yu]\n",
    "            feature_counts = subset[feature].value_counts(normalize=True)\n",
    "            condition_prob[feature][yu] = {k: (v + 1) / (len(subset) + len(subset[feature].unique())) for k, v in feature_counts.items()}\n",
    "\n",
    "    return prior_prob, condition_prob\n",
    "\n",
    "\n",
    "# 分离特征和标签\n",
    "X_data = Data[['A', 'B', 'C']]\n",
    "Y_data = Data['y']\n",
    "\n",
    "# 计算先验概率和条件概率\n",
    "prior_prob, condition_prob = naive_bayes(X_data, Y_data)"
   ]
  },
  {
   "cell_type": "code",
   "execution_count": 57,
   "metadata": {},
   "outputs": [
    {
     "name": "stdout",
     "output_type": "stream",
     "text": [
      "先验概率:\n",
      "{0: 0.4166666666666667, 1: 0.5833333333333334}\n",
      "\n",
      "条件概率:\n",
      "特征 A:\n",
      "  0: {0: 0.2916666666666667, 1: 0.20833333333333334}\n",
      "  1: {1: 0.20833333333333331, 0: 0.16666666666666666}\n",
      "特征 B:\n",
      "  0: {1: 0.2916666666666667, 0: 0.20833333333333334}\n",
      "  1: {0: 0.20833333333333331, 1: 0.16666666666666666}\n",
      "特征 C:\n",
      "  0: {1: 0.2916666666666667, 0: 0.20833333333333334}\n",
      "  1: {0: 0.2857142857142857}\n"
     ]
    }
   ],
   "source": [
    "print(\"先验概率:\")\n",
    "print(prior_prob)\n",
    "print(\"\\n条件概率:\")\n",
    "for feature, probs in condition_prob.items():\n",
    "    print(f\"特征 {feature}:\")\n",
    "    for class_val, prob in probs.items():\n",
    "        print(f\"  {class_val}: {prob}\")\n"
   ]
  },
  {
   "cell_type": "code",
   "execution_count": 58,
   "metadata": {},
   "outputs": [
    {
     "data": {
      "text/plain": [
       "[0]"
      ]
     },
     "execution_count": 58,
     "metadata": {},
     "output_type": "execute_result"
    }
   ],
   "source": [
    "def predict_with_laplace(test_data, prior_prob, condition_prob):\n",
    "    results = []\n",
    "    for index, row in test_data.iterrows():\n",
    "        class_probs = {yu: prior_prob[yu] for yu in prior_prob.keys()}\n",
    "        for feature in test_data.columns:\n",
    "            for yu in class_probs:\n",
    "                feature_prob = condition_prob[feature][yu].get(row[feature], 0)\n",
    "                class_probs[yu] *= feature_prob\n",
    "\n",
    "        total_prob = sum(class_probs.values())\n",
    "        normalized_probs = {k: (v + 1) / (total_prob + len(class_probs)) for k, v in class_probs.items()}\n",
    "        results.append(max(normalized_probs, key=normalized_probs.get))\n",
    "    return results\n",
    "\n",
    "# Predict test data with Laplace smoothing\n",
    "predictions_with_laplace = predict_with_laplace(test_data, prior_prob, condition_prob)\n",
    "predictions_with_laplace"
   ]
  },
  {
   "cell_type": "markdown",
   "metadata": {},
   "source": [
    "### 加入拉普拉斯后结果任然是0"
   ]
  },
  {
   "cell_type": "markdown",
   "metadata": {},
   "source": [
    "    "
   ]
  },
  {
   "cell_type": "markdown",
   "metadata": {},
   "source": []
  },
  {
   "cell_type": "code",
   "execution_count": 59,
   "metadata": {
    "notebookRunGroups": {
     "groupValue": "2"
    }
   },
   "outputs": [
    {
     "data": {
      "text/html": [
       "<div>\n",
       "<style scoped>\n",
       "    .dataframe tbody tr th:only-of-type {\n",
       "        vertical-align: middle;\n",
       "    }\n",
       "\n",
       "    .dataframe tbody tr th {\n",
       "        vertical-align: top;\n",
       "    }\n",
       "\n",
       "    .dataframe thead th {\n",
       "        text-align: right;\n",
       "    }\n",
       "</style>\n",
       "<table border=\"1\" class=\"dataframe\">\n",
       "  <thead>\n",
       "    <tr style=\"text-align: right;\">\n",
       "      <th></th>\n",
       "      <th>Outlook</th>\n",
       "      <th>Temperature</th>\n",
       "      <th>Humidity</th>\n",
       "      <th>Wind</th>\n",
       "      <th>Play Tennis</th>\n",
       "    </tr>\n",
       "  </thead>\n",
       "  <tbody>\n",
       "    <tr>\n",
       "      <th>0</th>\n",
       "      <td>Sunny</td>\n",
       "      <td>Hot</td>\n",
       "      <td>High</td>\n",
       "      <td>Weak</td>\n",
       "      <td>No</td>\n",
       "    </tr>\n",
       "    <tr>\n",
       "      <th>1</th>\n",
       "      <td>Sunny</td>\n",
       "      <td>Hot</td>\n",
       "      <td>High</td>\n",
       "      <td>Strong</td>\n",
       "      <td>No</td>\n",
       "    </tr>\n",
       "    <tr>\n",
       "      <th>2</th>\n",
       "      <td>Overcast</td>\n",
       "      <td>Hot</td>\n",
       "      <td>High</td>\n",
       "      <td>Weak</td>\n",
       "      <td>Yes</td>\n",
       "    </tr>\n",
       "    <tr>\n",
       "      <th>3</th>\n",
       "      <td>Rain</td>\n",
       "      <td>Mild</td>\n",
       "      <td>High</td>\n",
       "      <td>Weak</td>\n",
       "      <td>Yes</td>\n",
       "    </tr>\n",
       "    <tr>\n",
       "      <th>4</th>\n",
       "      <td>Rain</td>\n",
       "      <td>Cool</td>\n",
       "      <td>Normal</td>\n",
       "      <td>Weak</td>\n",
       "      <td>Yes</td>\n",
       "    </tr>\n",
       "  </tbody>\n",
       "</table>\n",
       "</div>"
      ],
      "text/plain": [
       "    Outlook Temperature Humidity    Wind Play Tennis\n",
       "0     Sunny         Hot     High    Weak          No\n",
       "1     Sunny         Hot     High  Strong          No\n",
       "2  Overcast         Hot     High    Weak         Yes\n",
       "3      Rain        Mild     High    Weak         Yes\n",
       "4      Rain        Cool   Normal    Weak         Yes"
      ]
     },
     "execution_count": 59,
     "metadata": {},
     "output_type": "execute_result"
    }
   ],
   "source": [
    "import numpy as np\n",
    "import pandas as pd\n",
    "\n",
    "# 构建示例数据集\n",
    "data = [\n",
    "    ['Sunny', 'Hot', 'High', 'Weak', 'No'],\n",
    "    ['Sunny', 'Hot', 'High', 'Strong', 'No'],\n",
    "    ['Overcast', 'Hot', 'High', 'Weak', 'Yes'],\n",
    "    ['Rain', 'Mild', 'High', 'Weak', 'Yes'],\n",
    "    ['Rain', 'Cool', 'Normal', 'Weak', 'Yes'],\n",
    "    ['Rain', 'Cool', 'Normal', 'Strong', 'No'],\n",
    "    ['Overcast', 'Cool', 'Normal', 'Strong', 'Yes'],\n",
    "    ['Sunny', 'Mild', 'High', 'Weak', 'No'],\n",
    "    ['Sunny', 'Cool', 'Normal', 'Weak', 'Yes'],\n",
    "    ['Rain', 'Mild', 'Normal', 'Weak', 'Yes'],\n",
    "    ['Sunny', 'Mild', 'Normal', 'Strong', 'Yes'],\n",
    "    ['Overcast', 'Mild', 'High', 'Strong', 'Yes'],\n",
    "    ['Overcast', 'Hot', 'Normal', 'Weak', 'Yes'],\n",
    "    ['Rain', 'Mild', 'High', 'Strong', 'No']\n",
    "]\n",
    "columns = ['Outlook', 'Temperature', 'Humidity', 'Wind', 'Play Tennis']\n",
    "df = pd.DataFrame(data, columns=columns)\n",
    "df.head()"
   ]
  },
  {
   "cell_type": "markdown",
   "metadata": {},
   "source": [
    " 数据预处理：将字符串标签转换为数值"
   ]
  },
  {
   "cell_type": "code",
   "execution_count": 60,
   "metadata": {},
   "outputs": [
    {
     "data": {
      "text/html": [
       "<div>\n",
       "<style scoped>\n",
       "    .dataframe tbody tr th:only-of-type {\n",
       "        vertical-align: middle;\n",
       "    }\n",
       "\n",
       "    .dataframe tbody tr th {\n",
       "        vertical-align: top;\n",
       "    }\n",
       "\n",
       "    .dataframe thead th {\n",
       "        text-align: right;\n",
       "    }\n",
       "</style>\n",
       "<table border=\"1\" class=\"dataframe\">\n",
       "  <thead>\n",
       "    <tr style=\"text-align: right;\">\n",
       "      <th></th>\n",
       "      <th>Outlook</th>\n",
       "      <th>Temperature</th>\n",
       "      <th>Humidity</th>\n",
       "      <th>Wind</th>\n",
       "      <th>Play Tennis</th>\n",
       "    </tr>\n",
       "  </thead>\n",
       "  <tbody>\n",
       "    <tr>\n",
       "      <th>0</th>\n",
       "      <td>0</td>\n",
       "      <td>0</td>\n",
       "      <td>0</td>\n",
       "      <td>0</td>\n",
       "      <td>0</td>\n",
       "    </tr>\n",
       "    <tr>\n",
       "      <th>1</th>\n",
       "      <td>0</td>\n",
       "      <td>0</td>\n",
       "      <td>0</td>\n",
       "      <td>1</td>\n",
       "      <td>0</td>\n",
       "    </tr>\n",
       "    <tr>\n",
       "      <th>2</th>\n",
       "      <td>1</td>\n",
       "      <td>0</td>\n",
       "      <td>0</td>\n",
       "      <td>0</td>\n",
       "      <td>1</td>\n",
       "    </tr>\n",
       "    <tr>\n",
       "      <th>3</th>\n",
       "      <td>2</td>\n",
       "      <td>1</td>\n",
       "      <td>0</td>\n",
       "      <td>0</td>\n",
       "      <td>1</td>\n",
       "    </tr>\n",
       "    <tr>\n",
       "      <th>4</th>\n",
       "      <td>2</td>\n",
       "      <td>2</td>\n",
       "      <td>1</td>\n",
       "      <td>0</td>\n",
       "      <td>1</td>\n",
       "    </tr>\n",
       "    <tr>\n",
       "      <th>5</th>\n",
       "      <td>2</td>\n",
       "      <td>2</td>\n",
       "      <td>1</td>\n",
       "      <td>1</td>\n",
       "      <td>0</td>\n",
       "    </tr>\n",
       "    <tr>\n",
       "      <th>6</th>\n",
       "      <td>1</td>\n",
       "      <td>2</td>\n",
       "      <td>1</td>\n",
       "      <td>1</td>\n",
       "      <td>1</td>\n",
       "    </tr>\n",
       "    <tr>\n",
       "      <th>7</th>\n",
       "      <td>0</td>\n",
       "      <td>1</td>\n",
       "      <td>0</td>\n",
       "      <td>0</td>\n",
       "      <td>0</td>\n",
       "    </tr>\n",
       "    <tr>\n",
       "      <th>8</th>\n",
       "      <td>0</td>\n",
       "      <td>2</td>\n",
       "      <td>1</td>\n",
       "      <td>0</td>\n",
       "      <td>1</td>\n",
       "    </tr>\n",
       "    <tr>\n",
       "      <th>9</th>\n",
       "      <td>2</td>\n",
       "      <td>1</td>\n",
       "      <td>1</td>\n",
       "      <td>0</td>\n",
       "      <td>1</td>\n",
       "    </tr>\n",
       "    <tr>\n",
       "      <th>10</th>\n",
       "      <td>0</td>\n",
       "      <td>1</td>\n",
       "      <td>1</td>\n",
       "      <td>1</td>\n",
       "      <td>1</td>\n",
       "    </tr>\n",
       "    <tr>\n",
       "      <th>11</th>\n",
       "      <td>1</td>\n",
       "      <td>1</td>\n",
       "      <td>0</td>\n",
       "      <td>1</td>\n",
       "      <td>1</td>\n",
       "    </tr>\n",
       "    <tr>\n",
       "      <th>12</th>\n",
       "      <td>1</td>\n",
       "      <td>0</td>\n",
       "      <td>1</td>\n",
       "      <td>0</td>\n",
       "      <td>1</td>\n",
       "    </tr>\n",
       "    <tr>\n",
       "      <th>13</th>\n",
       "      <td>2</td>\n",
       "      <td>1</td>\n",
       "      <td>0</td>\n",
       "      <td>1</td>\n",
       "      <td>0</td>\n",
       "    </tr>\n",
       "  </tbody>\n",
       "</table>\n",
       "</div>"
      ],
      "text/plain": [
       "    Outlook  Temperature  Humidity  Wind  Play Tennis\n",
       "0         0            0         0     0            0\n",
       "1         0            0         0     1            0\n",
       "2         1            0         0     0            1\n",
       "3         2            1         0     0            1\n",
       "4         2            2         1     0            1\n",
       "5         2            2         1     1            0\n",
       "6         1            2         1     1            1\n",
       "7         0            1         0     0            0\n",
       "8         0            2         1     0            1\n",
       "9         2            1         1     0            1\n",
       "10        0            1         1     1            1\n",
       "11        1            1         0     1            1\n",
       "12        1            0         1     0            1\n",
       "13        2            1         0     1            0"
      ]
     },
     "execution_count": 60,
     "metadata": {},
     "output_type": "execute_result"
    }
   ],
   "source": [
    "feature2NUM = {}\n",
    "for col in columns:\n",
    "    for idx, val in enumerate(df[col].unique()):\n",
    "        feature2NUM[val] = idx\n",
    "\n",
    "df_encoded = df.applymap(lambda x: feature2NUM[x])\n",
    "df_encoded"
   ]
  },
  {
   "cell_type": "markdown",
   "metadata": {},
   "source": [
    "划分特征和标签"
   ]
  },
  {
   "cell_type": "code",
   "execution_count": 61,
   "metadata": {},
   "outputs": [
    {
     "data": {
      "text/plain": [
       "0     0\n",
       "1     0\n",
       "2     1\n",
       "3     1\n",
       "4     1\n",
       "5     0\n",
       "6     1\n",
       "7     0\n",
       "8     1\n",
       "9     1\n",
       "10    1\n",
       "11    1\n",
       "12    1\n",
       "13    0\n",
       "Name: Play Tennis, dtype: int64"
      ]
     },
     "execution_count": 61,
     "metadata": {},
     "output_type": "execute_result"
    }
   ],
   "source": [
    "x = df_encoded.iloc[:, :-1]\n",
    "y = df_encoded.iloc[:, -1]\n",
    "y\n"
   ]
  },
  {
   "cell_type": "markdown",
   "metadata": {},
   "source": [
    "### 定义朴素贝叶斯分类器类"
   ]
  },
  {
   "cell_type": "code",
   "execution_count": 62,
   "metadata": {},
   "outputs": [],
   "source": [
    "class NaiveBayesClassifier:\n",
    "    def __init__(self, x, y):\n",
    "        self.features = x\n",
    "        self.labels = y\n",
    "        self.prior_prob = {}\n",
    "        self.likelihood = {}\n",
    "\n",
    "    def train(self):\n",
    "        label_counts = self.labels.value_counts()\n",
    "        total_count = len(self.labels)\n",
    "\n",
    "        # 计算先验概率\n",
    "        self.prior_prob = {label: count / total_count for label, count in label_counts.items()}\n",
    "\n",
    "        # 计算条件概率（似然）\n",
    "        for label in label_counts.index:\n",
    "            self.likelihood[label] = {}\n",
    "            label_df = self.features[self.labels == label]\n",
    "            for col in self.features.columns:\n",
    "                self.likelihood[label][col] = {}\n",
    "                value_counts = label_df[col].value_counts()\n",
    "                for value, count in value_counts.items():\n",
    "                    self.likelihood[label][col][value] = count / label_counts[label]\n",
    "\n",
    "    def predict(self, test_data):\n",
    "        results = {}\n",
    "        for label in self.prior_prob:\n",
    "            prob = self.prior_prob[label]\n",
    "            for col, value in test_data.items():\n",
    "                prob *= self.likelihood[label].get(col, {}).get(value, 1)\n",
    "            results[label] = prob\n",
    "        total_prob = sum(results.values())\n",
    "        return {label: prob / total_prob for label, prob in results.items()}\n"
   ]
  },
  {
   "cell_type": "code",
   "execution_count": 63,
   "metadata": {},
   "outputs": [],
   "source": [
    "classifier = NaiveBayesClassifier(x, y)\n",
    "classifier.train()"
   ]
  },
  {
   "cell_type": "markdown",
   "metadata": {},
   "source": [
    "### 预测新数据"
   ]
  },
  {
   "cell_type": "code",
   "execution_count": 64,
   "metadata": {},
   "outputs": [
    {
     "data": {
      "text/plain": [
       "{1: 0.20458265139116202, 0: 0.795417348608838}"
      ]
     },
     "execution_count": 64,
     "metadata": {},
     "output_type": "execute_result"
    }
   ],
   "source": [
    "test = ['Sunny', 'Cool', 'High', 'Strong']\n",
    "test_data = {columns[i]: feature2NUM[val] for i, val in enumerate(test)}\n",
    "prediction = classifier.predict(test_data)\n",
    "prediction"
   ]
  },
  {
   "cell_type": "markdown",
   "metadata": {},
   "source": [
    "### 输出预测结果"
   ]
  },
  {
   "cell_type": "code",
   "execution_count": 65,
   "metadata": {},
   "outputs": [
    {
     "name": "stdout",
     "output_type": "stream",
     "text": [
      "Predicted decision for playing tennis: No\n"
     ]
    }
   ],
   "source": [
    "label_decoder = {v: k for k, v in feature2NUM.items() if k in df['Play Tennis'].unique()}\n",
    "predicted_label = max(prediction, key=prediction.get)\n",
    "print(f\"Predicted decision for playing tennis: {label_decoder[predicted_label]}\")"
   ]
  }
 ],
 "metadata": {
  "kernelspec": {
   "display_name": "Python 3",
   "language": "python",
   "name": "python3"
  },
  "language_info": {
   "codemirror_mode": {
    "name": "ipython",
    "version": 3
   },
   "file_extension": ".py",
   "mimetype": "text/x-python",
   "name": "python",
   "nbconvert_exporter": "python",
   "pygments_lexer": "ipython3",
   "version": "3.11.5"
  }
 },
 "nbformat": 4,
 "nbformat_minor": 2
}
