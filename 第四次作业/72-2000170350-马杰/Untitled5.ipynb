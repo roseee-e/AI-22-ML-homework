{
 "cells": [
  {
   "cell_type": "code",
   "execution_count": 1,
   "id": "433781b3-d254-49d7-a002-e7f10725a6e2",
   "metadata": {},
   "outputs": [],
   "source": [
    "import pandas as pd\n",
    "from sklearn.model_selection import train_test_split\n",
    "from sklearn.naive_bayes import GaussianNB\n",
    "from sklearn.preprocessing import LabelEncoder"
   ]
  },
  {
   "cell_type": "code",
   "execution_count": 2,
   "id": "e6abfb90-3d50-4333-8720-24cabf7be053",
   "metadata": {},
   "outputs": [],
   "source": [
    "file_path = 'e1.csv'\n",
    "dataset = pd.read_csv(file_path)"
   ]
  },
  {
   "cell_type": "code",
   "execution_count": 3,
   "id": "f6399a80-e990-4a0a-a415-c922e6bc4ec5",
   "metadata": {},
   "outputs": [],
   "source": [
    "X = dataset.drop('PlayTennis', axis=1)\n",
    "y = dataset['PlayTennis']"
   ]
  },
  {
   "cell_type": "code",
   "execution_count": 4,
   "id": "0b8a0697-1001-4c99-b014-1644815e61f5",
   "metadata": {},
   "outputs": [],
   "source": [
    "label_encoders = {}\n",
    "X_encoded = X.copy()\n",
    "for column in X_encoded.columns:\n",
    "    if X_encoded[column].dtype == 'object':\n",
    "        label_encoders[column] = LabelEncoder()\n",
    "        X_encoded[column] = label_encoders[column].fit_transform(X_encoded[column])\n",
    "\n",
    "\n",
    "X_train, X_test, y_train, y_test = train_test_split(X_encoded, y, test_size=0.2, random_state=42)\n",
    "\n",
    "\n",
    "nb_classifier = GaussianNB()\n",
    "nb_classifier.fit(X_train, y_train)\n",
    "\n",
    "\n",
    "input_data = pd.DataFrame({'Outlook': ['Sunny'], 'Temperature': ['Cool'], 'Humidity': ['High'], 'Wind': ['Strong'], 'Day': [1]})\n",
    "\n",
    "\n",
    "label_encoders['Day'] = LabelEncoder()\n",
    "label_encoders['Day'].fit([1])  \n",
    "\n",
    "\n",
    "input_data_encoded = input_data.copy()\n",
    "for column in input_data_encoded.columns:\n",
    "    input_data_encoded[column] = label_encoders[column].transform(input_data_encoded[column])\n",
    "\n",
    "\n",
    "input_data_encoded = input_data_encoded[X_train.columns]"
   ]
  },
  {
   "cell_type": "code",
   "execution_count": 5,
   "id": "ee894c50-e260-4bfa-ac19-d5016ec9d5bf",
   "metadata": {},
   "outputs": [
    {
     "name": "stdout",
     "output_type": "stream",
     "text": [
      "Predicted Play Tennis: No\n"
     ]
    }
   ],
   "source": [
    "prediction = nb_classifier.predict(input_data_encoded)\n",
    "predicted_play_tennis = 'Yes' if prediction[0] == 1 else 'No'\n",
    "print(f\"Predicted Play Tennis: {predicted_play_tennis}\")"
   ]
  },
  {
   "cell_type": "code",
   "execution_count": null,
   "id": "7499509b-9a07-4569-ae1a-aa201a484568",
   "metadata": {},
   "outputs": [],
   "source": []
  }
 ],
 "metadata": {
  "kernelspec": {
   "display_name": "Python 3 (ipykernel)",
   "language": "python",
   "name": "python3"
  },
  "language_info": {
   "codemirror_mode": {
    "name": "ipython",
    "version": 3
   },
   "file_extension": ".py",
   "mimetype": "text/x-python",
   "name": "python",
   "nbconvert_exporter": "python",
   "pygments_lexer": "ipython3",
   "version": "3.11.7"
  }
 },
 "nbformat": 4,
 "nbformat_minor": 5
}
