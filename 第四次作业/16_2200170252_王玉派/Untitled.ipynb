{
 "cells": [
  {
   "cell_type": "code",
   "execution_count": 25,
   "id": "9f6da4f3-274a-4098-9d39-3bcc8d1c21c4",
   "metadata": {},
   "outputs": [],
   "source": [
    "import pandas as pd\n",
    "import numpy as np\n",
    "from collections import defaultdict\n"
   ]
  },
  {
   "cell_type": "code",
   "execution_count": 24,
   "id": "ef791fc3-df0e-45b6-bc01-54ad04caf026",
   "metadata": {},
   "outputs": [],
   "source": [
    "data = [['Sunny', 'Hot', 'High', 'Weak', 0], ['Sunny', 'Hot', 'High', 'Strong', 0],\n",
    "        ['Overcast', 'Hot', 'High', 'Weak', 1], ['Rain', 'Mild', 'High', 'Weak', 1],\n",
    "        ['Rain', 'Cool', 'Normal', 'Weak', 1], ['Rain', 'Cool', 'Normal', 'Strong', 0],\n",
    "        ['Overcast', 'Cool', 'Normal', 'Strong', 1], ['Sunny', 'Mild', 'High', 'Weak', 0],\n",
    "        ['Sunny', 'Cool', 'Normal', 'Weak', 1], ['Rain', 'Mild', 'Normal', 'Weak', 'Yes'],\n",
    "        ['Sunny', 'Mild', 'Normal', 'Strong', 1], ['Overcast', 'Mild', 'High', 'Strong', 0],\n",
    "        ['Overcast', 'Hot', 'Normal', 'Weak', 1], ['Rain', 'Mild', 'High', 'Strong', 0]\n",
    "        ]\n"
   ]
  },
  {
   "cell_type": "code",
   "execution_count": 28,
   "id": "80a4ea1e-b658-4b38-81b8-2ae99ae91424",
   "metadata": {},
   "outputs": [],
   "source": [
    "def c_prior_prob(data):\n",
    "    class_counts = defaultdict(int)\n",
    "    total_samples = len(data)\n",
    "    for sample in data:\n",
    "        class_counts[sample[-1]] += 1\n",
    "    \n",
    "    prior_prob = {}\n",
    "    for class_label, count in class_counts.items():\n",
    "        prior_prob[class_label] = count / total_samples\n",
    "    \n",
    "    return prior_prob\n"
   ]
  },
  {
   "cell_type": "code",
   "execution_count": 30,
   "id": "66976156-ba8c-4984-98ea-d95358105063",
   "metadata": {},
   "outputs": [],
   "source": [
    "def c_conditional_prob(data):\n",
    "    conditional_prob= defaultdict(lambda: defaultdict(lambda: defaultdict(int)))\n",
    "    feature_value_counts = defaultdict(lambda: defaultdict(int))\n",
    "    \n",
    "    for sample in data:\n",
    "        class_label = sample[-1]\n",
    "        for i, feature_value in enumerate(sample[:-1]):\n",
    "            feature_value_counts[i][class_label, feature_value] += 1\n",
    "    \n",
    "    for feature, class_values in feature_value_counts.items():\n",
    "        for (class_label, feature_value), count in class_values.items():\n",
    "            conditional_prob[feature][class_label][feature_value] = count\n",
    "    \n",
    "    # Normalize probabilities\n",
    "    for feature, class_values in conditional_prob.items():\n",
    "        for class_label, feature_values in class_values.items():\n",
    "            total_count = sum(feature_values.values())\n",
    "            for feature_value in feature_values:\n",
    "                conditional_prob[feature][class_label][feature_value] /= total_count\n",
    "    \n",
    "    return conditional_prob"
   ]
  },
  {
   "cell_type": "code",
   "execution_count": 16,
   "id": "845771c4-7b62-4823-a803-72ac05d77a57",
   "metadata": {},
   "outputs": [],
   "source": [
    "def predict(test_data, prior_prob, conditional_prob):\n",
    "    classes = list(prior_prob.keys())\n",
    "    prob = {}\n",
    "    \n",
    "    for class_label in classes:\n",
    "        prob1 = prior_prob[class_label]\n",
    "        for i, feature_value in enumerate(test_data):\n",
    "            prob1 *= conditional_prob[i][class_label][feature_value]\n",
    "        prob[class_label] = prob1\n",
    "    \n",
    "    # Normalize probabilities\n",
    "    total_prob= sum(prob.values())\n",
    "    for class_label in classes:\n",
    "        prob[class_label] /= total_prob\n",
    "    \n",
    "    return prob"
   ]
  },
  {
   "cell_type": "code",
   "execution_count": 32,
   "id": "254267e2-6ab8-4642-baf3-183c5ae18793",
   "metadata": {},
   "outputs": [
    {
     "name": "stdout",
     "output_type": "stream",
     "text": [
      "Predicted Probabilities: {0: 0.7987890079180252, 1: 0.20121099208197482, 'Yes': 0.0}\n"
     ]
    }
   ],
   "source": [
    "prior = c_prior_prob(data)\n",
    "\n",
    "# 计算条件概率\n",
    "conditional_prob = c_conditional_prob(data)\n",
    "\n",
    "# 测试数据\n",
    "test_data = ['Sunny', 'Cool', 'High', 'Strong']\n",
    "\n",
    "# 预测\n",
    "predicted_prob = predict(test_data, prior, conditional_prob)\n",
    "print(\"Predicted Probabilities:\", predicted_prob)"
   ]
  },
  {
   "cell_type": "code",
   "execution_count": null,
   "id": "397484c4-d183-40c1-b7b4-397649b0581c",
   "metadata": {},
   "outputs": [],
   "source": []
  }
 ],
 "metadata": {
  "kernelspec": {
   "display_name": "Python 3 (ipykernel)",
   "language": "python",
   "name": "python3"
  },
  "language_info": {
   "codemirror_mode": {
    "name": "ipython",
    "version": 3
   },
   "file_extension": ".py",
   "mimetype": "text/x-python",
   "name": "python",
   "nbconvert_exporter": "python",
   "pygments_lexer": "ipython3",
   "version": "3.11.7"
  }
 },
 "nbformat": 4,
 "nbformat_minor": 5
}
