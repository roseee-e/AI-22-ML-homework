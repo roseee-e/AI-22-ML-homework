{
 "cells": [
  {
   "cell_type": "code",
   "execution_count": 2,
   "metadata": {},
   "outputs": [],
   "source": [
    "import numpy as np\n",
    "import pandas as pd"
   ]
  },
  {
   "cell_type": "code",
   "execution_count": 3,
   "metadata": {},
   "outputs": [],
   "source": [
    "data = [[1,0,0,1],[0,1,0,0],[0,1,0,1],[1,0,0,1],\\\n",
    "        [0,1,1,0],[1,0,1,0],[0,0,0,1],[0,1,1,0],[1,0,0,1],[1,1,0,1]]"
   ]
  },
  {
   "cell_type": "code",
   "execution_count": 4,
   "metadata": {},
   "outputs": [
    {
     "data": {
      "text/html": [
       "<div>\n",
       "<style scoped>\n",
       "    .dataframe tbody tr th:only-of-type {\n",
       "        vertical-align: middle;\n",
       "    }\n",
       "\n",
       "    .dataframe tbody tr th {\n",
       "        vertical-align: top;\n",
       "    }\n",
       "\n",
       "    .dataframe thead th {\n",
       "        text-align: right;\n",
       "    }\n",
       "</style>\n",
       "<table border=\"1\" class=\"dataframe\">\n",
       "  <thead>\n",
       "    <tr style=\"text-align: right;\">\n",
       "      <th></th>\n",
       "      <th>x1</th>\n",
       "      <th>x2</th>\n",
       "      <th>x3</th>\n",
       "      <th>y</th>\n",
       "    </tr>\n",
       "  </thead>\n",
       "  <tbody>\n",
       "    <tr>\n",
       "      <th>0</th>\n",
       "      <td>1</td>\n",
       "      <td>0</td>\n",
       "      <td>0</td>\n",
       "      <td>1</td>\n",
       "    </tr>\n",
       "    <tr>\n",
       "      <th>1</th>\n",
       "      <td>0</td>\n",
       "      <td>1</td>\n",
       "      <td>0</td>\n",
       "      <td>0</td>\n",
       "    </tr>\n",
       "    <tr>\n",
       "      <th>2</th>\n",
       "      <td>0</td>\n",
       "      <td>1</td>\n",
       "      <td>0</td>\n",
       "      <td>1</td>\n",
       "    </tr>\n",
       "    <tr>\n",
       "      <th>3</th>\n",
       "      <td>1</td>\n",
       "      <td>0</td>\n",
       "      <td>0</td>\n",
       "      <td>1</td>\n",
       "    </tr>\n",
       "    <tr>\n",
       "      <th>4</th>\n",
       "      <td>0</td>\n",
       "      <td>1</td>\n",
       "      <td>1</td>\n",
       "      <td>0</td>\n",
       "    </tr>\n",
       "  </tbody>\n",
       "</table>\n",
       "</div>"
      ],
      "text/plain": [
       "   x1  x2  x3  y\n",
       "0   1   0   0  1\n",
       "1   0   1   0  0\n",
       "2   0   1   0  1\n",
       "3   1   0   0  1\n",
       "4   0   1   1  0"
      ]
     },
     "execution_count": 4,
     "metadata": {},
     "output_type": "execute_result"
    }
   ],
   "source": [
    "Data = pd.DataFrame(data,columns=['x1','x2','x3','y'])\n",
    "Data.head()"
   ]
  },
  {
   "cell_type": "code",
   "execution_count": 5,
   "metadata": {},
   "outputs": [],
   "source": [
    "cols=Data.shape[1]\n",
    "X_data=Data.iloc[:,:cols-1]\n",
    "Y_data = Data.iloc[:,cols-1:]\n",
    "featureNames=X_data.columns\n"
   ]
  },
  {
   "cell_type": "code",
   "execution_count": 6,
   "metadata": {},
   "outputs": [],
   "source": [
    "def Naive_Bayes(X_data,Y_data):\n",
    "    y=Y_data.values\n",
    "    x=X_data.values\n",
    "    y_unique=np.unique(y)\n",
    "    prior_prob=np.zeros(len(y_unique))\n",
    "    for i in range(len(y_unique)):\n",
    "        prior_prob[i]=sum(y==y_unique[i]/len(y))\n",
    "    condition_prob={}\n",
    "    for feat in featureNames:\n",
    "        x_unique=list(set(X_data[feat]))\n",
    "        x_condition_prob=np.zeros((len(y_unique),len(x_unique)))\n",
    "        for j in range(len(y_unique)):\n",
    "            for k in range(len(x_unique)):\n",
    "                x_condition_prob[j,k]=sum((X_data[feat]==x_unique[k])&(Y_data.y==y_unique[j]))/sum(y==y_unique[j])\n",
    "        x_condition_prob = pd.DataFrame(x_condition_prob,columns=x_unique,index=y_unique)\n",
    "        condition_prob[feat] = x_condition_prob\n",
    "    return prior_prob,condition_prob\n"
   ]
  },
  {
   "cell_type": "code",
   "execution_count": 7,
   "metadata": {},
   "outputs": [
    {
     "name": "stdout",
     "output_type": "stream",
     "text": [
      "[4. 0.]\n",
      "          0         1\n",
      "0  0.750000  0.250000\n",
      "1  0.333333  0.666667\n",
      "          0         1\n",
      "0  0.250000  0.750000\n",
      "1  0.666667  0.333333\n",
      "      0     1\n",
      "0  0.25  0.75\n",
      "1  1.00  0.00\n"
     ]
    }
   ],
   "source": [
    "prior_prob,condition_prob=Naive_Bayes(X_data,Y_data)\n",
    "print(prior_prob)\n",
    "print(condition_prob['x1'])\n",
    "print(condition_prob['x2'])\n",
    "print(condition_prob['x3'])"
   ]
  },
  {
   "cell_type": "code",
   "execution_count": 8,
   "metadata": {},
   "outputs": [],
   "source": [
    "##testData is a dataFrame\n",
    "def Prediction(testData,prior,condition_prob):\n",
    "    numclass =prior.shape[0]\n",
    "    featureNames =testData.columns\n",
    "    numclass =prior.shape[0]\n",
    "    numsample =testData.shape [0]\n",
    "    featureNames =testData.columns\n",
    "    post_prob =np.zeros((numsample,numclass))\n",
    "    for k in range(numsample):\n",
    "        prob_k =np.zeros((numclass,))\n",
    "        for i in range(numclass):\n",
    "            pri =prior[i]\n",
    "            for feat in featureNames:\n",
    "                feat_val =testData[feat][k]\n",
    "                cp =condition_prob[feat]\n",
    "                cp_val=cp.loc[i,feat_val]\n",
    "                pri *=cp_val\n",
    "            prob_k[i]=pri\n",
    "        prob =prob_k/np.sum(prob_k,axis =0)\n",
    "        post_prob[k,:]=prob\n",
    "    return post_prob"
   ]
  },
  {
   "cell_type": "code",
   "execution_count": 9,
   "metadata": {},
   "outputs": [
    {
     "data": {
      "text/plain": [
       "array([[1., 0.]])"
      ]
     },
     "execution_count": 9,
     "metadata": {},
     "output_type": "execute_result"
    }
   ],
   "source": [
    "test_data =[[0,0,1]]\n",
    "testData =pd.DataFrame(test_data,columns=['x1','x2','x3'])#cons\n",
    "testData.head()\n",
    "postPrior =Prediction(testData,prior_prob,condition_prob)\n",
    "postPrior"
   ]
  },
  {
   "cell_type": "markdown",
   "metadata": {},
   "source": [
    " 由运行结果可知没有拉普拉斯平滑时由于c属性为1时必为0类，因此直接判定为0类"
   ]
  },
  {
   "cell_type": "markdown",
   "metadata": {},
   "source": [
    "### 以下是带有拉普拉斯平滑后的代码"
   ]
  },
  {
   "cell_type": "code",
   "execution_count": 10,
   "metadata": {},
   "outputs": [],
   "source": [
    "def LNaive_Bayes(X_data, Y_data, laplace_smoothing=1):\n",
    "    y = Y_data.values.flatten()  # 将Y_data转换为一维数组\n",
    "    x = X_data.values\n",
    "    y_unique = np.unique(y)\n",
    "    prior_prob = np.zeros(len(y_unique))\n",
    "    \n",
    "    for i in range(len(y_unique)):\n",
    "        prior_prob[i] = (sum(y == y_unique[i]) + laplace_smoothing) / (len(y) + len(y_unique) * laplace_smoothing)\n",
    "\n",
    "    # Calculate conditional probabilities with Laplace smoothing\n",
    "    condition_prob = {}\n",
    "    for feat in X_data.columns:\n",
    "        x_unique = list(set(X_data[feat]))\n",
    "        p_x_condition_prob = np.zeros((len(y_unique), len(x_unique)))\n",
    "        for j in range(len(y_unique)):\n",
    "            for k in range(len(x_unique)):\n",
    "                p_x_condition_prob[j, k] = (sum((X_data[feat] == x_unique[k]) & (y == y_unique[j])) + laplace_smoothing) / (sum(y == y_unique[j]) + len(x_unique) * laplace_smoothing)\n",
    "        p_x_condition_prob = pd.DataFrame(p_x_condition_prob, columns=x_unique, index=y_unique)\n",
    "        condition_prob[feat] = p_x_condition_prob\n",
    "\n",
    "    return prior_prob, condition_prob"
   ]
  },
  {
   "cell_type": "code",
   "execution_count": 11,
   "metadata": {},
   "outputs": [
    {
     "name": "stdout",
     "output_type": "stream",
     "text": [
      "[0.41666667 0.58333333]\n",
      "          0         1\n",
      "0  0.666667  0.333333\n",
      "1  0.375000  0.625000\n",
      "          0         1\n",
      "0  0.333333  0.666667\n",
      "1  0.625000  0.375000\n",
      "          0         1\n",
      "0  0.333333  0.666667\n",
      "1  0.875000  0.125000\n"
     ]
    }
   ],
   "source": [
    "prior_prob,condition_prob=LNaive_Bayes(X_data,Y_data)\n",
    "print(prior_prob)\n",
    "print(condition_prob['x1'])\n",
    "print(condition_prob['x2'])\n",
    "print(condition_prob['x3'])"
   ]
  },
  {
   "cell_type": "code",
   "execution_count": 12,
   "metadata": {},
   "outputs": [],
   "source": [
    "##testData is a dataFrame\n",
    "def Prediction(testData,prior,condition_prob):\n",
    "    numclass =prior.shape[0]\n",
    "    featureNames =testData.columns\n",
    "    numclass =prior.shape[0]\n",
    "    numsample =testData.shape [0]\n",
    "    featureNames =testData.columns\n",
    "    post_prob =np.zeros((numsample,numclass))\n",
    "    for k in range(numsample):\n",
    "        prob_k =np.zeros((numclass,))\n",
    "        for i in range(numclass):\n",
    "            pri =prior[i]\n",
    "            for feat in featureNames:\n",
    "                feat_val =testData[feat][k]\n",
    "                cp =condition_prob[feat]\n",
    "                cp_val=cp.loc[i,feat_val]\n",
    "                pri *=cp_val\n",
    "            prob_k[i]=pri\n",
    "        prob =prob_k/np.sum(prob_k,axis =0)\n",
    "        post_prob[k,:]=prob\n",
    "    return post_prob"
   ]
  },
  {
   "cell_type": "code",
   "execution_count": 13,
   "metadata": {},
   "outputs": [
    {
     "data": {
      "text/plain": [
       "array([[0.783174, 0.216826]])"
      ]
     },
     "execution_count": 13,
     "metadata": {},
     "output_type": "execute_result"
    }
   ],
   "source": [
    "test_data =[[0,0,1]]\n",
    "testData =pd.DataFrame(test_data,columns=['x1','x2','x3'])#cons\n",
    "testData.head()\n",
    "postPrior =Prediction(testData,prior_prob,condition_prob)\n",
    "postPrior"
   ]
  },
  {
   "cell_type": "markdown",
   "metadata": {},
   "source": [
    "拉普拉斯平滑之后的结果就并不那么一定"
   ]
  },
  {
   "cell_type": "code",
   "execution_count": 14,
   "metadata": {},
   "outputs": [
    {
     "data": {
      "text/html": [
       "<div>\n",
       "<style scoped>\n",
       "    .dataframe tbody tr th:only-of-type {\n",
       "        vertical-align: middle;\n",
       "    }\n",
       "\n",
       "    .dataframe tbody tr th {\n",
       "        vertical-align: top;\n",
       "    }\n",
       "\n",
       "    .dataframe thead th {\n",
       "        text-align: right;\n",
       "    }\n",
       "</style>\n",
       "<table border=\"1\" class=\"dataframe\">\n",
       "  <thead>\n",
       "    <tr style=\"text-align: right;\">\n",
       "      <th></th>\n",
       "      <th>x1</th>\n",
       "      <th>x2</th>\n",
       "      <th>x3</th>\n",
       "      <th>x4</th>\n",
       "      <th>y</th>\n",
       "    </tr>\n",
       "  </thead>\n",
       "  <tbody>\n",
       "    <tr>\n",
       "      <th>0</th>\n",
       "      <td>Sunny</td>\n",
       "      <td>Hot</td>\n",
       "      <td>High</td>\n",
       "      <td>Weak</td>\n",
       "      <td>No</td>\n",
       "    </tr>\n",
       "    <tr>\n",
       "      <th>1</th>\n",
       "      <td>Sunny</td>\n",
       "      <td>Hot</td>\n",
       "      <td>High</td>\n",
       "      <td>Strong</td>\n",
       "      <td>No</td>\n",
       "    </tr>\n",
       "    <tr>\n",
       "      <th>2</th>\n",
       "      <td>Overcast</td>\n",
       "      <td>Hot</td>\n",
       "      <td>High</td>\n",
       "      <td>Weak</td>\n",
       "      <td>Yes</td>\n",
       "    </tr>\n",
       "    <tr>\n",
       "      <th>3</th>\n",
       "      <td>Rain</td>\n",
       "      <td>Mild</td>\n",
       "      <td>High</td>\n",
       "      <td>Weak</td>\n",
       "      <td>Yes</td>\n",
       "    </tr>\n",
       "    <tr>\n",
       "      <th>4</th>\n",
       "      <td>Rain</td>\n",
       "      <td>Cool</td>\n",
       "      <td>Normal</td>\n",
       "      <td>Weak</td>\n",
       "      <td>Yes</td>\n",
       "    </tr>\n",
       "  </tbody>\n",
       "</table>\n",
       "</div>"
      ],
      "text/plain": [
       "         x1    x2      x3      x4    y\n",
       "0     Sunny   Hot    High    Weak   No\n",
       "1     Sunny   Hot    High  Strong   No\n",
       "2  Overcast   Hot    High    Weak  Yes\n",
       "3      Rain  Mild    High    Weak  Yes\n",
       "4      Rain  Cool  Normal    Weak  Yes"
      ]
     },
     "execution_count": 14,
     "metadata": {},
     "output_type": "execute_result"
    }
   ],
   "source": [
    "import numpy as np\n",
    "import pandas as pd\n",
    "data=[['Sunny','Hot','High','Weak','No'],['Sunny','Hot','High','Strong','No'],['Overcast','Hot','High','Weak','Yes'],\\\n",
    "      ['Rain','Mild','High','Weak','Yes'],['Rain','Cool','Normal','Weak','Yes'],['Rain','Cool','Normal','Strong','No'],\\\n",
    "      ['Overcast','Cool','Normal','Strong','Yes'],['Sunny','Mild','High','Weak','No'],['Sunny','Cool','Normal','Weak','Yes'],\\\n",
    "      ['Rain','Mild','Normal','Weak','Yes'],['Sunny','Mild','Normal','Strong','Yes'],['Overcast','Mild','High','Strong','Yes'],\\\n",
    "      ['Overcast','Hot','Normal','Weak','Yes'],['Rain','Mild','High','Strong','No']]\n",
    "Data = pd.DataFrame(data, columns=['x1', 'x2', 'x3','x4', 'y'])\n",
    "Data.head()"
   ]
  },
  {
   "cell_type": "code",
   "execution_count": 16,
   "metadata": {},
   "outputs": [
    {
     "name": "stdout",
     "output_type": "stream",
     "text": [
      "不去打球\n"
     ]
    }
   ],
   "source": [
    "cols = Data.shape[1]\n",
    "X_data = Data.iloc[:, :cols-1]\n",
    "Y_data = Data.iloc[:, cols-1:]\n",
    "featureNames = X_data.columns\n",
    "def Naive_Bayes(X_data,Y_data):\n",
    "    y = Y_data.values\n",
    "    x = X_data.values\n",
    "    y_unique = np.unique(y)\n",
    "    prior_prob = np.zeros (len(y_unique))\n",
    "    for i in range(len(y_unique)):\n",
    "        prior_prob[i] = sum(y == y_unique[i]) / len(y)\n",
    "        \n",
    "    condition_prob = {}\n",
    "\n",
    "    for feat in featureNames:\n",
    "        x_unique = list(set(X_data[feat]))\n",
    "        x_condition_prob = np.zeros((len(y_unique), len(x_unique)))\n",
    "        for j in range (len(y_unique)):\n",
    "            for k in range (len(x_unique)):\n",
    "                x_condition_prob[j, k] = sum((X_data[feat] == x_unique[k]) & (Y_data.y == y_unique[j])) / sum(y == y_unique[j])\n",
    "        x_condition_prob = pd.DataFrame(x_condition_prob, columns = x_unique, index = [0,1])\n",
    "        condition_prob[feat] = x_condition_prob\n",
    "    return prior_prob, condition_prob\n",
    "def Prediction(testData, prior, condition_prob):\n",
    "    numclass = prior.shape[0]\n",
    "    featureName = testData.columns\n",
    "    numsample = testData.shape[0]\n",
    "    post_prob = np.zeros ((numsample, numclass))\n",
    "    for k in range(numsample):\n",
    "        prob_k = np.zeros((numclass,))\n",
    "        for i in range(numclass):\n",
    "            pri = prior[i]\n",
    "            for feat in featureNames:\n",
    "                feat_val = testData[feat][k]\n",
    "                cp = condition_prob[feat]\n",
    "                cp_val = cp.loc[i, feat_val]\n",
    "                pri *= cp_val\n",
    "            prob_k[i] = pri\n",
    "        prob = prob_k / np.sum(prob_k, axis = 0)\n",
    "        post_prob[k, :] = prob\n",
    "    return post_prob\n",
    "test_data = [['Sunny', 'Cool', 'High', 'Strong']]\n",
    "testData = pd.DataFrame(test_data, columns = ['x1', 'x2', 'x3', 'x4'])\n",
    "testData.head()\n",
    "prior_prob, condition_prob = Naive_Bayes(X_data,Y_data)\n",
    "postPrior = Prediction(testData, prior_prob, condition_prob)\n",
    "postPrior\n",
    "if (postPrior[0][0]>postPrior[0][1]):\n",
    "    print('不去打球')\n",
    "\n",
    "else:\n",
    "    print('去打球')\n"
   ]
  },
  {
   "cell_type": "markdown",
   "metadata": {},
   "source": [
    "因此不去打球"
   ]
  }
 ],
 "metadata": {
  "kernelspec": {
   "display_name": "Python 3",
   "language": "python",
   "name": "python3"
  },
  "language_info": {
   "codemirror_mode": {
    "name": "ipython",
    "version": 3
   },
   "file_extension": ".py",
   "mimetype": "text/x-python",
   "name": "python",
   "nbconvert_exporter": "python",
   "pygments_lexer": "ipython3",
   "version": "3.11.2"
  }
 },
 "nbformat": 4,
 "nbformat_minor": 2
}
