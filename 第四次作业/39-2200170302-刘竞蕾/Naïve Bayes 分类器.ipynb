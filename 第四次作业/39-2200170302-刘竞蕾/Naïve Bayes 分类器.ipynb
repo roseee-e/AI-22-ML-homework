{
 "cells": [
  {
   "cell_type": "code",
   "execution_count": 210,
   "id": "fa27a3ed",
   "metadata": {},
   "outputs": [],
   "source": [
    "import numpy as np\n",
    "import pandas as pd"
   ]
  },
  {
   "cell_type": "code",
   "execution_count": 214,
   "id": "98a56d11",
   "metadata": {},
   "outputs": [],
   "source": [
    "data = [\n",
    "    ['Sunny', 'Hot', 'High', 'Weak', 'No'],\n",
    "    ['Sunny', 'Hot', 'High', 'Strong', 'No'],\n",
    "    ['Overcast', 'Hot', 'High', 'Weak', 'Yes'],\n",
    "    ['Rain', 'Mild', 'High', 'Weak', 'Yes'],\n",
    "    ['Rain', 'Cool', 'Normal', 'Weak', 'Yes'],\n",
    "    ['Rain', 'Cool', 'Normal', 'Strong', 'No'],\n",
    "    ['Overcast', 'Cool', 'Normal', 'Strong', 'Yes'],\n",
    "    ['Sunny', 'Mild', 'High', 'Weak', 'No'],\n",
    "    ['Sunny', 'Cool', 'Normal', 'Weak', 'Yes'],\n",
    "    ['Rain', 'Mild', 'Normal', 'Weak', 'Yes'],\n",
    "    ['Sunny', 'Mild', 'Normal', 'Strong', 'Yes'],\n",
    "    ['Overcast', 'Mild', 'High', 'Strong', 'Yes'],\n",
    "    ['Overcast', 'Hot', 'Normal', 'Weak', 'Yes'],\n",
    "    ['Rain', 'Mild', 'High', 'Strong', 'No']\n",
    "]"
   ]
  },
  {
   "cell_type": "code",
   "execution_count": 215,
   "id": "7dadb133",
   "metadata": {},
   "outputs": [
    {
     "data": {
      "text/html": [
       "<div>\n",
       "<style scoped>\n",
       "    .dataframe tbody tr th:only-of-type {\n",
       "        vertical-align: middle;\n",
       "    }\n",
       "\n",
       "    .dataframe tbody tr th {\n",
       "        vertical-align: top;\n",
       "    }\n",
       "\n",
       "    .dataframe thead th {\n",
       "        text-align: right;\n",
       "    }\n",
       "</style>\n",
       "<table border=\"1\" class=\"dataframe\">\n",
       "  <thead>\n",
       "    <tr style=\"text-align: right;\">\n",
       "      <th></th>\n",
       "      <th>Outlook</th>\n",
       "      <th>Temperature</th>\n",
       "      <th>Humidity</th>\n",
       "      <th>Wind</th>\n",
       "      <th>PlayTennis</th>\n",
       "    </tr>\n",
       "  </thead>\n",
       "  <tbody>\n",
       "    <tr>\n",
       "      <th>0</th>\n",
       "      <td>Sunny</td>\n",
       "      <td>Hot</td>\n",
       "      <td>High</td>\n",
       "      <td>Weak</td>\n",
       "      <td>No</td>\n",
       "    </tr>\n",
       "    <tr>\n",
       "      <th>1</th>\n",
       "      <td>Sunny</td>\n",
       "      <td>Hot</td>\n",
       "      <td>High</td>\n",
       "      <td>Strong</td>\n",
       "      <td>No</td>\n",
       "    </tr>\n",
       "    <tr>\n",
       "      <th>2</th>\n",
       "      <td>Overcast</td>\n",
       "      <td>Hot</td>\n",
       "      <td>High</td>\n",
       "      <td>Weak</td>\n",
       "      <td>Yes</td>\n",
       "    </tr>\n",
       "    <tr>\n",
       "      <th>3</th>\n",
       "      <td>Rain</td>\n",
       "      <td>Mild</td>\n",
       "      <td>High</td>\n",
       "      <td>Weak</td>\n",
       "      <td>Yes</td>\n",
       "    </tr>\n",
       "    <tr>\n",
       "      <th>4</th>\n",
       "      <td>Rain</td>\n",
       "      <td>Cool</td>\n",
       "      <td>Normal</td>\n",
       "      <td>Weak</td>\n",
       "      <td>Yes</td>\n",
       "    </tr>\n",
       "  </tbody>\n",
       "</table>\n",
       "</div>"
      ],
      "text/plain": [
       "    Outlook Temperature Humidity    Wind PlayTennis\n",
       "0     Sunny         Hot     High    Weak         No\n",
       "1     Sunny         Hot     High  Strong         No\n",
       "2  Overcast         Hot     High    Weak        Yes\n",
       "3      Rain        Mild     High    Weak        Yes\n",
       "4      Rain        Cool   Normal    Weak        Yes"
      ]
     },
     "execution_count": 215,
     "metadata": {},
     "output_type": "execute_result"
    }
   ],
   "source": [
    "Data=pd.DataFrame(data,columns=['Outlook','Temperature','Humidity','Wind','PlayTennis'])\n",
    "Data.head()"
   ]
  },
  {
   "cell_type": "code",
   "execution_count": 216,
   "id": "491fef2b",
   "metadata": {},
   "outputs": [],
   "source": [
    "cols = Data.shape[1]  # 3列：2个特征+1个标签\n",
    "x_data=Data.iloc[:,:cols-1]\n",
    "y_data=Data.iloc[:,cols-1:]\n",
    "featureName=x_data.columns# 获取特征列的列名"
   ]
  },
  {
   "cell_type": "code",
   "execution_count": 217,
   "id": "77bd9e6e",
   "metadata": {},
   "outputs": [],
   "source": [
    "def Naive_Bayes1(x_data,y_data):\n",
    "    y=y_data.values\n",
    "    x=x_data.values\n",
    "    y_unique=np.unique(y)\n",
    "    #初始化存储先验概率的数组\n",
    "    prior_prob=np.zeros(len(y_unique))\n",
    "    #计算先验概率\n",
    "    for i in range (len(y_unique)):\n",
    "        prior_prob[i]=(sum(y==y_unique[i])+1)/(len(y)+len(y_unique))\n",
    "    condition_prob={}\n",
    "    #遍历特征名列表\n",
    "    for feat in featureName:\n",
    "        x_unique=list(set(x_data[feat]))\n",
    "        x_condition_prob=np.zeros((len(y_unique),len(x_unique)))\n",
    "        #计算条件概率\n",
    "        for j in range (len(y_unique)):\n",
    "            for k in range (len(x_unique)):\n",
    "                x_condition_prob[j,k]=(sum((x_data[feat]==x_unique[k])&(y_data.PlayTennis==y_unique[j]))+1)/(sum(y==y_unique[j])+len(x_unique))\n",
    "        x_condition_prob=pd.DataFrame(x_condition_prob,columns=x_unique,index=y_unique)\n",
    "        condition_prob[feat]=x_condition_prob\n",
    "    return prior_prob,condition_prob\n",
    "\n"
   ]
  },
  {
   "cell_type": "code",
   "execution_count": 218,
   "id": "c843471a",
   "metadata": {},
   "outputs": [],
   "source": [
    "def Prediction(testData,prior_prob,condition_prob):\n",
    "    #获取类别数量\n",
    "    numclass=prior_prob.shape[0] \n",
    "    #获取特征名称\n",
    "    featureName=testData.columns\n",
    "    numsample=testData.shape[0]\n",
    "    post_prob=np.zeros((numsample,numclass))\n",
    "    #对每个测试样本进行预测\n",
    "    for k in range(numsample):\n",
    "        prob_k=np.zeros((numclass,))\n",
    "        #对每个类别计算后验概率\n",
    "        for i in range(numclass):\n",
    "            pri=prior_prob[i]\n",
    "            for feat in featureName:\n",
    "                feat_val=testData[feat][k]\n",
    "                cp=condition_prob[feat]\n",
    "                cp_val=cp[feat_val].iloc[i]\n",
    "                pri*=cp_val\n",
    "            prob_k[i]=pri\n",
    "        #归一化处理\n",
    "        prob=prob_k/np.sum(prob_k,axis=0)\n",
    "        post_prob[k,:]=prob\n",
    "    return post_prob"
   ]
  },
  {
   "cell_type": "code",
   "execution_count": 219,
   "id": "e66e3a34",
   "metadata": {
    "scrolled": true
   },
   "outputs": [
    {
     "data": {
      "text/html": [
       "<div>\n",
       "<style scoped>\n",
       "    .dataframe tbody tr th:only-of-type {\n",
       "        vertical-align: middle;\n",
       "    }\n",
       "\n",
       "    .dataframe tbody tr th {\n",
       "        vertical-align: top;\n",
       "    }\n",
       "\n",
       "    .dataframe thead th {\n",
       "        text-align: right;\n",
       "    }\n",
       "</style>\n",
       "<table border=\"1\" class=\"dataframe\">\n",
       "  <thead>\n",
       "    <tr style=\"text-align: right;\">\n",
       "      <th></th>\n",
       "      <th>Outlook</th>\n",
       "      <th>Temperature</th>\n",
       "      <th>Humidity</th>\n",
       "      <th>Wind</th>\n",
       "    </tr>\n",
       "  </thead>\n",
       "  <tbody>\n",
       "    <tr>\n",
       "      <th>0</th>\n",
       "      <td>Sunny</td>\n",
       "      <td>Cool</td>\n",
       "      <td>High</td>\n",
       "      <td>Strong</td>\n",
       "    </tr>\n",
       "  </tbody>\n",
       "</table>\n",
       "</div>"
      ],
      "text/plain": [
       "  Outlook Temperature Humidity    Wind\n",
       "0   Sunny        Cool     High  Strong"
      ]
     },
     "execution_count": 219,
     "metadata": {},
     "output_type": "execute_result"
    }
   ],
   "source": [
    "test_data=[['Sunny','Cool','High','Strong']]\n",
    "testData=pd.DataFrame(test_data,columns=['Outlook','Temperature','Humidity','Wind'])\n",
    "testData.head()"
   ]
  },
  {
   "cell_type": "code",
   "execution_count": 220,
   "id": "e6c92d01",
   "metadata": {},
   "outputs": [
    {
     "name": "stdout",
     "output_type": "stream",
     "text": [
      "[[0.73531398 0.26468602]]\n"
     ]
    }
   ],
   "source": [
    "prior_prob1,condition_prob1=Naive_Bayes1(x_data,y_data)\n",
    "post_prob1=Prediction(testData,prior_prob1,condition_prob1)\n",
    "print(post_prob1)"
   ]
  }
 ],
 "metadata": {
  "kernelspec": {
   "display_name": "Python 3",
   "language": "python",
   "name": "python3"
  },
  "language_info": {
   "codemirror_mode": {
    "name": "ipython",
    "version": 3
   },
   "file_extension": ".py",
   "mimetype": "text/x-python",
   "name": "python",
   "nbconvert_exporter": "python",
   "pygments_lexer": "ipython3",
   "version": "3.6.13"
  }
 },
 "nbformat": 4,
 "nbformat_minor": 5
}
