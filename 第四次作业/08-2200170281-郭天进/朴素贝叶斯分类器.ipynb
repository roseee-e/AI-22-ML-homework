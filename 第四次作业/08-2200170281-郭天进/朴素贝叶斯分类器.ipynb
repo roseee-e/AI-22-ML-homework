{
 "cells": [
  {
   "cell_type": "code",
   "execution_count": 18,
   "outputs": [],
   "source": [
    "import numpy as np\n",
    "import pandas as pd"
   ],
   "metadata": {
    "collapsed": false,
    "ExecuteTime": {
     "end_time": "2024-05-09T07:54:38.604192400Z",
     "start_time": "2024-05-09T07:54:38.590961600Z"
    }
   },
   "id": "4854d5fa2016da1d"
  },
  {
   "cell_type": "code",
   "execution_count": 19,
   "outputs": [],
   "source": [
    "#准备数据\n",
    "data=[['Sunny','Hot','High','Weak','No'],\n",
    "      ['Sunny','Hot','High','Strong','No'],\n",
    "      ['Overcast','Hot','High','Weak','Yes'],\n",
    "      ['Rain','Mild','High','Weak','Yes'],\n",
    "      ['Rain','Cool','Normal','Weak','Yes'],\n",
    "      ['Rain','Cool','Normal','Strong','No'],\n",
    "      ['Overcast','Cool','Normal','Strong','Yes'],\n",
    "      ['Sunny','Mild','High','Weak','No'],\n",
    "      ['Sunny','Cool','Normal','Weak','Yes'],\n",
    "      ['Rain','Mild','Normal','Weak','Yes'],\n",
    "      ['Sunny','Mild','Normal','Strong','Yes'],\n",
    "      ['Overcast','Mild','High','Strong','Yes'],\n",
    "      ['Overcast','Hot','Normal','Weak','Yes'],\n",
    "      ['Rain','Mild','High','Strong','No']]"
   ],
   "metadata": {
    "collapsed": false,
    "ExecuteTime": {
     "end_time": "2024-05-09T07:54:38.604192400Z",
     "start_time": "2024-05-09T07:54:38.592615300Z"
    }
   },
   "id": "898072e8e2dc9aaa"
  },
  {
   "cell_type": "code",
   "execution_count": 20,
   "outputs": [
    {
     "data": {
      "text/plain": "    Outlook Temperature Humidity    Wind PlayTennis\n0     Sunny         Hot     High    Weak         No\n1     Sunny         Hot     High  Strong         No\n2  Overcast         Hot     High    Weak        Yes\n3      Rain        Mild     High    Weak        Yes\n4      Rain        Cool   Normal    Weak        Yes",
      "text/html": "<div>\n<style scoped>\n    .dataframe tbody tr th:only-of-type {\n        vertical-align: middle;\n    }\n\n    .dataframe tbody tr th {\n        vertical-align: top;\n    }\n\n    .dataframe thead th {\n        text-align: right;\n    }\n</style>\n<table border=\"1\" class=\"dataframe\">\n  <thead>\n    <tr style=\"text-align: right;\">\n      <th></th>\n      <th>Outlook</th>\n      <th>Temperature</th>\n      <th>Humidity</th>\n      <th>Wind</th>\n      <th>PlayTennis</th>\n    </tr>\n  </thead>\n  <tbody>\n    <tr>\n      <th>0</th>\n      <td>Sunny</td>\n      <td>Hot</td>\n      <td>High</td>\n      <td>Weak</td>\n      <td>No</td>\n    </tr>\n    <tr>\n      <th>1</th>\n      <td>Sunny</td>\n      <td>Hot</td>\n      <td>High</td>\n      <td>Strong</td>\n      <td>No</td>\n    </tr>\n    <tr>\n      <th>2</th>\n      <td>Overcast</td>\n      <td>Hot</td>\n      <td>High</td>\n      <td>Weak</td>\n      <td>Yes</td>\n    </tr>\n    <tr>\n      <th>3</th>\n      <td>Rain</td>\n      <td>Mild</td>\n      <td>High</td>\n      <td>Weak</td>\n      <td>Yes</td>\n    </tr>\n    <tr>\n      <th>4</th>\n      <td>Rain</td>\n      <td>Cool</td>\n      <td>Normal</td>\n      <td>Weak</td>\n      <td>Yes</td>\n    </tr>\n  </tbody>\n</table>\n</div>"
     },
     "execution_count": 20,
     "metadata": {},
     "output_type": "execute_result"
    }
   ],
   "source": [
    "Data=pd.DataFrame(data,columns=['Outlook','Temperature','Humidity','Wind','PlayTennis'])\n",
    "\n",
    "Data.head()"
   ],
   "metadata": {
    "collapsed": false,
    "ExecuteTime": {
     "end_time": "2024-05-09T07:54:38.605188700Z",
     "start_time": "2024-05-09T07:54:38.600582500Z"
    }
   },
   "id": "306cc035cb3d784f"
  },
  {
   "cell_type": "code",
   "execution_count": 21,
   "outputs": [],
   "source": [
    "cols=Data.shape[1]\n",
    "X_data=Data.iloc[:,:cols-1]\n",
    "Y_data=Data.iloc[:,cols-1:]\n",
    "featureNames=X_data.columns"
   ],
   "metadata": {
    "collapsed": false,
    "ExecuteTime": {
     "end_time": "2024-05-09T07:54:38.646024600Z",
     "start_time": "2024-05-09T07:54:38.604192400Z"
    }
   },
   "id": "fd97a953180fc9f1"
  },
  {
   "cell_type": "code",
   "execution_count": 22,
   "outputs": [
    {
     "ename": "NameError",
     "evalue": "name '训练贝叶斯模型' is not defined",
     "output_type": "error",
     "traceback": [
      "\u001B[1;31m---------------------------------------------------------------------------\u001B[0m",
      "\u001B[1;31mNameError\u001B[0m                                 Traceback (most recent call last)",
      "Cell \u001B[1;32mIn[22], line 1\u001B[0m\n\u001B[1;32m----> 1\u001B[0m 训练贝叶斯模型\n",
      "\u001B[1;31mNameError\u001B[0m: name '训练贝叶斯模型' is not defined"
     ]
    }
   ],
   "source": [
    "训练贝叶斯模型"
   ],
   "metadata": {
    "collapsed": false,
    "ExecuteTime": {
     "end_time": "2024-05-09T07:54:38.669806900Z",
     "start_time": "2024-05-09T07:54:38.613990500Z"
    }
   },
   "id": "44f619af51453e99"
  },
  {
   "cell_type": "code",
   "execution_count": null,
   "outputs": [],
   "source": [
    "def Naive_Bayes(X_data, Y_data):\n",
    "    # 第一步：计算先验概率\n",
    "    y = Y_data.values \n",
    "    X = X_data.values \n",
    "    y_unique = np.unique(y)\n",
    "\n",
    "    prior_prob = np.zeros(len(y_unique)) \n",
    "\n",
    "    for i in range(len(y_unique)):\n",
    "        # 计算标签值为 y_unique[i] 的样本在总样本中的比例，即先验概率\n",
    "        prior_prob[i] = np.sum(y == y_unique[i]) / len(y)\n",
    "\n",
    "    # 第二步：计算条件概率（似然性）\n",
    "    condition_prob = {}\n",
    "\n",
    "    for feat in featureNames:\n",
    "        x_unique = list(set(X_data[feat]))  # 获取特征的唯一值列表\n",
    "        x_condition_prob = np.zeros((len(y_unique), len(x_unique))) \n",
    "\n",
    "        for j in range(len(y_unique)):\n",
    "            for k in range(len(x_unique)):\n",
    "                # 计算特征值为 x_unique[k] 在给定标签值的条件下的概率\n",
    "                x_condition_prob[j, k] = \\\n",
    "                    np.sum((X_data[feat] == x_unique[k]) & (Y_data['PlayTennis'] == y_unique[j])) / np.sum(y == y_unique[j])\n",
    "\n",
    "        # 将条件概率转换为DataFrame，存储到字典中\n",
    "        x_condition_prob = pd.DataFrame(x_condition_prob, columns=x_unique, index=y_unique)\n",
    "        condition_prob[feat] = x_condition_prob\n",
    "\n",
    "    return prior_prob, condition_prob"
   ],
   "metadata": {
    "collapsed": false,
    "ExecuteTime": {
     "start_time": "2024-05-09T07:54:38.623619400Z"
    }
   },
   "id": "b79a41ac9845b072"
  },
  {
   "cell_type": "code",
   "execution_count": null,
   "outputs": [],
   "source": [
    "#读入测试数据并计算出后验概率\n",
    "def Prediction(testData, prior, condition_prob):\n",
    "    numclass = prior.shape[0] \n",
    "    featureNames = testData.columns \n",
    "\n",
    "    numclass = prior.shape[0]  #类别数\n",
    "    numsample = testData.shape[0]  #样本数\n",
    "    featureNames = testData.columns\n",
    "\n",
    "    post_prob = np.zeros((numsample, numclass))\n",
    "\n",
    "    # 遍历测试样本\n",
    "    for k in range(numsample):\n",
    "        prob_k = np.zeros((numclass,))\n",
    "        # 遍历类别\n",
    "        for i in range(numclass):\n",
    "            pri = prior[i]\n",
    "\n",
    "            for feat in featureNames:\n",
    "                feat_val = testData[feat][k] \n",
    "                cp = condition_prob[feat]\n",
    "                cp_val = cp[feat_val].iloc[i]\n",
    "                pri *= cp_val  #计算当前类别的联合概率\n",
    "                prob_k[i] = pri  #存储当前类别的联合概率\n",
    "        prob = prob_k / np.sum(prob_k, axis=0)  #计算后验概率\n",
    "        post_prob[k, :] = prob \n",
    "\n",
    "    return post_prob"
   ],
   "metadata": {
    "collapsed": false,
    "ExecuteTime": {
     "start_time": "2024-05-09T07:54:38.625090500Z"
    }
   },
   "id": "f98d33fb442922fc"
  },
  {
   "cell_type": "code",
   "execution_count": null,
   "outputs": [],
   "source": [
    "#读入测试数据\n",
    "\n",
    "test_data=[['Sunny','Cool','High','Strong']]\n",
    "testData=pd.DataFrame(test_data,columns=['Outlook','Temperature','Humidity','Wind'])"
   ],
   "metadata": {
    "collapsed": false,
    "ExecuteTime": {
     "start_time": "2024-05-09T07:54:38.626093200Z"
    }
   },
   "id": "3522c0967128bc6d"
  },
  {
   "cell_type": "code",
   "execution_count": null,
   "outputs": [],
   "source": [
    "prior_pro,condition_pro=Naive_Bayes(X_data,Y_data)"
   ],
   "metadata": {
    "collapsed": false,
    "ExecuteTime": {
     "start_time": "2024-05-09T07:54:38.628086900Z"
    }
   },
   "id": "6fcf55f88242a2d9"
  },
  {
   "cell_type": "code",
   "execution_count": null,
   "outputs": [],
   "source": [
    "condition_pro"
   ],
   "metadata": {
    "collapsed": false,
    "ExecuteTime": {
     "start_time": "2024-05-09T07:54:38.629083800Z"
    }
   },
   "id": "f126ae7ce1641666"
  },
  {
   "cell_type": "code",
   "execution_count": 23,
   "outputs": [
    {
     "data": {
      "text/plain": "array([[0.79541735, 0.20458265]])"
     },
     "execution_count": 23,
     "metadata": {},
     "output_type": "execute_result"
    }
   ],
   "source": [
    "#测试数据\n",
    "postPrior=Prediction(testData,prior_pro,condition_pro)\n",
    "postPrior\n"
   ],
   "metadata": {
    "collapsed": false,
    "ExecuteTime": {
     "end_time": "2024-05-09T07:54:57.374271400Z",
     "start_time": "2024-05-09T07:54:57.366879900Z"
    }
   },
   "id": "7570d87454fea54f"
  },
  {
   "cell_type": "code",
   "execution_count": null,
   "outputs": [],
   "source": [
    "所以预测为No"
   ],
   "metadata": {
    "collapsed": false,
    "ExecuteTime": {
     "start_time": "2024-05-09T07:54:38.631076700Z"
    }
   },
   "id": "c05a929955058aac"
  },
  {
   "cell_type": "markdown",
   "source": [],
   "metadata": {
    "collapsed": false
   },
   "id": "e981fef11cdc5594"
  }
 ],
 "metadata": {
  "kernelspec": {
   "display_name": "Python 3",
   "language": "python",
   "name": "python3"
  },
  "language_info": {
   "codemirror_mode": {
    "name": "ipython",
    "version": 2
   },
   "file_extension": ".py",
   "mimetype": "text/x-python",
   "name": "python",
   "nbconvert_exporter": "python",
   "pygments_lexer": "ipython2",
   "version": "2.7.6"
  }
 },
 "nbformat": 4,
 "nbformat_minor": 5
}
