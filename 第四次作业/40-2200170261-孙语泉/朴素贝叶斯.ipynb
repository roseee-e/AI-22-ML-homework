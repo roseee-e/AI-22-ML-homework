{
 "cells": [
  {
   "cell_type": "code",
   "execution_count": 1,
   "id": "97485a23-849a-4523-a74b-54aadb477209",
   "metadata": {},
   "outputs": [],
   "source": [
    "import numpy as np\n",
    "import pandas as pd"
   ]
  },
  {
   "cell_type": "code",
   "execution_count": 2,
   "id": "e21e455c-1b9b-4694-b484-55f3ac40a133",
   "metadata": {},
   "outputs": [],
   "source": [
    "data=[['Sunny','Hot','High','Weak','No'],['Sunny','Hot','High','Strong','No'],['Overcast','Hot','High','Weak','Yes'],\\\n",
    "      ['Rain','Mild','High','Weak','Yes'],['Rain','Cool','Normal','Weak','Yes'],['Rain','Cool','Normal','Strong','No'],\\\n",
    "      ['Overcast','Cool','Normal','Strong','Yes'],['Sunny','Mild','High','Weak','No'],['Sunny','Cool','Normal','Weak','Yes'],\\\n",
    "      ['Rain','Mild','Normal','Weak','Yes'],['Sunny','Mild','Normal','Strong','Yes'],['Overcast','Mild','High','Strong','Yes'],\\\n",
    "      ['Overcast','Hot','Normal','Weak','Yes'],['Rain','Mild','High','Strong','No']]\n",
    "Data = pd.DataFrame(data, columns=['x1', 'x2', 'x3','x4', 'y'])\n",
    "Data.head()\n",
    "cols = Data.shape[1]\n",
    "X_data = Data.iloc[:, :cols-1]\n",
    "Y_data = Data.iloc[:, cols-1:]\n",
    "featureNames = X_data.columns"
   ]
  },
  {
   "cell_type": "code",
   "execution_count": 3,
   "id": "d3876234-e72a-450e-be52-d22113cf24bf",
   "metadata": {},
   "outputs": [],
   "source": [
    "def Naive_Bayes(X_data,Y_data):\n",
    "    y = Y_data.values\n",
    "    x = X_data.values\n",
    "    y_unique = np.unique(y)\n",
    "    prior_prob = np.zeros (len(y_unique))\n",
    "    for i in range(len(y_unique)):\n",
    "        prior_prob[i] = sum(y == y_unique[i]) / len(y)\n",
    "        \n",
    "    condition_prob = {}\n",
    "\n",
    "    for feat in featureNames:\n",
    "        x_unique = list(set(X_data[feat]))\n",
    "        x_condition_prob = np.zeros((len(y_unique), len(x_unique)))\n",
    "        for j in range (len(y_unique)):\n",
    "            for k in range (len(x_unique)):\n",
    "                x_condition_prob[j, k] = sum((X_data[feat] == x_unique[k]) & (Y_data.y == y_unique[j])) / sum(y == y_unique[j])\n",
    "        x_condition_prob = pd.DataFrame(x_condition_prob, columns = x_unique, index = [0,1])\n",
    "        condition_prob[feat] = x_condition_prob\n",
    "    return prior_prob, condition_prob"
   ]
  },
  {
   "cell_type": "code",
   "execution_count": 4,
   "id": "ebc0dcc2-800c-403e-b434-28b426ef447e",
   "metadata": {},
   "outputs": [],
   "source": [
    "def Prediction(testData, prior, condition_prob):\n",
    "    numclass = prior.shape[0]\n",
    "    featureName = testData.columns\n",
    "    numsample = testData.shape[0]\n",
    "    post_prob = np.zeros ((numsample, numclass))\n",
    "    for k in range(numsample):\n",
    "        prob_k = np.zeros((numclass,))\n",
    "        for i in range(numclass):\n",
    "            pri = prior[i]\n",
    "            for feat in featureNames:\n",
    "                feat_val = testData[feat][k]\n",
    "                cp = condition_prob[feat]\n",
    "                cp_val = cp.loc[i, feat_val]\n",
    "                pri *= cp_val\n",
    "            prob_k[i] = pri\n",
    "        prob = prob_k / np.sum(prob_k, axis = 0)\n",
    "        post_prob[k, :] = prob\n",
    "    return post_prob"
   ]
  },
  {
   "cell_type": "code",
   "execution_count": 5,
   "id": "4845eda0-522b-4e3f-ace5-dd69a31a4469",
   "metadata": {},
   "outputs": [
    {
     "data": {
      "text/html": [
       "<div>\n",
       "<style scoped>\n",
       "    .dataframe tbody tr th:only-of-type {\n",
       "        vertical-align: middle;\n",
       "    }\n",
       "\n",
       "    .dataframe tbody tr th {\n",
       "        vertical-align: top;\n",
       "    }\n",
       "\n",
       "    .dataframe thead th {\n",
       "        text-align: right;\n",
       "    }\n",
       "</style>\n",
       "<table border=\"1\" class=\"dataframe\">\n",
       "  <thead>\n",
       "    <tr style=\"text-align: right;\">\n",
       "      <th></th>\n",
       "      <th>x1</th>\n",
       "      <th>x2</th>\n",
       "      <th>x3</th>\n",
       "      <th>x4</th>\n",
       "    </tr>\n",
       "  </thead>\n",
       "  <tbody>\n",
       "    <tr>\n",
       "      <th>0</th>\n",
       "      <td>Sunny</td>\n",
       "      <td>Cool</td>\n",
       "      <td>High</td>\n",
       "      <td>Strong</td>\n",
       "    </tr>\n",
       "  </tbody>\n",
       "</table>\n",
       "</div>"
      ],
      "text/plain": [
       "      x1    x2    x3      x4\n",
       "0  Sunny  Cool  High  Strong"
      ]
     },
     "execution_count": 5,
     "metadata": {},
     "output_type": "execute_result"
    }
   ],
   "source": [
    "test_data = [['Sunny', 'Cool', 'High', 'Strong']]\n",
    "testData = pd.DataFrame(test_data, columns = ['x1', 'x2', 'x3', 'x4'])\n",
    "testData.head()"
   ]
  },
  {
   "cell_type": "code",
   "execution_count": 6,
   "id": "c4eef2c1-08df-4a5e-bffa-1547cb9c3274",
   "metadata": {},
   "outputs": [
    {
     "data": {
      "text/plain": [
       "array([[0.79541735, 0.20458265]])"
      ]
     },
     "execution_count": 6,
     "metadata": {},
     "output_type": "execute_result"
    }
   ],
   "source": [
    "prior_prob, condition_prob = Naive_Bayes(X_data,Y_data)\n",
    "postPrior = Prediction(testData, prior_prob, condition_prob)\n",
    "postPrior"
   ]
  }
 ],
 "metadata": {
  "kernelspec": {
   "display_name": "Python 3 (ipykernel)",
   "language": "python",
   "name": "python3"
  },
  "language_info": {
   "codemirror_mode": {
    "name": "ipython",
    "version": 3
   },
   "file_extension": ".py",
   "mimetype": "text/x-python",
   "name": "python",
   "nbconvert_exporter": "python",
   "pygments_lexer": "ipython3",
   "version": "3.11.7"
  }
 },
 "nbformat": 4,
 "nbformat_minor": 5
}
