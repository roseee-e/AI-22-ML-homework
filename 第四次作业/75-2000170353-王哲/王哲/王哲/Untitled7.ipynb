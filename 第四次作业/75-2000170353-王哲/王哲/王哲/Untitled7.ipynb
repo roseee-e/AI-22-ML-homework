{
 "cells": [
  {
   "cell_type": "code",
   "execution_count": 1,
   "id": "4c3ff881-9ba4-4868-8d7c-ad39c143d9c1",
   "metadata": {},
   "outputs": [
    {
     "name": "stdout",
     "output_type": "stream",
     "text": [
      "No\n"
     ]
    }
   ],
   "source": [
    "import pandas as pd\n",
    "from sklearn.model_selection import train_test_split\n",
    "from sklearn.preprocessing import LabelEncoder\n",
    "from sklearn.naive_bayes import GaussianNB\n",
    "\n",
    "# Load the CSV file into a DataFrame\n",
    "file_path = 'e1.csv'\n",
    "data = pd.read_csv(file_path)\n",
    "\n",
    "# Define the features and the target\n",
    "X = data[['Outlook', 'Temperature', 'Humidity', 'Wind']].copy()  # Create a copy to avoid SettingWithCopyWarning\n",
    "y = data['PlayTennis'].copy()  # Create a copy to avoid SettingWithCopyWarning\n",
    "\n",
    "# Encode the categorical features\n",
    "label_encoders = {}\n",
    "for column in X.columns:\n",
    "    label_encoders[column] = LabelEncoder()\n",
    "    X[column] = label_encoders[column].fit_transform(X[column])\n",
    "\n",
    "# Split the dataset into training and testing sets\n",
    "X_train, X_test, y_train, y_test = train_test_split(X, y, test_size=0.2, random_state=42)\n",
    "\n",
    "# Train the Naive Bayes classifier\n",
    "gnb = GaussianNB()\n",
    "gnb.fit(X_train, y_train)\n",
    "\n",
    "# Define the input values\n",
    "input_data = {'Outlook': 'Sunny', 'Temperature': 'Cool', 'Humidity': 'High', 'Wind': 'Strong'}\n",
    "\n",
    "# Encode the input values\n",
    "input_encoded = []\n",
    "for column in X.columns:\n",
    "    input_encoded.append(label_encoders[column].transform([input_data[column]]))\n",
    "\n",
    "# Convert the encoded input to a DataFrame\n",
    "input_df = pd.DataFrame([input_encoded], columns=X.columns)\n",
    "\n",
    "# Predict the output using the trained Naive Bayes classifier\n",
    "predicted_output = gnb.predict(input_df)\n",
    "\n",
    "# The predicted output is already in the original label format (string)\n",
    "predicted_label = predicted_output[0]\n",
    "print(predicted_label)\n"
   ]
  }
 ],
 "metadata": {
  "kernelspec": {
   "display_name": "Python 3 (ipykernel)",
   "language": "python",
   "name": "python3"
  },
  "language_info": {
   "codemirror_mode": {
    "name": "ipython",
    "version": 3
   },
   "file_extension": ".py",
   "mimetype": "text/x-python",
   "name": "python",
   "nbconvert_exporter": "python",
   "pygments_lexer": "ipython3",
   "version": "3.11.7"
  }
 },
 "nbformat": 4,
 "nbformat_minor": 5
}
