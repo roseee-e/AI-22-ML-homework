{
 "cells": [
  {
   "cell_type": "code",
   "execution_count": 117,
   "id": "15f3023b-74c8-4f77-a4be-f8267f7466d5",
   "metadata": {},
   "outputs": [
    {
     "data": {
      "text/html": [
       "<div>\n",
       "<style scoped>\n",
       "    .dataframe tbody tr th:only-of-type {\n",
       "        vertical-align: middle;\n",
       "    }\n",
       "\n",
       "    .dataframe tbody tr th {\n",
       "        vertical-align: top;\n",
       "    }\n",
       "\n",
       "    .dataframe thead th {\n",
       "        text-align: right;\n",
       "    }\n",
       "</style>\n",
       "<table border=\"1\" class=\"dataframe\">\n",
       "  <thead>\n",
       "    <tr style=\"text-align: right;\">\n",
       "      <th></th>\n",
       "      <th>Outlook</th>\n",
       "      <th>Temperature</th>\n",
       "      <th>Humidity</th>\n",
       "      <th>Wind</th>\n",
       "      <th>PlayTennis</th>\n",
       "    </tr>\n",
       "  </thead>\n",
       "  <tbody>\n",
       "    <tr>\n",
       "      <th>0</th>\n",
       "      <td>Sunny</td>\n",
       "      <td>Hot</td>\n",
       "      <td>High</td>\n",
       "      <td>Weak</td>\n",
       "      <td>No</td>\n",
       "    </tr>\n",
       "    <tr>\n",
       "      <th>1</th>\n",
       "      <td>Sunny</td>\n",
       "      <td>Hot</td>\n",
       "      <td>High</td>\n",
       "      <td>Strong</td>\n",
       "      <td>No</td>\n",
       "    </tr>\n",
       "    <tr>\n",
       "      <th>2</th>\n",
       "      <td>Overcast</td>\n",
       "      <td>Hot</td>\n",
       "      <td>High</td>\n",
       "      <td>Weak</td>\n",
       "      <td>Yes</td>\n",
       "    </tr>\n",
       "    <tr>\n",
       "      <th>3</th>\n",
       "      <td>Rain</td>\n",
       "      <td>Mild</td>\n",
       "      <td>High</td>\n",
       "      <td>Weak</td>\n",
       "      <td>Yes</td>\n",
       "    </tr>\n",
       "    <tr>\n",
       "      <th>4</th>\n",
       "      <td>Rain</td>\n",
       "      <td>Cool</td>\n",
       "      <td>Normal</td>\n",
       "      <td>Weak</td>\n",
       "      <td>Yes</td>\n",
       "    </tr>\n",
       "  </tbody>\n",
       "</table>\n",
       "</div>"
      ],
      "text/plain": [
       "    Outlook Temperature Humidity    Wind PlayTennis\n",
       "0     Sunny         Hot     High    Weak         No\n",
       "1     Sunny         Hot     High  Strong         No\n",
       "2  Overcast         Hot     High    Weak        Yes\n",
       "3      Rain        Mild     High    Weak        Yes\n",
       "4      Rain        Cool   Normal    Weak        Yes"
      ]
     },
     "execution_count": 117,
     "metadata": {},
     "output_type": "execute_result"
    }
   ],
   "source": [
    "import numpy as np\n",
    "import pandas as pd\n",
    "\n",
    "data = [['Sunny', 'Hot', 'High', 'Weak', 'No'],\n",
    "        ['Sunny', 'Hot', 'High', 'Strong', 'No'],\n",
    "        ['Overcast', 'Hot', 'High', 'Weak', 'Yes'],\n",
    "        ['Rain', 'Mild', 'High', 'Weak', 'Yes'],\n",
    "        ['Rain', 'Cool', 'Normal', 'Weak', 'Yes'],\n",
    "        ['Rain', 'Cool', 'Normal', 'Strong', 'No'],\n",
    "        ['Overcast', 'Cool', 'Normal', 'Strong', 'Yes'],\n",
    "        ['Sunny', 'Mild', 'High', 'Weak', 'No'],\n",
    "        ['Sunny', 'Cool', 'Normal', 'Weak', 'Yes'],\n",
    "        ['Rain', 'Mild', 'Normal', 'Weak', 'Yes'],\n",
    "        ['Sunny', 'Mild', 'Normal', 'Strong', 'Yes'],\n",
    "        ['Overcast', 'Mild', 'High', 'Strong', 'Yes'],\n",
    "        ['Overcast', 'Hot', 'Normal', 'Weak', 'Yes'],\n",
    "        ['Rain', 'Mild', 'High', 'Strong', 'No']\n",
    "        ]\n",
    "\n",
    "Data = pd.DataFrame(data, columns=['Outlook', 'Temperature', 'Humidity', 'Wind', 'PlayTennis'])\n",
    "Data.head()"
   ]
  },
  {
   "cell_type": "code",
   "execution_count": 118,
   "id": "fda5290d-4769-49ae-94b7-fa4b738a2d48",
   "metadata": {},
   "outputs": [],
   "source": [
    "cols = Data.shape[1]\n",
    "X_data = Data.iloc[:,:cols-1]\n",
    "Y_data = Data.iloc[:,cols-1:]\n",
    "featureNames = X_data.columns"
   ]
  },
  {
   "cell_type": "code",
   "execution_count": 119,
   "id": "219ed2ce-7faf-4d6b-85b9-007c4e0e463a",
   "metadata": {},
   "outputs": [],
   "source": [
    "##——————————————————贝叶斯分类器模型训练过程————————————————##\n",
    "def Naive_Bayes(x_data, y_data):\n",
    "    # step1 prior\n",
    "    y = y_data.values\n",
    "    x = x_data.values\n",
    "    y_unique = np.unique(y)  # 记录label\n",
    "\n",
    "    prior_prob = np.zeros(len(y_unique))\n",
    "\n",
    "    for i in range(len(y_unique)):\n",
    "        prior_prob[i] = np.sum(y == y_unique[i]) / len(y)\n",
    "\n",
    "    # step2 likelihood\n",
    "    condition_prob = {}\n",
    "\n",
    "    for feat in featureNames:\n",
    "        x_unique = list(set(x_data[feat]))  # set转换为集合，去除重复的值，保留唯一值  -> 再转为list\n",
    "        x_condition_prob = np.zeros((len(y_unique), len(x_unique)))  # 类型行*属性个数列的数组，记录条件概率\n",
    "        for j in range(len(y_unique)):\n",
    "            for k in range(len(x_unique)):\n",
    "                x_condition_prob[j, k] = np.sum((x_data[feat] == x_unique[k]) & (y_data['PlayTennis'] == y_unique[j])) / np.sum(y == y_unique[j])\n",
    "        x_condition_prob = pd.DataFrame(x_condition_prob, columns=x_unique, index=y_unique)\n",
    "        condition_prob[feat] = x_condition_prob\n",
    "\n",
    "    return prior_prob, condition_prob"
   ]
  },
  {
   "cell_type": "code",
   "execution_count": 120,
   "id": "1277e18e-f475-48d8-9f30-7a06fe030b27",
   "metadata": {},
   "outputs": [],
   "source": [
    "def Prediction(testdata, prior, condition_prob):\n",
    "    labelnum = len(prior)        #记录label数目\n",
    "    featureNames = testdata.columns\n",
    "    samplenum = testdata.shape[0]     #记录测试样例数目\n",
    "    \n",
    "    post_prob = np.zeros((samplenum,labelnum)) #记录每一个测试样例，在每个类别下的后验概率\n",
    "\n",
    "    for k in range(samplenum):\n",
    "        prob_k = np.zeros((labelnum,))\n",
    "        for i in range(labelnum):\n",
    "            pri = prior[i]\n",
    "            for feat in featureNames:\n",
    "                feat_val = testdata[feat][k]\n",
    "                cp = condition_prob[feat]      #字典找表\n",
    "                cp_val = cp[feat_val].iloc[i]   \n",
    "                pri*=cp_val\n",
    "            prob_k[i] = pri\n",
    "        prob = prob_k/np.sum(prob_k, axis=0) \n",
    "        post_prob[k,:]= prob\n",
    "    return post_prob\n",
    "        \n",
    "    "
   ]
  },
  {
   "cell_type": "code",
   "execution_count": 121,
   "id": "6457d7e0-2e74-40cc-8b81-73ed3361f31b",
   "metadata": {},
   "outputs": [
    {
     "data": {
      "text/plain": [
       "array([0.35714286, 0.64285714])"
      ]
     },
     "execution_count": 121,
     "metadata": {},
     "output_type": "execute_result"
    }
   ],
   "source": [
    "prior_prob, condition_prob = Naive_Bayes(X_data,Y_data)\n",
    "prior_prob"
   ]
  },
  {
   "cell_type": "code",
   "execution_count": 122,
   "id": "c9d42b07-4825-49cc-896c-249d33b74373",
   "metadata": {},
   "outputs": [
    {
     "data": {
      "text/html": [
       "<div>\n",
       "<style scoped>\n",
       "    .dataframe tbody tr th:only-of-type {\n",
       "        vertical-align: middle;\n",
       "    }\n",
       "\n",
       "    .dataframe tbody tr th {\n",
       "        vertical-align: top;\n",
       "    }\n",
       "\n",
       "    .dataframe thead th {\n",
       "        text-align: right;\n",
       "    }\n",
       "</style>\n",
       "<table border=\"1\" class=\"dataframe\">\n",
       "  <thead>\n",
       "    <tr style=\"text-align: right;\">\n",
       "      <th></th>\n",
       "      <th>Overcast</th>\n",
       "      <th>Sunny</th>\n",
       "      <th>Rain</th>\n",
       "    </tr>\n",
       "  </thead>\n",
       "  <tbody>\n",
       "    <tr>\n",
       "      <th>No</th>\n",
       "      <td>0.000000</td>\n",
       "      <td>0.600000</td>\n",
       "      <td>0.400000</td>\n",
       "    </tr>\n",
       "    <tr>\n",
       "      <th>Yes</th>\n",
       "      <td>0.444444</td>\n",
       "      <td>0.222222</td>\n",
       "      <td>0.333333</td>\n",
       "    </tr>\n",
       "  </tbody>\n",
       "</table>\n",
       "</div>"
      ],
      "text/plain": [
       "     Overcast     Sunny      Rain\n",
       "No   0.000000  0.600000  0.400000\n",
       "Yes  0.444444  0.222222  0.333333"
      ]
     },
     "execution_count": 122,
     "metadata": {},
     "output_type": "execute_result"
    }
   ],
   "source": [
    "condition_prob['Outlook']"
   ]
  },
  {
   "cell_type": "code",
   "execution_count": 123,
   "id": "7cfe5d8b-5552-4899-8800-425f06d32fa2",
   "metadata": {},
   "outputs": [
    {
     "data": {
      "text/html": [
       "<div>\n",
       "<style scoped>\n",
       "    .dataframe tbody tr th:only-of-type {\n",
       "        vertical-align: middle;\n",
       "    }\n",
       "\n",
       "    .dataframe tbody tr th {\n",
       "        vertical-align: top;\n",
       "    }\n",
       "\n",
       "    .dataframe thead th {\n",
       "        text-align: right;\n",
       "    }\n",
       "</style>\n",
       "<table border=\"1\" class=\"dataframe\">\n",
       "  <thead>\n",
       "    <tr style=\"text-align: right;\">\n",
       "      <th></th>\n",
       "      <th>Mild</th>\n",
       "      <th>Hot</th>\n",
       "      <th>Cool</th>\n",
       "    </tr>\n",
       "  </thead>\n",
       "  <tbody>\n",
       "    <tr>\n",
       "      <th>No</th>\n",
       "      <td>0.400000</td>\n",
       "      <td>0.400000</td>\n",
       "      <td>0.200000</td>\n",
       "    </tr>\n",
       "    <tr>\n",
       "      <th>Yes</th>\n",
       "      <td>0.444444</td>\n",
       "      <td>0.222222</td>\n",
       "      <td>0.333333</td>\n",
       "    </tr>\n",
       "  </tbody>\n",
       "</table>\n",
       "</div>"
      ],
      "text/plain": [
       "         Mild       Hot      Cool\n",
       "No   0.400000  0.400000  0.200000\n",
       "Yes  0.444444  0.222222  0.333333"
      ]
     },
     "execution_count": 123,
     "metadata": {},
     "output_type": "execute_result"
    }
   ],
   "source": [
    "condition_prob['Temperature']"
   ]
  },
  {
   "cell_type": "code",
   "execution_count": 124,
   "id": "f23bbf66-3eed-4ad8-9ccc-88f1310a04c9",
   "metadata": {},
   "outputs": [
    {
     "data": {
      "text/html": [
       "<div>\n",
       "<style scoped>\n",
       "    .dataframe tbody tr th:only-of-type {\n",
       "        vertical-align: middle;\n",
       "    }\n",
       "\n",
       "    .dataframe tbody tr th {\n",
       "        vertical-align: top;\n",
       "    }\n",
       "\n",
       "    .dataframe thead th {\n",
       "        text-align: right;\n",
       "    }\n",
       "</style>\n",
       "<table border=\"1\" class=\"dataframe\">\n",
       "  <thead>\n",
       "    <tr style=\"text-align: right;\">\n",
       "      <th></th>\n",
       "      <th>High</th>\n",
       "      <th>Normal</th>\n",
       "    </tr>\n",
       "  </thead>\n",
       "  <tbody>\n",
       "    <tr>\n",
       "      <th>No</th>\n",
       "      <td>0.800000</td>\n",
       "      <td>0.200000</td>\n",
       "    </tr>\n",
       "    <tr>\n",
       "      <th>Yes</th>\n",
       "      <td>0.333333</td>\n",
       "      <td>0.666667</td>\n",
       "    </tr>\n",
       "  </tbody>\n",
       "</table>\n",
       "</div>"
      ],
      "text/plain": [
       "         High    Normal\n",
       "No   0.800000  0.200000\n",
       "Yes  0.333333  0.666667"
      ]
     },
     "execution_count": 124,
     "metadata": {},
     "output_type": "execute_result"
    }
   ],
   "source": [
    "condition_prob['Humidity']"
   ]
  },
  {
   "cell_type": "code",
   "execution_count": 125,
   "id": "22514422-77f4-4807-9060-505bcf983260",
   "metadata": {},
   "outputs": [
    {
     "data": {
      "text/html": [
       "<div>\n",
       "<style scoped>\n",
       "    .dataframe tbody tr th:only-of-type {\n",
       "        vertical-align: middle;\n",
       "    }\n",
       "\n",
       "    .dataframe tbody tr th {\n",
       "        vertical-align: top;\n",
       "    }\n",
       "\n",
       "    .dataframe thead th {\n",
       "        text-align: right;\n",
       "    }\n",
       "</style>\n",
       "<table border=\"1\" class=\"dataframe\">\n",
       "  <thead>\n",
       "    <tr style=\"text-align: right;\">\n",
       "      <th></th>\n",
       "      <th>Outlook</th>\n",
       "      <th>Temperature</th>\n",
       "      <th>Humidity</th>\n",
       "      <th>Wind</th>\n",
       "    </tr>\n",
       "  </thead>\n",
       "  <tbody>\n",
       "    <tr>\n",
       "      <th>0</th>\n",
       "      <td>Sunny</td>\n",
       "      <td>Cool</td>\n",
       "      <td>High</td>\n",
       "      <td>Strong</td>\n",
       "    </tr>\n",
       "  </tbody>\n",
       "</table>\n",
       "</div>"
      ],
      "text/plain": [
       "  Outlook Temperature Humidity    Wind\n",
       "0   Sunny        Cool     High  Strong"
      ]
     },
     "execution_count": 125,
     "metadata": {},
     "output_type": "execute_result"
    }
   ],
   "source": [
    "testdata = [['Sunny', 'Cool', 'High', 'Strong']]\n",
    "testdata = pd.DataFrame(testdata, columns=['Outlook', 'Temperature', 'Humidity', 'Wind'])\n",
    "testdata.head()"
   ]
  },
  {
   "cell_type": "code",
   "execution_count": 126,
   "id": "36a8986e-106e-43e1-88ef-ebb1096381dc",
   "metadata": {},
   "outputs": [
    {
     "data": {
      "text/plain": [
       "array([[0.79541735, 0.20458265]])"
      ]
     },
     "execution_count": 126,
     "metadata": {},
     "output_type": "execute_result"
    }
   ],
   "source": [
    "postPrior = Prediction(testdata, prior_prob, condition_prob)\n",
    "postPrior"
   ]
  }
 ],
 "metadata": {
  "kernelspec": {
   "display_name": "Python 3 (ipykernel)",
   "language": "python",
   "name": "python3"
  },
  "language_info": {
   "codemirror_mode": {
    "name": "ipython",
    "version": 3
   },
   "file_extension": ".py",
   "mimetype": "text/x-python",
   "name": "python",
   "nbconvert_exporter": "python",
   "pygments_lexer": "ipython3",
   "version": "3.11.7"
  }
 },
 "nbformat": 4,
 "nbformat_minor": 5
}
