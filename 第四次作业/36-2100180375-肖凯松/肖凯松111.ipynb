{
 "cells": [
  {
   "cell_type": "code",
   "execution_count": 1,
   "id": "166f80c0-dd8d-435c-b5f3-d005108d99f3",
   "metadata": {},
   "outputs": [],
   "source": [
    "import numpy as np\n",
    "import pandas as pd\n",
    "\n",
    "data = [['Sunny', 'Hot', 'High', 'Weak','No'], ['Sunny', 'Hot', 'High', 'Strong', 'No'], ['Overcast', 'Hot', 'High', 'Weak', 'Yes'], ['Rain', 'Mild', 'High', 'Weak', 'Yes'], ['Rain', 'Cool', 'Normal', 'Weak', 'Yes'],\n",
    "        ['Rain', 'Cool', 'Normal', 'Strong', 'No'], ['Overcast', 'Cool', 'Normal', 'Strong', 'Yes'], ['Sunny', 'Mild', 'High', 'Weak', 'No'], ['Sunny', 'Cool', 'Normal', 'Weak', 'Yes'], ['Rain', 'Mild', 'Normal', 'Weak', 'Yes'],\n",
    "        ['Sunny', 'Mild', 'Normal', 'Strong', 'Yes'], ['Overcast', 'Mild', 'High', 'Strong', 'Yes'], ['Overcast', 'Hot', 'Normal', 'Weak', 'Yes'], ['Rain', 'Mild', 'High', 'Strong', 'No']]\n"
   ]
  },
  {
   "cell_type": "code",
   "execution_count": 2,
   "id": "5f6c7f95-0dc4-4b94-8bc0-2a95910f8c8d",
   "metadata": {},
   "outputs": [],
   "source": [
    "Data = pd.DataFrame(data, columns=['Outlook', 'Temperature', 'Humidity', 'Wind', 'Play Tennis'])\n",
    "\n",
    "cols = Data.shape[1]  # 5列:4个特征+ 1个标签\n",
    "X_data = Data.iloc[:, :cols - 1]\n",
    "Y_data = Data.iloc[:, cols - 1:]\n",
    "featureNames = X_data.columns"
   ]
  },
  {
   "cell_type": "code",
   "execution_count": 3,
   "id": "dc151608-eb8b-49b6-8012-dc78cc3f1c26",
   "metadata": {},
   "outputs": [],
   "source": [
    "def Naive_Bayes(X_data, Y_data):\n",
    "    y = Y_data.values\n",
    "    X = X_data.values\n",
    "    y_unique = np.unique(y)\n",
    "    prior_prob = np.zeros(len(y_unique))\n",
    "    for i in range(len(y_unique)):\n",
    "        prior_prob[i] = sum(y == y_unique[i]) / len(y)\n",
    "\n",
    "    condition_prob = {}\n",
    "    for feat in featureNames:\n",
    "        x_unique = list(set(X_data[feat]))\n",
    "        x_condition_prob = np.zeros((len(y_unique), len(x_unique)))\n",
    "        for j in range(len(y_unique)):\n",
    "            for k in range(len(x_unique)):\n",
    "                x_condition_prob[j, k] = sum((X_data[feat] == x_unique[k]) & (Y_data['Play Tennis'] == y_unique[j])) / sum(\n",
    "                    y == y_unique[j])\n",
    "        x_condition_prob = pd.DataFrame(x_condition_prob, columns=x_unique, index=y_unique)\n",
    "        condition_prob[feat] = x_condition_prob\n",
    "    return prior_prob, condition_prob, y_unique"
   ]
  },
  {
   "cell_type": "code",
   "execution_count": 4,
   "id": "6cf87a8b-0f7e-4716-a9f4-90ce022934ea",
   "metadata": {},
   "outputs": [
    {
     "name": "stdout",
     "output_type": "stream",
     "text": [
      "[0.35714286 0.64285714]\n",
      "        Sunny      Rain  Overcast\n",
      "No   0.600000  0.400000  0.000000\n",
      "Yes  0.222222  0.333333  0.444444\n",
      "         Mild       Hot      Cool\n",
      "No   0.400000  0.400000  0.200000\n",
      "Yes  0.444444  0.222222  0.333333\n",
      "         High    Normal\n",
      "No   0.800000  0.200000\n",
      "Yes  0.333333  0.666667\n",
      "       Strong      Weak\n",
      "No   0.600000  0.400000\n",
      "Yes  0.333333  0.666667\n"
     ]
    },
    {
     "name": "stderr",
     "output_type": "stream",
     "text": [
      "C:\\Users\\Asus\\AppData\\Local\\Temp\\ipykernel_9620\\1726018027.py:7: DeprecationWarning: Conversion of an array with ndim > 0 to a scalar is deprecated, and will error in future. Ensure you extract a single element from your array before performing this operation. (Deprecated NumPy 1.25.)\n",
      "  prior_prob[i] = sum(y == y_unique[i]) / len(y)\n",
      "C:\\Users\\Asus\\AppData\\Local\\Temp\\ipykernel_9620\\1726018027.py:15: DeprecationWarning: Conversion of an array with ndim > 0 to a scalar is deprecated, and will error in future. Ensure you extract a single element from your array before performing this operation. (Deprecated NumPy 1.25.)\n",
      "  x_condition_prob[j, k] = sum((X_data[feat] == x_unique[k]) & (Y_data['Play Tennis'] == y_unique[j])) / sum(\n",
      "C:\\Users\\Asus\\AppData\\Local\\Temp\\ipykernel_9620\\1726018027.py:15: DeprecationWarning: Conversion of an array with ndim > 0 to a scalar is deprecated, and will error in future. Ensure you extract a single element from your array before performing this operation. (Deprecated NumPy 1.25.)\n",
      "  x_condition_prob[j, k] = sum((X_data[feat] == x_unique[k]) & (Y_data['Play Tennis'] == y_unique[j])) / sum(\n",
      "C:\\Users\\Asus\\AppData\\Local\\Temp\\ipykernel_9620\\1726018027.py:15: DeprecationWarning: Conversion of an array with ndim > 0 to a scalar is deprecated, and will error in future. Ensure you extract a single element from your array before performing this operation. (Deprecated NumPy 1.25.)\n",
      "  x_condition_prob[j, k] = sum((X_data[feat] == x_unique[k]) & (Y_data['Play Tennis'] == y_unique[j])) / sum(\n",
      "C:\\Users\\Asus\\AppData\\Local\\Temp\\ipykernel_9620\\1726018027.py:15: DeprecationWarning: Conversion of an array with ndim > 0 to a scalar is deprecated, and will error in future. Ensure you extract a single element from your array before performing this operation. (Deprecated NumPy 1.25.)\n",
      "  x_condition_prob[j, k] = sum((X_data[feat] == x_unique[k]) & (Y_data['Play Tennis'] == y_unique[j])) / sum(\n"
     ]
    }
   ],
   "source": [
    "prior_prob, condition_prob,_ =Naive_Bayes(X_data,Y_data)\n",
    "print(prior_prob)\n",
    "print(condition_prob['Outlook'])\n",
    "print(condition_prob['Temperature'])\n",
    "print(condition_prob['Humidity'])\n",
    "print(condition_prob['Wind'])"
   ]
  },
  {
   "cell_type": "code",
   "execution_count": 5,
   "id": "2b59fa13-1524-48e9-b47d-8cdc76682dd8",
   "metadata": {},
   "outputs": [],
   "source": [
    "def Prediction(testData, prior, condition_prob, y_unique):\n",
    "    numclass = prior.shape[0]\n",
    "    featureNames = testData.columns\n",
    "    numsample = testData.shape[0]\n",
    "    post_prob = np.zeros((numsample, numclass))\n",
    "    for k in range(numsample):\n",
    "        prob_k = np.zeros((numclass,))\n",
    "        for i in range(numclass):\n",
    "            pri = prior[i]\n",
    "            for feat in featureNames:\n",
    "                feat_val = testData[feat][k]\n",
    "                cp = condition_prob[feat]\n",
    "                cp_val = cp.loc[y_unique[i], feat_val]  # 使用标签值进行索引\n",
    "                pri *= cp_val\n",
    "            prob_k[i] = pri\n",
    "        prob = prob_k / np.sum(prob_k, axis=0)\n",
    "        post_prob[k, :] = prob\n",
    "    return post_prob\n"
   ]
  },
  {
   "cell_type": "code",
   "execution_count": 6,
   "id": "7c63512c-f374-406e-9534-33666a1b14d1",
   "metadata": {},
   "outputs": [
    {
     "name": "stdout",
     "output_type": "stream",
     "text": [
      "[[0.79541735 0.20458265]]\n"
     ]
    },
    {
     "name": "stderr",
     "output_type": "stream",
     "text": [
      "C:\\Users\\Asus\\AppData\\Local\\Temp\\ipykernel_9620\\1726018027.py:7: DeprecationWarning: Conversion of an array with ndim > 0 to a scalar is deprecated, and will error in future. Ensure you extract a single element from your array before performing this operation. (Deprecated NumPy 1.25.)\n",
      "  prior_prob[i] = sum(y == y_unique[i]) / len(y)\n",
      "C:\\Users\\Asus\\AppData\\Local\\Temp\\ipykernel_9620\\1726018027.py:15: DeprecationWarning: Conversion of an array with ndim > 0 to a scalar is deprecated, and will error in future. Ensure you extract a single element from your array before performing this operation. (Deprecated NumPy 1.25.)\n",
      "  x_condition_prob[j, k] = sum((X_data[feat] == x_unique[k]) & (Y_data['Play Tennis'] == y_unique[j])) / sum(\n",
      "C:\\Users\\Asus\\AppData\\Local\\Temp\\ipykernel_9620\\1726018027.py:15: DeprecationWarning: Conversion of an array with ndim > 0 to a scalar is deprecated, and will error in future. Ensure you extract a single element from your array before performing this operation. (Deprecated NumPy 1.25.)\n",
      "  x_condition_prob[j, k] = sum((X_data[feat] == x_unique[k]) & (Y_data['Play Tennis'] == y_unique[j])) / sum(\n",
      "C:\\Users\\Asus\\AppData\\Local\\Temp\\ipykernel_9620\\1726018027.py:15: DeprecationWarning: Conversion of an array with ndim > 0 to a scalar is deprecated, and will error in future. Ensure you extract a single element from your array before performing this operation. (Deprecated NumPy 1.25.)\n",
      "  x_condition_prob[j, k] = sum((X_data[feat] == x_unique[k]) & (Y_data['Play Tennis'] == y_unique[j])) / sum(\n",
      "C:\\Users\\Asus\\AppData\\Local\\Temp\\ipykernel_9620\\1726018027.py:15: DeprecationWarning: Conversion of an array with ndim > 0 to a scalar is deprecated, and will error in future. Ensure you extract a single element from your array before performing this operation. (Deprecated NumPy 1.25.)\n",
      "  x_condition_prob[j, k] = sum((X_data[feat] == x_unique[k]) & (Y_data['Play Tennis'] == y_unique[j])) / sum(\n"
     ]
    }
   ],
   "source": [
    "prior_prob, condition_prob, y_unique = Naive_Bayes(X_data, Y_data)\n",
    "\n",
    "test_data = [['Sunny', 'Cool', 'High', 'Strong']]\n",
    "testData = pd.DataFrame(test_data, columns=['Outlook', 'Temperature', 'Humidity', 'Wind'])\n",
    "\n",
    "postPrior = Prediction(testData, prior_prob, condition_prob, y_unique)\n",
    "print(postPrior)"
   ]
  },
  {
   "cell_type": "code",
   "execution_count": 7,
   "id": "a87c7e31-e098-4ac9-b263-2aefe0c0a49f",
   "metadata": {},
   "outputs": [
    {
     "name": "stdout",
     "output_type": "stream",
     "text": [
      "Prediction: ['No']\n"
     ]
    }
   ],
   "source": [
    "def get_prediction(post_prob, y_unique):\n",
    "    idx = np.argmax(post_prob, axis=1)  # 获取具有最高概率的类别的索引\n",
    "    prediction = [y_unique[i] for i in idx]  # 根据索引获取类别\n",
    "    return prediction\n",
    "\n",
    "post_prior = Prediction(testData, prior_prob, condition_prob, y_unique)\n",
    "prediction = get_prediction(post_prior, y_unique)\n",
    "print(\"Prediction:\", prediction)"
   ]
  },
  {
   "cell_type": "code",
   "execution_count": null,
   "id": "1aab02e5-5c3c-45ab-961a-5fe88426194a",
   "metadata": {},
   "outputs": [],
   "source": []
  }
 ],
 "metadata": {
  "kernelspec": {
   "display_name": "Python 3 (ipykernel)",
   "language": "python",
   "name": "python3"
  },
  "language_info": {
   "codemirror_mode": {
    "name": "ipython",
    "version": 3
   },
   "file_extension": ".py",
   "mimetype": "text/x-python",
   "name": "python",
   "nbconvert_exporter": "python",
   "pygments_lexer": "ipython3",
   "version": "3.12.0"
  }
 },
 "nbformat": 4,
 "nbformat_minor": 5
}
