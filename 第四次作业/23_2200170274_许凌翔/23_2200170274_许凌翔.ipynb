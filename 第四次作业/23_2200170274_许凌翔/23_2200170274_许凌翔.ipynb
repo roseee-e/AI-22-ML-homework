{
 "cells": [
  {
   "cell_type": "code",
   "execution_count": 1,
   "id": "a91d539f",
   "metadata": {},
   "outputs": [],
   "source": [
    "import numpy as np\n",
    "import pandas as pd"
   ]
  },
  {
   "cell_type": "code",
   "execution_count": 2,
   "id": "7d0dabf0",
   "metadata": {},
   "outputs": [],
   "source": [
    "#用y代表PlayTennis,用0/1代表no/yes\n",
    "data=[['Sunny','Hot','High','Weak',0],['Sunny','Hot','High','Strong',0],['Overcast','Hot','High','Weak',1],['Rain','Mild','High','Weak',1],['Rain','Cool','Normal','Weak',1],['Rain','Cool','Normal','Strong',0],['Overcast','Cool','Normal','Strong',1],['Sunny','Mild','High','Weak',0],['Sunny','Cool','Normal','Weak',1],['Rain','Mild','Normal','Weak',1],['Sunny','Mild','Normal','Strong',1],['Overcast','Mild','High','Strong',1],['Overcast','Hot','Normal','Weak',1],['Rain','Mild','High','Strong',0]]"
   ]
  },
  {
   "cell_type": "code",
   "execution_count": 3,
   "id": "6c419913",
   "metadata": {},
   "outputs": [
    {
     "data": {
      "text/html": [
       "<div>\n",
       "<style scoped>\n",
       "    .dataframe tbody tr th:only-of-type {\n",
       "        vertical-align: middle;\n",
       "    }\n",
       "\n",
       "    .dataframe tbody tr th {\n",
       "        vertical-align: top;\n",
       "    }\n",
       "\n",
       "    .dataframe thead th {\n",
       "        text-align: right;\n",
       "    }\n",
       "</style>\n",
       "<table border=\"1\" class=\"dataframe\">\n",
       "  <thead>\n",
       "    <tr style=\"text-align: right;\">\n",
       "      <th></th>\n",
       "      <th>Outlook</th>\n",
       "      <th>Temperature</th>\n",
       "      <th>Humidity</th>\n",
       "      <th>Wind</th>\n",
       "      <th>y</th>\n",
       "    </tr>\n",
       "  </thead>\n",
       "  <tbody>\n",
       "    <tr>\n",
       "      <th>0</th>\n",
       "      <td>Sunny</td>\n",
       "      <td>Hot</td>\n",
       "      <td>High</td>\n",
       "      <td>Weak</td>\n",
       "      <td>0</td>\n",
       "    </tr>\n",
       "    <tr>\n",
       "      <th>1</th>\n",
       "      <td>Sunny</td>\n",
       "      <td>Hot</td>\n",
       "      <td>High</td>\n",
       "      <td>Strong</td>\n",
       "      <td>0</td>\n",
       "    </tr>\n",
       "    <tr>\n",
       "      <th>2</th>\n",
       "      <td>Overcast</td>\n",
       "      <td>Hot</td>\n",
       "      <td>High</td>\n",
       "      <td>Weak</td>\n",
       "      <td>1</td>\n",
       "    </tr>\n",
       "    <tr>\n",
       "      <th>3</th>\n",
       "      <td>Rain</td>\n",
       "      <td>Mild</td>\n",
       "      <td>High</td>\n",
       "      <td>Weak</td>\n",
       "      <td>1</td>\n",
       "    </tr>\n",
       "    <tr>\n",
       "      <th>4</th>\n",
       "      <td>Rain</td>\n",
       "      <td>Cool</td>\n",
       "      <td>Normal</td>\n",
       "      <td>Weak</td>\n",
       "      <td>1</td>\n",
       "    </tr>\n",
       "  </tbody>\n",
       "</table>\n",
       "</div>"
      ],
      "text/plain": [
       "    Outlook Temperature Humidity    Wind  y\n",
       "0     Sunny         Hot     High    Weak  0\n",
       "1     Sunny         Hot     High  Strong  0\n",
       "2  Overcast         Hot     High    Weak  1\n",
       "3      Rain        Mild     High    Weak  1\n",
       "4      Rain        Cool   Normal    Weak  1"
      ]
     },
     "execution_count": 3,
     "metadata": {},
     "output_type": "execute_result"
    }
   ],
   "source": [
    "Data=pd.DataFrame(data,columns=['Outlook','Temperature','Humidity','Wind','y'])\n",
    "Data.head()"
   ]
  },
  {
   "cell_type": "code",
   "execution_count": 4,
   "id": "7ae47428",
   "metadata": {},
   "outputs": [],
   "source": [
    "cols=Data.shape[1]\n",
    "X_data=Data.iloc[:,:cols-1]\n",
    "Y_data=Data.iloc[:,cols-1:]\n",
    "featureNames=X_data.columns"
   ]
  },
  {
   "cell_type": "code",
   "execution_count": 5,
   "id": "3f1c5a7e",
   "metadata": {},
   "outputs": [],
   "source": [
    "def Naive_Bayes(X_data,Y_data):\n",
    "    x=X_data.values\n",
    "    y=Y_data.values\n",
    "    y_unique=np.unique(y)\n",
    "    prior_prob=np.zeros(len(y_unique))\n",
    "    for i in range(len(y_unique)):\n",
    "        prior_prob[i]=sum(y==y_unique[i])/len(y)\n",
    "\n",
    "    condition_prob={}\n",
    "\n",
    "    for feat in featureNames:\n",
    "        x_unique=list(set(X_data[feat]))\n",
    "        x_condition_prob=np.zeros((len(y_unique),len(x_unique)))\n",
    "        for j in range(len(y_unique)):\n",
    "            for k in range(len(x_unique)):\n",
    "                x_condition_prob[j,k]=\\\n",
    "                sum((X_data[feat]==x_unique[k])&(Y_data.y==y_unique[j]))/sum(y==y_unique[j])\n",
    "        x_condition_prob=pd.DataFrame(x_condition_prob,columns=x_unique,index=y_unique)\n",
    "        condition_prob[feat]=x_condition_prob\n",
    "    return prior_prob,condition_prob\n"
   ]
  },
  {
   "cell_type": "code",
   "execution_count": 6,
   "id": "98b61bcb",
   "metadata": {},
   "outputs": [],
   "source": [
    "def Prediction(testData,prior,condition_prob):\n",
    "    numclass=prior.shape[0]\n",
    "    featureNames=testData.columns\n",
    "    numclass=prior.shape[0]\n",
    "    numsample=testData.shape[0]\n",
    "    featureNames=testData.columns\n",
    "    post_prob=np.zeros((numsample,numclass))\n",
    "    for k in range(numsample):\n",
    "        prob_k=np.zeros((numclass,))\n",
    "        for i in range(numclass):\n",
    "            pri=prior[i]\n",
    "            for feat in featureNames:\n",
    "                feat_val=testData[feat][k]\n",
    "                cp=condition_prob[feat]\n",
    "                cp_val=cp.loc[i,feat_val]\n",
    "                pri*=cp_val\n",
    "            prob_k[i]=pri\n",
    "        prob=prob_k/np.sum(prob_k,axis=0)\n",
    "        post_prob[k,:]=prob\n",
    "    return post_prob\n",
    "\n"
   ]
  },
  {
   "cell_type": "code",
   "execution_count": 7,
   "id": "bac68762",
   "metadata": {},
   "outputs": [
    {
     "name": "stdout",
     "output_type": "stream",
     "text": [
      "[0.35714286 0.64285714]\n",
      "   Overcast      Rain     Sunny\n",
      "0  0.000000  0.400000  0.600000\n",
      "1  0.444444  0.333333  0.222222\n",
      "       Mild      Cool       Hot\n",
      "0  0.400000  0.200000  0.400000\n",
      "1  0.444444  0.333333  0.222222\n",
      "       High    Normal\n",
      "0  0.800000  0.200000\n",
      "1  0.333333  0.666667\n",
      "       Weak    Strong\n",
      "0  0.400000  0.600000\n",
      "1  0.666667  0.333333\n"
     ]
    }
   ],
   "source": [
    "#算出先验概率，条件概率\n",
    "prior_prob,condition_prob=Naive_Bayes(X_data,Y_data)\n",
    "\n",
    "print(prior_prob)\n",
    "print(condition_prob['Outlook'])\n",
    "print(condition_prob['Temperature'])\n",
    "print(condition_prob['Humidity'])\n",
    "print(condition_prob['Wind'])"
   ]
  },
  {
   "cell_type": "code",
   "execution_count": 8,
   "id": "e6c298e7",
   "metadata": {},
   "outputs": [
    {
     "data": {
      "text/html": [
       "<div>\n",
       "<style scoped>\n",
       "    .dataframe tbody tr th:only-of-type {\n",
       "        vertical-align: middle;\n",
       "    }\n",
       "\n",
       "    .dataframe tbody tr th {\n",
       "        vertical-align: top;\n",
       "    }\n",
       "\n",
       "    .dataframe thead th {\n",
       "        text-align: right;\n",
       "    }\n",
       "</style>\n",
       "<table border=\"1\" class=\"dataframe\">\n",
       "  <thead>\n",
       "    <tr style=\"text-align: right;\">\n",
       "      <th></th>\n",
       "      <th>Outlook</th>\n",
       "      <th>Temperature</th>\n",
       "      <th>Humidity</th>\n",
       "      <th>Wind</th>\n",
       "    </tr>\n",
       "  </thead>\n",
       "  <tbody>\n",
       "    <tr>\n",
       "      <th>0</th>\n",
       "      <td>Sunny</td>\n",
       "      <td>Cool</td>\n",
       "      <td>High</td>\n",
       "      <td>Strong</td>\n",
       "    </tr>\n",
       "  </tbody>\n",
       "</table>\n",
       "</div>"
      ],
      "text/plain": [
       "  Outlook Temperature Humidity    Wind\n",
       "0   Sunny        Cool     High  Strong"
      ]
     },
     "execution_count": 8,
     "metadata": {},
     "output_type": "execute_result"
    }
   ],
   "source": [
    "#测试数据\n",
    "test_data=[['Sunny','Cool','High','Strong']]\n",
    "testData=pd.DataFrame(test_data,columns=['Outlook','Temperature','Humidity','Wind'])\n",
    "testData.head()"
   ]
  },
  {
   "cell_type": "code",
   "execution_count": 9,
   "id": "81699a2a",
   "metadata": {},
   "outputs": [
    {
     "data": {
      "text/plain": [
       "array([[0.79541735, 0.20458265]])"
      ]
     },
     "execution_count": 9,
     "metadata": {},
     "output_type": "execute_result"
    }
   ],
   "source": [
    "#预测是否可以去打网球\n",
    "postPrior=Prediction(testData,prior_prob,condition_prob)\n",
    "postPrior"
   ]
  },
  {
   "cell_type": "code",
   "execution_count": 10,
   "id": "adbce42d",
   "metadata": {},
   "outputs": [
    {
     "name": "stdout",
     "output_type": "stream",
     "text": [
      "No\n"
     ]
    }
   ],
   "source": [
    "#预测结果\n",
    "if postPrior[0][0]>postPrior[0][1]:\n",
    "    print(\"No\")\n",
    "else:\n",
    "    print(\"Yes\")"
   ]
  },
  {
   "cell_type": "code",
   "execution_count": null,
   "id": "5b228754",
   "metadata": {},
   "outputs": [],
   "source": []
  }
 ],
 "metadata": {
  "kernelspec": {
   "display_name": "Python 3 (ipykernel)",
   "language": "python",
   "name": "python3"
  },
  "language_info": {
   "codemirror_mode": {
    "name": "ipython",
    "version": 3
   },
   "file_extension": ".py",
   "mimetype": "text/x-python",
   "name": "python",
   "nbconvert_exporter": "python",
   "pygments_lexer": "ipython3",
   "version": "3.11.4"
  }
 },
 "nbformat": 4,
 "nbformat_minor": 5
}
