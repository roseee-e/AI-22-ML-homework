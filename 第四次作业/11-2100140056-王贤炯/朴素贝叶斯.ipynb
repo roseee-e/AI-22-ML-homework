{
 "cells": [
  {
   "cell_type": "code",
   "execution_count": 4,
   "id": "41977ee8-ea20-4834-8452-ed4aed51064e",
   "metadata": {},
   "outputs": [
    {
     "name": "stdout",
     "output_type": "stream",
     "text": [
      "     Outlook Temperature Humidity    Wind PlayTennis\n",
      "0      Sunny         Hot     High    Weak         No\n",
      "1      Sunny         Hot     High  Strong         No\n",
      "2   Overcast         Hot     High    Weak        Yes\n",
      "3       Rain        Mild     High    Weak        Yes\n",
      "4       Rain        Cool   Normal    Weak        Yes\n",
      "5       Rain        Cool   Normal  Strong         No\n",
      "6   Overcast        Cool   Normal  Strong        Yes\n",
      "7      Sunny        Mild     High    Weak         No\n",
      "8      Sunny        Cool   Normal    Weak        Yes\n",
      "9       Rain        Mild   Normal    Weak        Yes\n",
      "10     Sunny        Mild   Normal  Strong        Yes\n",
      "11  Overcast        Mild     High  Strong        Yes\n",
      "12  Overcast         Hot   Normal    Weak        Yes\n",
      "13      Rain        Mild     High  Strong         No\n"
     ]
    }
   ],
   "source": [
    "import numpy as np\n",
    "import pandas as pd\n",
    "\n",
    "# 定义训练数据\n",
    "data = [['Sunny', 'Hot', 'High', 'Weak', 'No'], ['Sunny', 'Hot', 'High', 'Strong', 'No'],\n",
    "        ['Overcast', 'Hot', 'High', 'Weak', 'Yes'], ['Rain', 'Mild', 'High', 'Weak', 'Yes'],\n",
    "        ['Rain', 'Cool', 'Normal', 'Weak', 'Yes'], ['Rain', 'Cool', 'Normal', 'Strong', 'No'],\n",
    "        ['Overcast', 'Cool', 'Normal', 'Strong', 'Yes'], ['Sunny', 'Mild', 'High', 'Weak', 'No'],\n",
    "        ['Sunny', 'Cool', 'Normal', 'Weak', 'Yes'], ['Rain', 'Mild', 'Normal', 'Weak', 'Yes'],\n",
    "        ['Sunny', 'Mild', 'Normal', 'Strong', 'Yes'], ['Overcast', 'Mild', 'High', 'Strong', 'Yes'],\n",
    "        ['Overcast', 'Hot', 'Normal', 'Weak', 'Yes'], ['Rain', 'Mild', 'High', 'Strong', 'No']\n",
    "        ]\n",
    "\n",
    "# 创建数据框\n",
    "Data = pd.DataFrame(data, columns=['Outlook', 'Temperature', 'Humidity', 'Wind', 'PlayTennis'])\n",
    "\n",
    "# 打印数据\n",
    "print(Data)"
   ]
  },
  {
   "cell_type": "code",
   "execution_count": 5,
   "id": "1138d0fa-be7d-4026-b3dd-a18c256d35f7",
   "metadata": {},
   "outputs": [],
   "source": [
    "# 提取特征和标签\n",
    "cols = Data.shape[1]\n",
    "X_data = Data.iloc[:, :cols - 1]\n",
    "Y_data = Data.iloc[:, cols - 1:]\n",
    "featureNames = X_data.columns\n",
    "\n",
    "# 对标签进行唯一化处理\n",
    "y = Y_data.values\n",
    "y_unique = np.unique(y)\n",
    "x = X_data.values"
   ]
  },
  {
   "cell_type": "code",
   "execution_count": 6,
   "id": "789f6d79-7f21-4d38-9b34-57cb8bf6431e",
   "metadata": {},
   "outputs": [
    {
     "name": "stdout",
     "output_type": "stream",
     "text": [
      "  Outlook Temperature Humidity    Wind\n",
      "0   Sunny        Cool     High  Strong\n"
     ]
    }
   ],
   "source": [
    "# 创建测试数据\n",
    "test_data = [['Sunny', 'Cool', 'High', 'Strong']]\n",
    "test_data = pd.DataFrame(test_data, columns=['Outlook', 'Temperature', 'Humidity', 'Wind'])\n",
    "print(test_data)"
   ]
  },
  {
   "cell_type": "code",
   "execution_count": 7,
   "id": "0d60ded5-d936-42a1-811b-593613ee5c47",
   "metadata": {},
   "outputs": [],
   "source": [
    "# 定义朴素贝叶斯函数\n",
    "def Naive_Bayes(X_data, Y_data, featureNames):\n",
    "    y = Y_data.values\n",
    "    x = X_data.values\n",
    "    y_unique = np.unique(y)\n",
    "    prior_prob = np.zeros(len(y_unique))\n",
    "    for i in range(len(y_unique)):\n",
    "        prior_prob[i] = np.sum(y == y_unique[i]) / len(y)\n",
    "\n",
    "    condition_prob = {}\n",
    "\n",
    "    for feat in featureNames:\n",
    "        x_unique = list(set(X_data[feat]))\n",
    "        x_condition_prob = np.zeros((len(y_unique), len(x_unique)))\n",
    "        for i in range(len(y_unique)):\n",
    "            for j in range(len(x_unique)):\n",
    "                x_condition_prob[i, j] = sum(\n",
    "                    (X_data[feat] == x_unique[j]) & (Y_data['PlayTennis'] == y_unique[i])) / sum(\n",
    "                    y == y_unique[i])\n",
    "        x_condition_prob = pd.DataFrame(x_condition_prob, columns=x_unique, index=y_unique)\n",
    "        condition_prob[feat] = x_condition_prob\n",
    "\n",
    "    return prior_prob, condition_prob"
   ]
  },
  {
   "cell_type": "code",
   "execution_count": 8,
   "id": "331053c9-cbeb-43fa-827c-5fbe8a574ad7",
   "metadata": {},
   "outputs": [],
   "source": [
    "# 定义预测函数\n",
    "def Prediction(test_data, prior, condition_prob, y_unique):\n",
    "    numclass = prior.shape[0]\n",
    "    featureNames = test_data.columns\n",
    "    numsample = test_data.shape[0]\n",
    "    post_prob = np.zeros((numsample, numclass))\n",
    "    for k in range(numsample):\n",
    "        prob_k = np.zeros((numclass,))\n",
    "        for i in range(numclass):\n",
    "            pri = prior[i]\n",
    "            for feat in featureNames:\n",
    "                feat_val = test_data[feat][k]\n",
    "                cp = condition_prob[feat]\n",
    "                cp_val = cp.loc[y_unique[i], feat_val]  # 使用标签值进行索引\n",
    "                pri *= cp_val\n",
    "            prob_k[i] = pri\n",
    "        prob = prob_k / np.sum(prob_k, axis=0)\n",
    "        post_prob[k, :] = prob\n",
    "\n",
    "        if (post_prob[0][0] > post_prob[0][1]):\n",
    "            lable = y_unique[0]\n",
    "        else:\n",
    "            lable = y_unique[1]\n",
    "\n",
    "    return post_prob, lable"
   ]
  },
  {
   "cell_type": "code",
   "execution_count": 9,
   "id": "512de151-0def-4440-9c19-a9c1a469a57d",
   "metadata": {},
   "outputs": [
    {
     "name": "stderr",
     "output_type": "stream",
     "text": [
      "C:\\Users\\WXJ\\AppData\\Local\\Temp\\ipykernel_12048\\1397865830.py:17: DeprecationWarning: Conversion of an array with ndim > 0 to a scalar is deprecated, and will error in future. Ensure you extract a single element from your array before performing this operation. (Deprecated NumPy 1.25.)\n",
      "  x_condition_prob[i, j] = sum(\n",
      "C:\\Users\\WXJ\\AppData\\Local\\Temp\\ipykernel_12048\\1397865830.py:17: DeprecationWarning: Conversion of an array with ndim > 0 to a scalar is deprecated, and will error in future. Ensure you extract a single element from your array before performing this operation. (Deprecated NumPy 1.25.)\n",
      "  x_condition_prob[i, j] = sum(\n",
      "C:\\Users\\WXJ\\AppData\\Local\\Temp\\ipykernel_12048\\1397865830.py:17: DeprecationWarning: Conversion of an array with ndim > 0 to a scalar is deprecated, and will error in future. Ensure you extract a single element from your array before performing this operation. (Deprecated NumPy 1.25.)\n",
      "  x_condition_prob[i, j] = sum(\n",
      "C:\\Users\\WXJ\\AppData\\Local\\Temp\\ipykernel_12048\\1397865830.py:17: DeprecationWarning: Conversion of an array with ndim > 0 to a scalar is deprecated, and will error in future. Ensure you extract a single element from your array before performing this operation. (Deprecated NumPy 1.25.)\n",
      "  x_condition_prob[i, j] = sum(\n"
     ]
    }
   ],
   "source": [
    "# 训练朴素贝叶斯模型并进行预测\n",
    "prior_prob, condition_prob = Naive_Bayes(X_data, Y_data, featureNames)\n",
    "post_prob , lable = Prediction(test_data, prior_prob, condition_prob, y_unique)"
   ]
  },
  {
   "cell_type": "code",
   "execution_count": 10,
   "id": "6ade03c3-3505-4c09-9f82-27f29218676e",
   "metadata": {},
   "outputs": [
    {
     "name": "stdout",
     "output_type": "stream",
     "text": [
      "No [[0.79541735 0.20458265]]\n"
     ]
    }
   ],
   "source": [
    "print(lable, post_prob)  # 输出预测结果和后验概率"
   ]
  },
  {
   "cell_type": "code",
   "execution_count": null,
   "id": "fb649ed8-1f39-48c1-b410-e7b790cd45b2",
   "metadata": {},
   "outputs": [],
   "source": []
  }
 ],
 "metadata": {
  "kernelspec": {
   "display_name": "Python 3 (ipykernel)",
   "language": "python",
   "name": "python3"
  },
  "language_info": {
   "codemirror_mode": {
    "name": "ipython",
    "version": 3
   },
   "file_extension": ".py",
   "mimetype": "text/x-python",
   "name": "python",
   "nbconvert_exporter": "python",
   "pygments_lexer": "ipython3",
   "version": "3.11.7"
  }
 },
 "nbformat": 4,
 "nbformat_minor": 5
}
