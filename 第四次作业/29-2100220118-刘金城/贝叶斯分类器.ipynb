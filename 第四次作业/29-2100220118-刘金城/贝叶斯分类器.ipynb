{
 "cells": [
  {
   "cell_type": "markdown",
   "id": "ebade011",
   "metadata": {},
   "source": [
    "训练贝叶斯分类器模型\n",
    "在计算后验概率时，我们需要计算出：\n",
    "\n",
    "$$p(Y\\big|X)=\\frac{p(X\\big|Y)p(Y)}{p(X)}$$\n",
    "\n",
    "其中$$p(Y)$$为先验概率，先验信息不需要任何有关样本特征的信息，只需统计Y发生概率的初始估计\n",
    "\n",
    "其中$$p(X)$$证据信息是X发生的概率，是所有类别的联合分布边缘化\n",
    "\n",
    "其中似然 $$p(X|Y)$$ 是在给定类别 Y 下，观察到数据 X 的概率。它描述了特征在给定类别下的分布情况。"
   ]
  },
  {
   "cell_type": "code",
   "execution_count": 1,
   "id": "4677496a",
   "metadata": {},
   "outputs": [],
   "source": [
    "import numpy as np\n",
    "import pandas as pd"
   ]
  },
  {
   "cell_type": "code",
   "execution_count": 2,
   "id": "6ec7341e",
   "metadata": {},
   "outputs": [],
   "source": [
    "data = [\n",
    "    ['Sunny', 'Hot', 'High', 'Weak', 'No'],\n",
    "    [ 'Sunny', 'Hot', 'High', 'Strong', 'No'],\n",
    "    [ 'Overcast', 'Hot', 'High', 'Weak', 'Yes'],\n",
    "    [ 'Rain', 'Mild', 'High', 'Weak', 'Yes'],\n",
    "    [ 'Rain', 'Cool', 'Normal', 'Weak', 'Yes'],\n",
    "    [ 'Rain', 'Cool', 'Normal', 'Strong', 'No'],\n",
    "    [ 'Overcast', 'Cool', 'Normal', 'Strong', 'Yes'],\n",
    "    [ 'Sunny', 'Mild', 'High', 'Weak', 'No'],\n",
    "    [ 'Sunny', 'Cool', 'Normal', 'Weak', 'Yes'],\n",
    "    [ 'Rain', 'Mild', 'Normal', 'Weak', 'Yes'],\n",
    "    [ 'Sunny', 'Mild', 'Normal', 'Strong', 'Yes'],\n",
    "    [ 'Overcast', 'Mild', 'High', 'Strong', 'Yes'],\n",
    "    [ 'Overcast', 'Hot', 'Normal', 'Weak', 'Yes'],\n",
    "    [ 'Rain', 'Mild', 'High', 'Strong', 'No'],\n",
    "]"
   ]
  },
  {
   "cell_type": "code",
   "execution_count": 3,
   "id": "0ddd2a00",
   "metadata": {},
   "outputs": [
    {
     "data": {
      "text/html": [
       "<div>\n",
       "<style scoped>\n",
       "    .dataframe tbody tr th:only-of-type {\n",
       "        vertical-align: middle;\n",
       "    }\n",
       "\n",
       "    .dataframe tbody tr th {\n",
       "        vertical-align: top;\n",
       "    }\n",
       "\n",
       "    .dataframe thead th {\n",
       "        text-align: right;\n",
       "    }\n",
       "</style>\n",
       "<table border=\"1\" class=\"dataframe\">\n",
       "  <thead>\n",
       "    <tr style=\"text-align: right;\">\n",
       "      <th></th>\n",
       "      <th>Outlook</th>\n",
       "      <th>Temperature</th>\n",
       "      <th>Humidity</th>\n",
       "      <th>Wind</th>\n",
       "      <th>PlayTennis</th>\n",
       "    </tr>\n",
       "  </thead>\n",
       "  <tbody>\n",
       "    <tr>\n",
       "      <th>0</th>\n",
       "      <td>Sunny</td>\n",
       "      <td>Hot</td>\n",
       "      <td>High</td>\n",
       "      <td>Weak</td>\n",
       "      <td>No</td>\n",
       "    </tr>\n",
       "    <tr>\n",
       "      <th>1</th>\n",
       "      <td>Sunny</td>\n",
       "      <td>Hot</td>\n",
       "      <td>High</td>\n",
       "      <td>Strong</td>\n",
       "      <td>No</td>\n",
       "    </tr>\n",
       "    <tr>\n",
       "      <th>2</th>\n",
       "      <td>Overcast</td>\n",
       "      <td>Hot</td>\n",
       "      <td>High</td>\n",
       "      <td>Weak</td>\n",
       "      <td>Yes</td>\n",
       "    </tr>\n",
       "    <tr>\n",
       "      <th>3</th>\n",
       "      <td>Rain</td>\n",
       "      <td>Mild</td>\n",
       "      <td>High</td>\n",
       "      <td>Weak</td>\n",
       "      <td>Yes</td>\n",
       "    </tr>\n",
       "    <tr>\n",
       "      <th>4</th>\n",
       "      <td>Rain</td>\n",
       "      <td>Cool</td>\n",
       "      <td>Normal</td>\n",
       "      <td>Weak</td>\n",
       "      <td>Yes</td>\n",
       "    </tr>\n",
       "  </tbody>\n",
       "</table>\n",
       "</div>"
      ],
      "text/plain": [
       "    Outlook Temperature Humidity    Wind PlayTennis\n",
       "0     Sunny         Hot     High    Weak         No\n",
       "1     Sunny         Hot     High  Strong         No\n",
       "2  Overcast         Hot     High    Weak        Yes\n",
       "3      Rain        Mild     High    Weak        Yes\n",
       "4      Rain        Cool   Normal    Weak        Yes"
      ]
     },
     "execution_count": 3,
     "metadata": {},
     "output_type": "execute_result"
    }
   ],
   "source": [
    "Data = pd.DataFrame(data, columns=[ 'Outlook', 'Temperature', 'Humidity', 'Wind', 'PlayTennis'])\n",
    "Data.head()"
   ]
  },
  {
   "cell_type": "code",
   "execution_count": 4,
   "id": "9ba02719",
   "metadata": {},
   "outputs": [],
   "source": [
    "X_train=Data[['Outlook','Temperature','Humidity','Wind']]\n",
    "Y_train=Data[['PlayTennis']]\n",
    "featureNames=X_train.columns"
   ]
  },
  {
   "cell_type": "code",
   "execution_count": 5,
   "id": "e5be34f9",
   "metadata": {},
   "outputs": [],
   "source": [
    "def Naive_Bayes(X_data,Y_data):\n",
    "    y=Y_train.values\n",
    "    X=X_train.values\n",
    "    y_unique=np.unique(y)\n",
    "    prior_prob=np.zeros(len(y_unique))\n",
    "        \n",
    "    for i in range(len(y_unique)):\n",
    "        prior_prob[i]=sum(y==y_unique[i])/len(y)\n",
    "            \n",
    "    condition_prob={}\n",
    "        \n",
    "    for feat in featureNames:\n",
    "        x_unique=list(set(X_data[feat]))\n",
    "        x_condition_prob=np.zeros((len(y_unique),len(x_unique)))\n",
    "        for j in range(len(y_unique)):\n",
    "            for k in range(len(x_unique)):\n",
    "                x_condition_prob[j,k]=\\\n",
    "                sum((X_data[feat]==x_unique[k])&(Y_data.PlayTennis==y_unique[j]))/sum(y==y_unique[j])\n",
    "        x_condition_prob=pd.DataFrame(x_condition_prob,columns=x_unique,index=y_unique)\n",
    "        condition_prob[feat]=x_condition_prob\n",
    "    return prior_prob,condition_prob\n",
    "    \n",
    "    \n",
    "    \n",
    "def Prediction(testData,prior,condition_prob):\n",
    "    numclass=prior.shape[0]\n",
    "    numsample=testData.shape[0]\n",
    "    featureNames=testData.columns\n",
    "    post_prob=np.zeros((numsample,numclass))\n",
    "    for k in range(numsample):\n",
    "        prob_k=np.zeros((numclass,))\n",
    "        for i in range(numclass):\n",
    "            if(i==0):\n",
    "                a='No'\n",
    "            if(i==1):\n",
    "                a='Yes'\n",
    "            pri=prior[i]\n",
    "            for feat in featureNames:\n",
    "                feat_val=testData[feat][k]\n",
    "                cp=condition_prob[feat]\n",
    "                cp_val=cp.loc[a,feat_val]\n",
    "                pri*=cp_val\n",
    "            prob_k[i]=pri\n",
    "        prob=prob_k/np.sum(prob_k,axis=0)\n",
    "        post_prob[k,:]=prob\n",
    "    return post_prob\n",
    "    \n",
    "    "
   ]
  },
  {
   "cell_type": "code",
   "execution_count": 6,
   "id": "06ed5122",
   "metadata": {},
   "outputs": [],
   "source": [
    "test_data=[['Sunny','Cool','High','Strong']]\n",
    "testData=pd.DataFrame(test_data,columns=[ 'Outlook', 'Temperature', 'Humidity', 'Wind'])"
   ]
  },
  {
   "cell_type": "code",
   "execution_count": 7,
   "id": "7c67e88d",
   "metadata": {},
   "outputs": [
    {
     "name": "stdout",
     "output_type": "stream",
     "text": [
      "[0.35714286 0.64285714]\n",
      "         Rain     Sunny  Overcast\n",
      "No   0.400000  0.600000  0.000000\n",
      "Yes  0.333333  0.222222  0.444444\n",
      "         Cool       Hot      Mild\n",
      "No   0.200000  0.400000  0.400000\n",
      "Yes  0.333333  0.222222  0.444444\n",
      "       Normal      High\n",
      "No   0.200000  0.800000\n",
      "Yes  0.666667  0.333333\n",
      "       Strong      Weak\n",
      "No   0.600000  0.400000\n",
      "Yes  0.333333  0.666667\n"
     ]
    },
    {
     "data": {
      "text/plain": [
       "array([[0.79541735, 0.20458265]])"
      ]
     },
     "execution_count": 7,
     "metadata": {},
     "output_type": "execute_result"
    }
   ],
   "source": [
    "prior_prob,condition_prob=Naive_Bayes(X_train,Y_train)\n",
    "\n",
    "print(prior_prob)\n",
    "print(condition_prob[ 'Outlook'])\n",
    "print(condition_prob[ 'Temperature'])\n",
    "print(condition_prob[ 'Humidity'])\n",
    "print(condition_prob[ 'Wind'])\n",
    "postPrior=Prediction(testData,prior_prob,condition_prob)\n",
    "postPrior"
   ]
  },
  {
   "cell_type": "code",
   "execution_count": 8,
   "id": "d4020ce3",
   "metadata": {},
   "outputs": [
    {
     "name": "stdout",
     "output_type": "stream",
     "text": [
      "No\n"
     ]
    }
   ],
   "source": [
    "if postPrior[0][0]>postPrior[0][1]:\n",
    "    print(\"No\")\n",
    "else:\n",
    "    print(\"Yes\")"
   ]
  },
  {
   "cell_type": "code",
   "execution_count": null,
   "id": "a9851772",
   "metadata": {},
   "outputs": [],
   "source": []
  }
 ],
 "metadata": {
  "kernelspec": {
   "display_name": "Python 3 (ipykernel)",
   "language": "python",
   "name": "python3"
  },
  "language_info": {
   "codemirror_mode": {
    "name": "ipython",
    "version": 3
   },
   "file_extension": ".py",
   "mimetype": "text/x-python",
   "name": "python",
   "nbconvert_exporter": "python",
   "pygments_lexer": "ipython3",
   "version": "3.10.9"
  }
 },
 "nbformat": 4,
 "nbformat_minor": 5
}
