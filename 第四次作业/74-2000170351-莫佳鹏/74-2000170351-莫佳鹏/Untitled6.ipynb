{
 "cells": [
  {
   "cell_type": "code",
   "execution_count": 1,
   "id": "e8ec8f3b-2c68-4131-802c-7d90cb48f23b",
   "metadata": {},
   "outputs": [],
   "source": [
    "import pandas as pd\n",
    "from sklearn.model_selection import train_test_split\n",
    "from sklearn.naive_bayes import GaussianNB\n",
    "from sklearn.preprocessing import LabelEncoder"
   ]
  },
  {
   "cell_type": "code",
   "execution_count": 2,
   "id": "d0af0749-1cf4-40d8-87c2-d5f270093ebe",
   "metadata": {},
   "outputs": [],
   "source": [
    "file_path = 'e1.csv'\n",
    "data = pd.read_csv(file_path)"
   ]
  },
  {
   "cell_type": "code",
   "execution_count": 3,
   "id": "2db918cd-a5fc-4a68-9487-2abd98d0b462",
   "metadata": {},
   "outputs": [],
   "source": [
    "data.drop('Day', axis=1, inplace=True)"
   ]
  },
  {
   "cell_type": "code",
   "execution_count": 4,
   "id": "9938063b-48fc-418f-bcd7-8f6f39038e02",
   "metadata": {},
   "outputs": [
    {
     "name": "stderr",
     "output_type": "stream",
     "text": [
      "C:\\Users\\wz\\anaconda3\\Lib\\site-packages\\sklearn\\base.py:439: UserWarning: X does not have valid feature names, but GaussianNB was fitted with feature names\n",
      "  warnings.warn(\n"
     ]
    }
   ],
   "source": [
    "label_encoder = LabelEncoder()\n",
    "for column in data.columns:\n",
    "    if data[column].dtype == type(object):\n",
    "        data[column] = label_encoder.fit_transform(data[column])\n",
    "\n",
    "# Split the data into features (X) and target variable (y)\n",
    "X = data.drop('PlayTennis', axis=1)\n",
    "y = data['PlayTennis']\n",
    "\n",
    "# Split the data into training and testing sets\n",
    "X_train, X_test, y_train, y_test = train_test_split(X, y, test_size=0.2, random_state=42)\n",
    "\n",
    "# Train the Naive Bayes classifier\n",
    "gnb = GaussianNB()\n",
    "gnb.fit(X_train, y_train)\n",
    "\n",
    "# Create a dictionary to map the given conditions to the encoded values\n",
    "condition_mapping = {'Outlook': {'Sunny': 2, 'Overcast': 0, 'Rain': 1},\n",
    "                     'Temperature': {'Hot': 2, 'Mild': 1, 'Cool': 0},\n",
    "                     'Humidity': {'High': 1, 'Normal': 0},\n",
    "                     'Wind': {'Strong': 1, 'Weak': 0}}\n",
    "\n",
    "# Map the given conditions to the encoded values\n",
    "input_conditions = {'Outlook': 'Sunny', 'Temperature': 'Cool', 'Humidity': 'High', 'Wind': 'Strong'}\n",
    "input_conditions_encoded = [condition_mapping[col][input_conditions[col]] for col in X.columns]\n",
    "\n",
    "# Predict the output for the given conditions\n",
    "predicted_output = gnb.predict([input_conditions_encoded])"
   ]
  },
  {
   "cell_type": "code",
   "execution_count": 5,
   "id": "ba7adde4-72a1-4332-ac88-122861f4e492",
   "metadata": {},
   "outputs": [
    {
     "name": "stdout",
     "output_type": "stream",
     "text": [
      "Yes\n"
     ]
    }
   ],
   "source": [
    "predicted_output_decoded = label_encoder.inverse_transform(predicted_output)\n",
    "print(predicted_output_decoded[0])"
   ]
  }
 ],
 "metadata": {
  "kernelspec": {
   "display_name": "Python 3 (ipykernel)",
   "language": "python",
   "name": "python3"
  },
  "language_info": {
   "codemirror_mode": {
    "name": "ipython",
    "version": 3
   },
   "file_extension": ".py",
   "mimetype": "text/x-python",
   "name": "python",
   "nbconvert_exporter": "python",
   "pygments_lexer": "ipython3",
   "version": "3.11.7"
  }
 },
 "nbformat": 4,
 "nbformat_minor": 5
}
