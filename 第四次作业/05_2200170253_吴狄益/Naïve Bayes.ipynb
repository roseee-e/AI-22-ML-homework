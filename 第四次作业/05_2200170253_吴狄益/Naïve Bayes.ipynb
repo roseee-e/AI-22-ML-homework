{
 "cells": [
  {
   "cell_type": "markdown",
   "id": "e8908780-0a09-4566-ace8-4a45a21fa2c5",
   "metadata": {},
   "source": [
    "<font face=\"微软雅黑\" size=5 color=#A52A2A >Naïve Bayes 分类器"
   ]
  },
  {
   "cell_type": "code",
   "execution_count": 1,
   "id": "af51966a-b289-450d-9a6e-937a6a41aa6f",
   "metadata": {},
   "outputs": [],
   "source": [
    "import numpy as np\n",
    "import pandas as pd\n",
    "\n",
    "#待处理的数据\n",
    "data = [['Sunny','Hot','High','Weak','No'],['Sunny','Hot','High','Strong','No'],\\\n",
    "        ['Overcast','Hot','High','Weak','Yes'],['Rain','Mild','High','Weak','Yes'],\\\n",
    "        ['Rain','Cool','Normal','Weak','Yes'],['Rain', 'Cool', 'Normal', 'Strong', 'No'],\\\n",
    "        ['Overcast','Cool','Normal','Strong','Yes'],['Sunny','Mild','High','Weak','No'],\\\n",
    "        ['Sunny','Cool','Normal','Weak','Yes'],['Rain','Mild','Normal','Weak','Yes'],\\\n",
    "        ['Sunny','Mild','Normal','Strong','Yes'],['Overcast','Mild','High','Strong','Yes'],\\\n",
    "        ['Overcast','Hot','Normal','Weak','Yes'],['Rain','Mild','High','Strong','No']]\n",
    "\n",
    "Data = pd.DataFrame(data,columns=['Outlook','Temperature','Humidity','Wind','PlayTennis']) #属性名\n"
   ]
  },
  {
   "cell_type": "markdown",
   "id": "f3858c91-cda2-4345-abc3-c9c47aab16f7",
   "metadata": {},
   "source": [
    "<font face=\"显示数据\" size=5 color=#A52A2A >"
   ]
  },
  {
   "cell_type": "markdown",
   "id": "2e8104f1-0bc8-4636-bcd7-a8a734221ade",
   "metadata": {},
   "source": [
    "<font face=\"微软雅黑\" size=5 color=#A52A2A >显示数据"
   ]
  },
  {
   "cell_type": "code",
   "execution_count": 2,
   "id": "45876905-daed-4339-b4e6-dccc4c20362d",
   "metadata": {},
   "outputs": [
    {
     "data": {
      "text/html": [
       "<div>\n",
       "<style scoped>\n",
       "    .dataframe tbody tr th:only-of-type {\n",
       "        vertical-align: middle;\n",
       "    }\n",
       "\n",
       "    .dataframe tbody tr th {\n",
       "        vertical-align: top;\n",
       "    }\n",
       "\n",
       "    .dataframe thead th {\n",
       "        text-align: right;\n",
       "    }\n",
       "</style>\n",
       "<table border=\"1\" class=\"dataframe\">\n",
       "  <thead>\n",
       "    <tr style=\"text-align: right;\">\n",
       "      <th></th>\n",
       "      <th>Outlook</th>\n",
       "      <th>Temperature</th>\n",
       "      <th>Humidity</th>\n",
       "      <th>Wind</th>\n",
       "      <th>PlayTennis</th>\n",
       "    </tr>\n",
       "  </thead>\n",
       "  <tbody>\n",
       "    <tr>\n",
       "      <th>0</th>\n",
       "      <td>Sunny</td>\n",
       "      <td>Hot</td>\n",
       "      <td>High</td>\n",
       "      <td>Weak</td>\n",
       "      <td>No</td>\n",
       "    </tr>\n",
       "    <tr>\n",
       "      <th>1</th>\n",
       "      <td>Sunny</td>\n",
       "      <td>Hot</td>\n",
       "      <td>High</td>\n",
       "      <td>Strong</td>\n",
       "      <td>No</td>\n",
       "    </tr>\n",
       "    <tr>\n",
       "      <th>2</th>\n",
       "      <td>Overcast</td>\n",
       "      <td>Hot</td>\n",
       "      <td>High</td>\n",
       "      <td>Weak</td>\n",
       "      <td>Yes</td>\n",
       "    </tr>\n",
       "    <tr>\n",
       "      <th>3</th>\n",
       "      <td>Rain</td>\n",
       "      <td>Mild</td>\n",
       "      <td>High</td>\n",
       "      <td>Weak</td>\n",
       "      <td>Yes</td>\n",
       "    </tr>\n",
       "    <tr>\n",
       "      <th>4</th>\n",
       "      <td>Rain</td>\n",
       "      <td>Cool</td>\n",
       "      <td>Normal</td>\n",
       "      <td>Weak</td>\n",
       "      <td>Yes</td>\n",
       "    </tr>\n",
       "  </tbody>\n",
       "</table>\n",
       "</div>"
      ],
      "text/plain": [
       "    Outlook Temperature Humidity    Wind PlayTennis\n",
       "0     Sunny         Hot     High    Weak         No\n",
       "1     Sunny         Hot     High  Strong         No\n",
       "2  Overcast         Hot     High    Weak        Yes\n",
       "3      Rain        Mild     High    Weak        Yes\n",
       "4      Rain        Cool   Normal    Weak        Yes"
      ]
     },
     "execution_count": 2,
     "metadata": {},
     "output_type": "execute_result"
    }
   ],
   "source": [
    "Data.head()"
   ]
  },
  {
   "cell_type": "code",
   "execution_count": 3,
   "id": "56af7ce6-5a5b-4237-99d7-309fcd7224bc",
   "metadata": {},
   "outputs": [],
   "source": [
    "cols = Data.shape[1]\n",
    "X_data = Data.iloc[:,:cols-1]\n",
    "Y_data = Data.iloc[:,cols-1:]\n",
    "featureNames = X_data.columns"
   ]
  },
  {
   "cell_type": "markdown",
   "id": "fe3d9688-5669-4325-8a1f-0d1bd836a787",
   "metadata": {},
   "source": [
    "<font face=\"微软雅黑\" size=5 color=#A52A2A >Naïve_Bayes类"
   ]
  },
  {
   "cell_type": "code",
   "execution_count": 4,
   "id": "eb33f0a6-9cd9-4fbb-bdcf-5d905fae9d2f",
   "metadata": {},
   "outputs": [],
   "source": [
    "class Naïve_Bayes:\n",
    "    #训练朴素贝叶斯模型\n",
    "    def Naive_Bayes_train(self,x_data, y_data):\n",
    "        y = y_data.values\n",
    "        x = x_data.values\n",
    "        y_unique = np.unique(y) #获取类别标签值\n",
    "        prior_prob = np.zeros(len(y_unique)) #存储先验概率\n",
    "\n",
    "        #计算先验概率\n",
    "        for i in range(len(y_unique)):\n",
    "            prior_prob[i] = np.sum(y == y_unique[i]) / len(y)\n",
    "\n",
    "        condition_prob = {} #似然关系的字典\n",
    "\n",
    "        #计算似然关系\n",
    "        for feat in featureNames:\n",
    "            x_unique = list(set(x_data[feat]))\n",
    "            x_condition_prob = np.zeros((len(y_unique), len(x_unique)))\n",
    "            for j in range(len(y_unique)):\n",
    "                for k in range(len(x_unique)):\n",
    "                    x_condition_prob[j, k] = np.sum((x_data[feat] == x_unique[k]) & (y_data['PlayTennis'] == y_unique[j])) / np.sum(y == y_unique[j])\n",
    "            x_condition_prob = pd.DataFrame(x_condition_prob, columns=x_unique, index=y_unique)\n",
    "            condition_prob[feat] = x_condition_prob #将条件概率存入字典\n",
    "\n",
    "        return prior_prob, condition_prob\n",
    "\n",
    "    #预测未知样本\n",
    "    def Prediction(self,testdata, prior_p, condition_prob):\n",
    "        class_num = len(prior_p)\n",
    "        featureNames = testdata.columns\n",
    "        sample_num = testdata.shape[0]\n",
    "        post_prob = np.zeros((sample_num, class_num)) #记录测试样例,在各类别下的后验概率\n",
    "\n",
    "        for k in range(sample_num):\n",
    "            prob_k = np.zeros((class_num,))\n",
    "            for i in range(class_num):\n",
    "                pri = prior_p[i]\n",
    "                for feat in featureNames:\n",
    "                    feat_val = testdata[feat][k]\n",
    "                    cp = condition_prob[feat]\n",
    "                    cp_val = cp[feat_val].iloc[i]\n",
    "                    pri *= cp_val\n",
    "                prob_k[i] = pri\n",
    "            prob = prob_k / np.sum(prob_k, axis=0)\n",
    "            post_prob[k, :] = prob\n",
    "        return post_prob"
   ]
  },
  {
   "cell_type": "markdown",
   "id": "def0a997-9bcd-4250-9ac8-2cb41aa48e86",
   "metadata": {},
   "source": [
    "<font face=\"微软雅黑\" size=5 color=#A52A2A >训练模型"
   ]
  },
  {
   "cell_type": "code",
   "execution_count": 5,
   "id": "021e7ff1-06b3-43b3-967a-94bd22bc57e2",
   "metadata": {},
   "outputs": [],
   "source": [
    "na = Naïve_Bayes #创建一个类的实例化\n",
    "prior,condition = na.Naive_Bayes_train(na,X_data,Y_data) #训练模型"
   ]
  },
  {
   "cell_type": "markdown",
   "id": "d91b01b6-b706-45b8-8895-9f4cc19afec0",
   "metadata": {},
   "source": [
    "<font face=\"微软雅黑\" size=5 color=#A52A2A >似然关系和先验概率"
   ]
  },
  {
   "cell_type": "code",
   "execution_count": 6,
   "id": "c232c4fc-6459-45fe-9ba6-526e33fe2ce1",
   "metadata": {},
   "outputs": [
    {
     "data": {
      "text/plain": [
       "array([0.35714286, 0.64285714])"
      ]
     },
     "execution_count": 6,
     "metadata": {},
     "output_type": "execute_result"
    }
   ],
   "source": [
    "prior"
   ]
  },
  {
   "cell_type": "code",
   "execution_count": 7,
   "id": "d90f8176-1967-4d68-bf7f-a43f16290518",
   "metadata": {},
   "outputs": [
    {
     "data": {
      "text/html": [
       "<div>\n",
       "<style scoped>\n",
       "    .dataframe tbody tr th:only-of-type {\n",
       "        vertical-align: middle;\n",
       "    }\n",
       "\n",
       "    .dataframe tbody tr th {\n",
       "        vertical-align: top;\n",
       "    }\n",
       "\n",
       "    .dataframe thead th {\n",
       "        text-align: right;\n",
       "    }\n",
       "</style>\n",
       "<table border=\"1\" class=\"dataframe\">\n",
       "  <thead>\n",
       "    <tr style=\"text-align: right;\">\n",
       "      <th></th>\n",
       "      <th>Rain</th>\n",
       "      <th>Overcast</th>\n",
       "      <th>Sunny</th>\n",
       "    </tr>\n",
       "  </thead>\n",
       "  <tbody>\n",
       "    <tr>\n",
       "      <th>No</th>\n",
       "      <td>0.400000</td>\n",
       "      <td>0.000000</td>\n",
       "      <td>0.600000</td>\n",
       "    </tr>\n",
       "    <tr>\n",
       "      <th>Yes</th>\n",
       "      <td>0.333333</td>\n",
       "      <td>0.444444</td>\n",
       "      <td>0.222222</td>\n",
       "    </tr>\n",
       "  </tbody>\n",
       "</table>\n",
       "</div>"
      ],
      "text/plain": [
       "         Rain  Overcast     Sunny\n",
       "No   0.400000  0.000000  0.600000\n",
       "Yes  0.333333  0.444444  0.222222"
      ]
     },
     "execution_count": 7,
     "metadata": {},
     "output_type": "execute_result"
    }
   ],
   "source": [
    "condition['Outlook']"
   ]
  },
  {
   "cell_type": "code",
   "execution_count": 8,
   "id": "ba99a21a-766d-4bc3-a2b9-187576e9988c",
   "metadata": {},
   "outputs": [
    {
     "data": {
      "text/html": [
       "<div>\n",
       "<style scoped>\n",
       "    .dataframe tbody tr th:only-of-type {\n",
       "        vertical-align: middle;\n",
       "    }\n",
       "\n",
       "    .dataframe tbody tr th {\n",
       "        vertical-align: top;\n",
       "    }\n",
       "\n",
       "    .dataframe thead th {\n",
       "        text-align: right;\n",
       "    }\n",
       "</style>\n",
       "<table border=\"1\" class=\"dataframe\">\n",
       "  <thead>\n",
       "    <tr style=\"text-align: right;\">\n",
       "      <th></th>\n",
       "      <th>Cool</th>\n",
       "      <th>Mild</th>\n",
       "      <th>Hot</th>\n",
       "    </tr>\n",
       "  </thead>\n",
       "  <tbody>\n",
       "    <tr>\n",
       "      <th>No</th>\n",
       "      <td>0.200000</td>\n",
       "      <td>0.400000</td>\n",
       "      <td>0.400000</td>\n",
       "    </tr>\n",
       "    <tr>\n",
       "      <th>Yes</th>\n",
       "      <td>0.333333</td>\n",
       "      <td>0.444444</td>\n",
       "      <td>0.222222</td>\n",
       "    </tr>\n",
       "  </tbody>\n",
       "</table>\n",
       "</div>"
      ],
      "text/plain": [
       "         Cool      Mild       Hot\n",
       "No   0.200000  0.400000  0.400000\n",
       "Yes  0.333333  0.444444  0.222222"
      ]
     },
     "execution_count": 8,
     "metadata": {},
     "output_type": "execute_result"
    }
   ],
   "source": [
    "condition['Temperature']"
   ]
  },
  {
   "cell_type": "code",
   "execution_count": 9,
   "id": "d00f88ba-3dce-435f-b603-d7ce5a9d4c78",
   "metadata": {},
   "outputs": [
    {
     "data": {
      "text/html": [
       "<div>\n",
       "<style scoped>\n",
       "    .dataframe tbody tr th:only-of-type {\n",
       "        vertical-align: middle;\n",
       "    }\n",
       "\n",
       "    .dataframe tbody tr th {\n",
       "        vertical-align: top;\n",
       "    }\n",
       "\n",
       "    .dataframe thead th {\n",
       "        text-align: right;\n",
       "    }\n",
       "</style>\n",
       "<table border=\"1\" class=\"dataframe\">\n",
       "  <thead>\n",
       "    <tr style=\"text-align: right;\">\n",
       "      <th></th>\n",
       "      <th>High</th>\n",
       "      <th>Normal</th>\n",
       "    </tr>\n",
       "  </thead>\n",
       "  <tbody>\n",
       "    <tr>\n",
       "      <th>No</th>\n",
       "      <td>0.800000</td>\n",
       "      <td>0.200000</td>\n",
       "    </tr>\n",
       "    <tr>\n",
       "      <th>Yes</th>\n",
       "      <td>0.333333</td>\n",
       "      <td>0.666667</td>\n",
       "    </tr>\n",
       "  </tbody>\n",
       "</table>\n",
       "</div>"
      ],
      "text/plain": [
       "         High    Normal\n",
       "No   0.800000  0.200000\n",
       "Yes  0.333333  0.666667"
      ]
     },
     "execution_count": 9,
     "metadata": {},
     "output_type": "execute_result"
    }
   ],
   "source": [
    "condition['Humidity']"
   ]
  },
  {
   "cell_type": "code",
   "execution_count": 10,
   "id": "011f8e3a-556b-4c39-a516-3ba592ee9c57",
   "metadata": {},
   "outputs": [
    {
     "data": {
      "text/html": [
       "<div>\n",
       "<style scoped>\n",
       "    .dataframe tbody tr th:only-of-type {\n",
       "        vertical-align: middle;\n",
       "    }\n",
       "\n",
       "    .dataframe tbody tr th {\n",
       "        vertical-align: top;\n",
       "    }\n",
       "\n",
       "    .dataframe thead th {\n",
       "        text-align: right;\n",
       "    }\n",
       "</style>\n",
       "<table border=\"1\" class=\"dataframe\">\n",
       "  <thead>\n",
       "    <tr style=\"text-align: right;\">\n",
       "      <th></th>\n",
       "      <th>Strong</th>\n",
       "      <th>Weak</th>\n",
       "    </tr>\n",
       "  </thead>\n",
       "  <tbody>\n",
       "    <tr>\n",
       "      <th>No</th>\n",
       "      <td>0.600000</td>\n",
       "      <td>0.400000</td>\n",
       "    </tr>\n",
       "    <tr>\n",
       "      <th>Yes</th>\n",
       "      <td>0.333333</td>\n",
       "      <td>0.666667</td>\n",
       "    </tr>\n",
       "  </tbody>\n",
       "</table>\n",
       "</div>"
      ],
      "text/plain": [
       "       Strong      Weak\n",
       "No   0.600000  0.400000\n",
       "Yes  0.333333  0.666667"
      ]
     },
     "execution_count": 10,
     "metadata": {},
     "output_type": "execute_result"
    }
   ],
   "source": [
    "condition['Wind']"
   ]
  },
  {
   "cell_type": "markdown",
   "id": "c4cc72d3-9b0f-45ba-b19b-0834e3c931b3",
   "metadata": {},
   "source": [
    "<font face=\"微软雅黑\" size=5 color=#A52A2A >对未知样本进行预测"
   ]
  },
  {
   "cell_type": "code",
   "execution_count": 11,
   "id": "508ecfc8-1f1b-4cfd-8cf3-dec80016c198",
   "metadata": {},
   "outputs": [],
   "source": [
    "testdata = [['Sunny', 'Cool', 'High', 'Strong']] #测试样本\n",
    "testdata = pd.DataFrame(testdata, columns=['Outlook', 'Temperature', 'Humidity', 'Wind'])"
   ]
  },
  {
   "cell_type": "code",
   "execution_count": 12,
   "id": "c12afbb5-80c4-4796-b173-bfae40cd77f1",
   "metadata": {},
   "outputs": [
    {
     "data": {
      "text/plain": [
       "array([[0.79541735, 0.20458265]])"
      ]
     },
     "execution_count": 12,
     "metadata": {},
     "output_type": "execute_result"
    }
   ],
   "source": [
    "postPrior = na.Prediction(na,testdata, prior, condition) #对样本进行预测\n",
    "postPrior"
   ]
  },
  {
   "cell_type": "markdown",
   "id": "656987e3-6bed-4653-bd87-3673bf427631",
   "metadata": {},
   "source": [
    "<font face=\"微软雅黑\" size=5 color=#A52A2A >预测为No"
   ]
  }
 ],
 "metadata": {
  "kernelspec": {
   "display_name": "Python 3 (ipykernel)",
   "language": "python",
   "name": "python3"
  },
  "language_info": {
   "codemirror_mode": {
    "name": "ipython",
    "version": 3
   },
   "file_extension": ".py",
   "mimetype": "text/x-python",
   "name": "python",
   "nbconvert_exporter": "python",
   "pygments_lexer": "ipython3",
   "version": "3.11.7"
  }
 },
 "nbformat": 4,
 "nbformat_minor": 5
}
