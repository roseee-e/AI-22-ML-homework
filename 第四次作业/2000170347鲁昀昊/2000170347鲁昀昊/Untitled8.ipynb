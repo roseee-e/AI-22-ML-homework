{
 "cells": [
  {
   "cell_type": "code",
   "execution_count": 1,
   "id": "f1b11686-dfa6-4096-b253-2b3f64db3e5c",
   "metadata": {},
   "outputs": [
    {
     "name": "stderr",
     "output_type": "stream",
     "text": [
      "C:\\Users\\wz\\AppData\\Local\\Temp\\ipykernel_25140\\3397050179.py:21: SettingWithCopyWarning: \n",
      "A value is trying to be set on a copy of a slice from a DataFrame.\n",
      "Try using .loc[row_indexer,col_indexer] = value instead\n",
      "\n",
      "See the caveats in the documentation: https://pandas.pydata.org/pandas-docs/stable/user_guide/indexing.html#returning-a-view-versus-a-copy\n",
      "  X[column] = label_encoders[column].fit_transform(X[column])\n",
      "C:\\Users\\wz\\AppData\\Local\\Temp\\ipykernel_25140\\3397050179.py:21: SettingWithCopyWarning: \n",
      "A value is trying to be set on a copy of a slice from a DataFrame.\n",
      "Try using .loc[row_indexer,col_indexer] = value instead\n",
      "\n",
      "See the caveats in the documentation: https://pandas.pydata.org/pandas-docs/stable/user_guide/indexing.html#returning-a-view-versus-a-copy\n",
      "  X[column] = label_encoders[column].fit_transform(X[column])\n",
      "C:\\Users\\wz\\AppData\\Local\\Temp\\ipykernel_25140\\3397050179.py:21: SettingWithCopyWarning: \n",
      "A value is trying to be set on a copy of a slice from a DataFrame.\n",
      "Try using .loc[row_indexer,col_indexer] = value instead\n",
      "\n",
      "See the caveats in the documentation: https://pandas.pydata.org/pandas-docs/stable/user_guide/indexing.html#returning-a-view-versus-a-copy\n",
      "  X[column] = label_encoders[column].fit_transform(X[column])\n",
      "C:\\Users\\wz\\AppData\\Local\\Temp\\ipykernel_25140\\3397050179.py:21: SettingWithCopyWarning: \n",
      "A value is trying to be set on a copy of a slice from a DataFrame.\n",
      "Try using .loc[row_indexer,col_indexer] = value instead\n",
      "\n",
      "See the caveats in the documentation: https://pandas.pydata.org/pandas-docs/stable/user_guide/indexing.html#returning-a-view-versus-a-copy\n",
      "  X[column] = label_encoders[column].fit_transform(X[column])\n"
     ]
    },
    {
     "data": {
      "text/plain": [
       "'No'"
      ]
     },
     "execution_count": 1,
     "metadata": {},
     "output_type": "execute_result"
    }
   ],
   "source": [
    "from sklearn.model_selection import train_test_split\n",
    "from sklearn.naive_bayes import GaussianNB\n",
    "from sklearn.preprocessing import LabelEncoder\n",
    "import pandas as pd\n",
    "\n",
    "# Load the uploaded CSV file\n",
    "file_path = 'e1.csv'\n",
    "data = pd.read_csv(file_path)\n",
    "\n",
    "# Display the first few rows of the dataset to understand its structure\n",
    "data.head()\n",
    "\n",
    "# Separate features and target variable\n",
    "X = data[['Outlook', 'Temperature', 'Humidity', 'Wind']]\n",
    "y = data['PlayTennis']\n",
    "\n",
    "# Convert categorical variables to numerical using label encoding\n",
    "label_encoders = {}\n",
    "for column in X.columns:\n",
    "    label_encoders[column] = LabelEncoder()\n",
    "    X[column] = label_encoders[column].fit_transform(X[column])\n",
    "\n",
    "# Convert target variable to numerical\n",
    "label_encoders['PlayTennis'] = LabelEncoder()\n",
    "y = label_encoders['PlayTennis'].fit_transform(y)\n",
    "\n",
    "# Split the dataset into training and testing sets\n",
    "X_train, X_test, y_train, y_test = train_test_split(X, y, test_size=0.2, random_state=42)\n",
    "\n",
    "# Train the Naive Bayes classifier\n",
    "nb_classifier = GaussianNB()\n",
    "nb_classifier.fit(X_train, y_train)\n",
    "\n",
    "# The classifier is now trained and ready for predictions.\n",
    "# Convert the given data point to numerical using the same label encoders\n",
    "data_point = {'Outlook': 'Sunny', 'Temperature': 'Cool', 'Humidity': 'High', 'Wind': 'Strong'}\n",
    "data_point_encoded = pd.DataFrame([data_point])\n",
    "for column in data_point_encoded.columns:\n",
    "    data_point_encoded[column] = label_encoders[column].transform(data_point_encoded[column])\n",
    "\n",
    "# Predict the output using the trained Naive Bayes classifier\n",
    "predicted_output = nb_classifier.predict(data_point_encoded)\n",
    "\n",
    "# Convert the predicted output back to original categorical value\n",
    "predicted_output_original = label_encoders['PlayTennis'].inverse_transform(predicted_output)\n",
    "\n",
    "# Display the predicted output\n",
    "predicted_output_original[0] if predicted_output_original else \"Not available\"\n"
   ]
  }
 ],
 "metadata": {
  "kernelspec": {
   "display_name": "Python 3 (ipykernel)",
   "language": "python",
   "name": "python3"
  },
  "language_info": {
   "codemirror_mode": {
    "name": "ipython",
    "version": 3
   },
   "file_extension": ".py",
   "mimetype": "text/x-python",
   "name": "python",
   "nbconvert_exporter": "python",
   "pygments_lexer": "ipython3",
   "version": "3.11.7"
  }
 },
 "nbformat": 4,
 "nbformat_minor": 5
}
