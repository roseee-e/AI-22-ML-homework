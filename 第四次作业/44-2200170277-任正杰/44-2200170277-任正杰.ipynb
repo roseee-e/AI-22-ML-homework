{
 "cells": [
  {
   "cell_type": "code",
   "execution_count": 97,
   "metadata": {
    "collapsed": true,
    "ExecuteTime": {
     "end_time": "2024-05-05T08:45:23.065788100Z",
     "start_time": "2024-05-05T08:45:23.052689500Z"
    }
   },
   "outputs": [],
   "source": [
    "import numpy as np\n",
    "import pandas as pd\n",
    "#构建数据集\n",
    "#用2表示Sunny  和  Hot\n",
    "#用数字1表示 Mild 和 High 和 strong,overcast\n",
    "#用数字0表示  Rian 和 cool和 Nolmal\n",
    "data=pd.DataFrame([\n",
    "                  [2,2,1,0,0],\n",
    "                  [2,2,1,1,0],\n",
    "                  [1,1,1,0,1],\n",
    "                  [0,1,1,0,1],\n",
    "                  [0,0,0,0,1],\n",
    "                  [0,0,0,1,0],\n",
    "                  [1,0,0,1,1],\n",
    "                  [2,1,1,0,0],\n",
    "                  [2,0,0,0,1],\n",
    "                  [0,1,0,0,1],\n",
    "                  [2,1,0,1,1],\n",
    "                  [1,1,1,1,1],\n",
    "                  [1,2,0,0,1],\n",
    "                  [0,1,1,1,0]\n",
    "                  ])\n",
    "name=['Outlook','Temperature','Humidity','Wind','Playtennis']\n",
    "data.columns=name"
   ]
  },
  {
   "cell_type": "code",
   "execution_count": 98,
   "outputs": [],
   "source": [
    "X = data.drop(columns=['Playtennis'])\n",
    "Y=data['Playtennis']\n",
    "featurenames=X.columns\n",
    "X_test = pd.DataFrame(data=[[2, 0, 1, 1]], columns=['Outlook', 'Temperature', 'Humidity', 'Wind'])"
   ],
   "metadata": {
    "collapsed": false,
    "ExecuteTime": {
     "end_time": "2024-05-05T08:45:23.090022900Z",
     "start_time": "2024-05-05T08:45:23.068788400Z"
    }
   }
  },
  {
   "cell_type": "code",
   "execution_count": 99,
   "outputs": [
    {
     "data": {
      "text/plain": "    Outlook  Temperature  Humidity  Wind\n0         2            2         1     0\n1         2            2         1     1\n2         1            1         1     0\n3         0            1         1     0\n4         0            0         0     0\n5         0            0         0     1\n6         1            0         0     1\n7         2            1         1     0\n8         2            0         0     0\n9         0            1         0     0\n10        2            1         0     1\n11        1            1         1     1\n12        1            2         0     0\n13        0            1         1     1",
      "text/html": "<div>\n<style scoped>\n    .dataframe tbody tr th:only-of-type {\n        vertical-align: middle;\n    }\n\n    .dataframe tbody tr th {\n        vertical-align: top;\n    }\n\n    .dataframe thead th {\n        text-align: right;\n    }\n</style>\n<table border=\"1\" class=\"dataframe\">\n  <thead>\n    <tr style=\"text-align: right;\">\n      <th></th>\n      <th>Outlook</th>\n      <th>Temperature</th>\n      <th>Humidity</th>\n      <th>Wind</th>\n    </tr>\n  </thead>\n  <tbody>\n    <tr>\n      <th>0</th>\n      <td>2</td>\n      <td>2</td>\n      <td>1</td>\n      <td>0</td>\n    </tr>\n    <tr>\n      <th>1</th>\n      <td>2</td>\n      <td>2</td>\n      <td>1</td>\n      <td>1</td>\n    </tr>\n    <tr>\n      <th>2</th>\n      <td>1</td>\n      <td>1</td>\n      <td>1</td>\n      <td>0</td>\n    </tr>\n    <tr>\n      <th>3</th>\n      <td>0</td>\n      <td>1</td>\n      <td>1</td>\n      <td>0</td>\n    </tr>\n    <tr>\n      <th>4</th>\n      <td>0</td>\n      <td>0</td>\n      <td>0</td>\n      <td>0</td>\n    </tr>\n    <tr>\n      <th>5</th>\n      <td>0</td>\n      <td>0</td>\n      <td>0</td>\n      <td>1</td>\n    </tr>\n    <tr>\n      <th>6</th>\n      <td>1</td>\n      <td>0</td>\n      <td>0</td>\n      <td>1</td>\n    </tr>\n    <tr>\n      <th>7</th>\n      <td>2</td>\n      <td>1</td>\n      <td>1</td>\n      <td>0</td>\n    </tr>\n    <tr>\n      <th>8</th>\n      <td>2</td>\n      <td>0</td>\n      <td>0</td>\n      <td>0</td>\n    </tr>\n    <tr>\n      <th>9</th>\n      <td>0</td>\n      <td>1</td>\n      <td>0</td>\n      <td>0</td>\n    </tr>\n    <tr>\n      <th>10</th>\n      <td>2</td>\n      <td>1</td>\n      <td>0</td>\n      <td>1</td>\n    </tr>\n    <tr>\n      <th>11</th>\n      <td>1</td>\n      <td>1</td>\n      <td>1</td>\n      <td>1</td>\n    </tr>\n    <tr>\n      <th>12</th>\n      <td>1</td>\n      <td>2</td>\n      <td>0</td>\n      <td>0</td>\n    </tr>\n    <tr>\n      <th>13</th>\n      <td>0</td>\n      <td>1</td>\n      <td>1</td>\n      <td>1</td>\n    </tr>\n  </tbody>\n</table>\n</div>"
     },
     "execution_count": 99,
     "metadata": {},
     "output_type": "execute_result"
    }
   ],
   "source": [
    "X"
   ],
   "metadata": {
    "collapsed": false,
    "ExecuteTime": {
     "end_time": "2024-05-05T08:45:23.093040Z",
     "start_time": "2024-05-05T08:45:23.080790500Z"
    }
   }
  },
  {
   "cell_type": "code",
   "execution_count": 100,
   "outputs": [
    {
     "data": {
      "text/plain": "0     0\n1     0\n2     1\n3     1\n4     1\n5     0\n6     1\n7     0\n8     1\n9     1\n10    1\n11    1\n12    1\n13    0\nName: Playtennis, dtype: int64"
     },
     "execution_count": 100,
     "metadata": {},
     "output_type": "execute_result"
    }
   ],
   "source": [
    "Y"
   ],
   "metadata": {
    "collapsed": false,
    "ExecuteTime": {
     "end_time": "2024-05-05T08:45:23.108505800Z",
     "start_time": "2024-05-05T08:45:23.096041300Z"
    }
   }
  },
  {
   "cell_type": "code",
   "execution_count": 101,
   "outputs": [
    {
     "data": {
      "text/plain": "   Outlook  Temperature  Humidity  Wind\n0        2            0         1     1",
      "text/html": "<div>\n<style scoped>\n    .dataframe tbody tr th:only-of-type {\n        vertical-align: middle;\n    }\n\n    .dataframe tbody tr th {\n        vertical-align: top;\n    }\n\n    .dataframe thead th {\n        text-align: right;\n    }\n</style>\n<table border=\"1\" class=\"dataframe\">\n  <thead>\n    <tr style=\"text-align: right;\">\n      <th></th>\n      <th>Outlook</th>\n      <th>Temperature</th>\n      <th>Humidity</th>\n      <th>Wind</th>\n    </tr>\n  </thead>\n  <tbody>\n    <tr>\n      <th>0</th>\n      <td>2</td>\n      <td>0</td>\n      <td>1</td>\n      <td>1</td>\n    </tr>\n  </tbody>\n</table>\n</div>"
     },
     "execution_count": 101,
     "metadata": {},
     "output_type": "execute_result"
    }
   ],
   "source": [
    "X_test"
   ],
   "metadata": {
    "collapsed": false,
    "ExecuteTime": {
     "end_time": "2024-05-05T08:45:23.139955700Z",
     "start_time": "2024-05-05T08:45:23.114522500Z"
    }
   }
  },
  {
   "cell_type": "code",
   "execution_count": 102,
   "outputs": [],
   "source": [
    "#计算先验\n",
    "def NB(X,Y):\n",
    "    y_unique=np.unique(Y)\n",
    "    prior=np.zeros(len(y_unique))\n",
    "#计算先验信息\n",
    "    for i in range(len(y_unique)):\n",
    "        prior[i]=sum(Y==y_unique[i])/len(Y)\n",
    "#计算似然\n",
    "    condition={}\n",
    "    for i in featurenames:\n",
    "        X_unique=list(set(X[i]))\n",
    "        X_condition= np.zeros((len(y_unique),len(X_unique)))\n",
    "        for j in range(len(y_unique)):\n",
    "            for k in range(len(X_unique)):\n",
    "                X_condition[j, k] = sum((X[i] == X_unique[k]) & (Y == y_unique[j])) / sum(Y == y_unique[j])\n",
    "        X_condition=pd.DataFrame(X_condition,columns=X_unique,index=y_unique)\n",
    "        condition[i]=X_condition\n",
    "    return prior,condition"
   ],
   "metadata": {
    "collapsed": false,
    "ExecuteTime": {
     "end_time": "2024-05-05T08:45:23.155397300Z",
     "start_time": "2024-05-05T08:45:23.129300400Z"
    }
   }
  },
  {
   "cell_type": "code",
   "execution_count": 103,
   "outputs": [],
   "source": [
    "def test_Model(X_test, prior, condition):\n",
    "    featurenames = X_test.columns\n",
    "    post_prob = np.zeros((X_test.shape[0], prior.shape[0]))\n",
    "    for k in range(X_test.shape[0]):\n",
    "        for i in range(prior.shape[0]):\n",
    "            p = prior[i]\n",
    "            for j in range(len(featurenames)):\n",
    "                value = X_test.iloc[k, j]\n",
    "                cp = condition[featurenames[j]]\n",
    "                cp_val = cp.iloc[i, value]\n",
    "                p *= cp_val\n",
    "            post_prob[k, i] = p\n",
    "        # 归一化操作\n",
    "        post_prob[k, :] /= np.sum(post_prob[k, :])\n",
    "    return post_prob"
   ],
   "metadata": {
    "collapsed": false,
    "ExecuteTime": {
     "end_time": "2024-05-05T08:45:23.176395400Z",
     "start_time": "2024-05-05T08:45:23.142956300Z"
    }
   }
  },
  {
   "cell_type": "code",
   "execution_count": 104,
   "outputs": [
    {
     "name": "stdout",
     "output_type": "stream",
     "text": [
      "先验概率为[0.35714286 0.64285714]\n",
      "似然为：{'Outlook':           0         1         2\n",
      "0  0.400000  0.000000  0.600000\n",
      "1  0.333333  0.444444  0.222222, 'Temperature':           0         1         2\n",
      "0  0.200000  0.400000  0.400000\n",
      "1  0.333333  0.555556  0.111111, 'Humidity':           0         1\n",
      "0  0.200000  0.800000\n",
      "1  0.666667  0.333333, 'Wind':           0         1\n",
      "0  0.400000  0.600000\n",
      "1  0.666667  0.333333}\n",
      "预测结果为：[[0.79541735 0.20458265]]\n"
     ]
    }
   ],
   "source": [
    "prior,condition=NB(X,Y)\n",
    "P=test_Model(X_test,prior,condition)\n",
    "print(f'先验概率为{prior}\\n似然为：{condition}\\n预测结果为：{P}')"
   ],
   "metadata": {
    "collapsed": false,
    "ExecuteTime": {
     "end_time": "2024-05-05T08:45:23.212580800Z",
     "start_time": "2024-05-05T08:45:23.155397300Z"
    }
   }
  },
  {
   "cell_type": "markdown",
   "source": [],
   "metadata": {
    "collapsed": false
   }
  }
 ],
 "metadata": {
  "kernelspec": {
   "display_name": "Python 3",
   "language": "python",
   "name": "python3"
  },
  "language_info": {
   "codemirror_mode": {
    "name": "ipython",
    "version": 2
   },
   "file_extension": ".py",
   "mimetype": "text/x-python",
   "name": "python",
   "nbconvert_exporter": "python",
   "pygments_lexer": "ipython2",
   "version": "2.7.6"
  }
 },
 "nbformat": 4,
 "nbformat_minor": 0
}
