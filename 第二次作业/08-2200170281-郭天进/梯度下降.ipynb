{
 "cells": [
  {
   "cell_type": "code",
   "execution_count": 44,
   "outputs": [],
   "source": [
    "import numpy as np\n",
    "import matplotlib.pyplot as plt\n",
    "import matplotlib\n",
    "from matplotlib import rcParams  ## run command settings for plotting\n"
   ],
   "metadata": {
    "collapsed": false,
    "ExecuteTime": {
     "end_time": "2024-04-07T16:39:29.621088700Z",
     "start_time": "2024-04-07T16:39:29.544489600Z"
    }
   },
   "id": "3510f6430bc12b57"
  },
  {
   "cell_type": "code",
   "execution_count": 45,
   "outputs": [],
   "source": [
    "config = {\n",
    "    \"mathtext.fontset\":'stix',\n",
    "    \"font.family\":'serif',\n",
    "    \"font.serif\": ['SimHei'],\n",
    "    \"font.size\": 10,   # 字号，大家自行调节\n",
    "    'axes.unicode_minus': False # 处理负号，即-号\n",
    "}\n",
    "rcParams.update(config)  ## 设置画图的一些参数"
   ],
   "metadata": {
    "collapsed": false,
    "ExecuteTime": {
     "end_time": "2024-04-07T16:39:29.621088700Z",
     "start_time": "2024-04-07T16:39:29.577326700Z"
    }
   },
   "id": "badd73d6bd78cf1c"
  },
  {
   "cell_type": "code",
   "execution_count": 46,
   "outputs": [
    {
     "data": {
      "text/plain": "       人口       收益\n0  6.1101  17.5920\n1  5.5277   9.1302\n2  8.5186  13.6620\n3  7.0032  11.8540\n4  5.8598   6.8233",
      "text/html": "<div>\n<style scoped>\n    .dataframe tbody tr th:only-of-type {\n        vertical-align: middle;\n    }\n\n    .dataframe tbody tr th {\n        vertical-align: top;\n    }\n\n    .dataframe thead th {\n        text-align: right;\n    }\n</style>\n<table border=\"1\" class=\"dataframe\">\n  <thead>\n    <tr style=\"text-align: right;\">\n      <th></th>\n      <th>人口</th>\n      <th>收益</th>\n    </tr>\n  </thead>\n  <tbody>\n    <tr>\n      <th>0</th>\n      <td>6.1101</td>\n      <td>17.5920</td>\n    </tr>\n    <tr>\n      <th>1</th>\n      <td>5.5277</td>\n      <td>9.1302</td>\n    </tr>\n    <tr>\n      <th>2</th>\n      <td>8.5186</td>\n      <td>13.6620</td>\n    </tr>\n    <tr>\n      <th>3</th>\n      <td>7.0032</td>\n      <td>11.8540</td>\n    </tr>\n    <tr>\n      <th>4</th>\n      <td>5.8598</td>\n      <td>6.8233</td>\n    </tr>\n  </tbody>\n</table>\n</div>"
     },
     "execution_count": 46,
     "metadata": {},
     "output_type": "execute_result"
    }
   ],
   "source": [
    "## 读取数据\n",
    "path = 'D:/tx/regress_data1.csv'\n",
    "import pandas as pd\n",
    "data = pd.read_csv(path) ## data 是dataframe 的数据类型\n",
    "data.head() # 返回data中的前几行数据，默认是前5行。"
   ],
   "metadata": {
    "collapsed": false,
    "ExecuteTime": {
     "end_time": "2024-04-07T16:39:29.763465600Z",
     "start_time": "2024-04-07T16:39:29.604745400Z"
    }
   },
   "id": "a3774af47dac3844"
  },
  {
   "cell_type": "code",
   "execution_count": 47,
   "outputs": [],
   "source": [
    "cols = data.shape[1]\n",
    "X_data = data.iloc[:,:cols-1]#X是所有行，去掉最后一列， 未标准化\n",
    "y_data = data.iloc[:,cols-1:]#X是所有行，最后一列"
   ],
   "metadata": {
    "collapsed": false,
    "ExecuteTime": {
     "end_time": "2024-04-07T16:39:29.764461600Z",
     "start_time": "2024-04-07T16:39:29.721091100Z"
    }
   },
   "id": "642cee2fe4a68f0b"
  },
  {
   "cell_type": "code",
   "execution_count": 48,
   "outputs": [
    {
     "data": {
      "text/plain": "              人口         收益\ncount  97.000000  97.000000\nmean    8.159800   5.839135\nstd     3.869884   5.510262\nmin     5.026900  -2.680700\n25%     5.707700   1.986900\n50%     6.589400   4.562300\n75%     8.578100   7.046700\nmax    22.203000  24.147000",
      "text/html": "<div>\n<style scoped>\n    .dataframe tbody tr th:only-of-type {\n        vertical-align: middle;\n    }\n\n    .dataframe tbody tr th {\n        vertical-align: top;\n    }\n\n    .dataframe thead th {\n        text-align: right;\n    }\n</style>\n<table border=\"1\" class=\"dataframe\">\n  <thead>\n    <tr style=\"text-align: right;\">\n      <th></th>\n      <th>人口</th>\n      <th>收益</th>\n    </tr>\n  </thead>\n  <tbody>\n    <tr>\n      <th>count</th>\n      <td>97.000000</td>\n      <td>97.000000</td>\n    </tr>\n    <tr>\n      <th>mean</th>\n      <td>8.159800</td>\n      <td>5.839135</td>\n    </tr>\n    <tr>\n      <th>std</th>\n      <td>3.869884</td>\n      <td>5.510262</td>\n    </tr>\n    <tr>\n      <th>min</th>\n      <td>5.026900</td>\n      <td>-2.680700</td>\n    </tr>\n    <tr>\n      <th>25%</th>\n      <td>5.707700</td>\n      <td>1.986900</td>\n    </tr>\n    <tr>\n      <th>50%</th>\n      <td>6.589400</td>\n      <td>4.562300</td>\n    </tr>\n    <tr>\n      <th>75%</th>\n      <td>8.578100</td>\n      <td>7.046700</td>\n    </tr>\n    <tr>\n      <th>max</th>\n      <td>22.203000</td>\n      <td>24.147000</td>\n    </tr>\n  </tbody>\n</table>\n</div>"
     },
     "execution_count": 48,
     "metadata": {},
     "output_type": "execute_result"
    }
   ],
   "source": [
    "data.describe() ## 查看数据的统计信息"
   ],
   "metadata": {
    "collapsed": false,
    "ExecuteTime": {
     "end_time": "2024-04-07T16:39:29.782874200Z",
     "start_time": "2024-04-07T16:39:29.739002700Z"
    }
   },
   "id": "fcdde268c6813392"
  },
  {
   "cell_type": "code",
   "execution_count": 49,
   "outputs": [
    {
     "data": {
      "text/plain": "<Figure size 400x300 with 1 Axes>",
      "image/png": "[encoded data removed]"
     },
     "metadata": {},
     "output_type": "display_data"
    }
   ],
   "source": [
    "data.plot(kind='scatter', x='人口', y='收益', figsize=(4,3)) # 利用散点图可视化数据\n",
    "import matplotlib\n",
    "plt.xlabel('人口')\n",
    "plt.ylabel('收益', rotation=90)\n",
    "plt.show()"
   ],
   "metadata": {
    "collapsed": false,
    "ExecuteTime": {
     "end_time": "2024-04-07T16:39:30.025864200Z",
     "start_time": "2024-04-07T16:39:29.775257100Z"
    }
   },
   "id": "13234ac71806efd4"
  },
  {
   "cell_type": "code",
   "execution_count": 50,
   "outputs": [],
   "source": [
    "X_data.insert(0, 'Ones', 1)"
   ],
   "metadata": {
    "collapsed": false,
    "ExecuteTime": {
     "end_time": "2024-04-07T16:39:30.026383100Z",
     "start_time": "2024-04-07T16:39:29.982527600Z"
    }
   },
   "id": "3abac31bb679a815"
  },
  {
   "cell_type": "code",
   "execution_count": 51,
   "outputs": [
    {
     "data": {
      "text/plain": "   Ones      人口\n0     1  6.1101\n1     1  5.5277\n2     1  8.5186\n3     1  7.0032\n4     1  5.8598",
      "text/html": "<div>\n<style scoped>\n    .dataframe tbody tr th:only-of-type {\n        vertical-align: middle;\n    }\n\n    .dataframe tbody tr th {\n        vertical-align: top;\n    }\n\n    .dataframe thead th {\n        text-align: right;\n    }\n</style>\n<table border=\"1\" class=\"dataframe\">\n  <thead>\n    <tr style=\"text-align: right;\">\n      <th></th>\n      <th>Ones</th>\n      <th>人口</th>\n    </tr>\n  </thead>\n  <tbody>\n    <tr>\n      <th>0</th>\n      <td>1</td>\n      <td>6.1101</td>\n    </tr>\n    <tr>\n      <th>1</th>\n      <td>1</td>\n      <td>5.5277</td>\n    </tr>\n    <tr>\n      <th>2</th>\n      <td>1</td>\n      <td>8.5186</td>\n    </tr>\n    <tr>\n      <th>3</th>\n      <td>1</td>\n      <td>7.0032</td>\n    </tr>\n    <tr>\n      <th>4</th>\n      <td>1</td>\n      <td>5.8598</td>\n    </tr>\n  </tbody>\n</table>\n</div>"
     },
     "execution_count": 51,
     "metadata": {},
     "output_type": "execute_result"
    }
   ],
   "source": [
    "X_data.head()#head()是观察前5行"
   ],
   "metadata": {
    "collapsed": false,
    "ExecuteTime": {
     "end_time": "2024-04-07T16:39:30.026383100Z",
     "start_time": "2024-04-07T16:39:29.991845900Z"
    }
   },
   "id": "b719051acea411c1"
  },
  {
   "cell_type": "code",
   "execution_count": 52,
   "outputs": [
    {
     "data": {
      "text/plain": "        收益\n0  17.5920\n1   9.1302\n2  13.6620\n3  11.8540\n4   6.8233",
      "text/html": "<div>\n<style scoped>\n    .dataframe tbody tr th:only-of-type {\n        vertical-align: middle;\n    }\n\n    .dataframe tbody tr th {\n        vertical-align: top;\n    }\n\n    .dataframe thead th {\n        text-align: right;\n    }\n</style>\n<table border=\"1\" class=\"dataframe\">\n  <thead>\n    <tr style=\"text-align: right;\">\n      <th></th>\n      <th>收益</th>\n    </tr>\n  </thead>\n  <tbody>\n    <tr>\n      <th>0</th>\n      <td>17.5920</td>\n    </tr>\n    <tr>\n      <th>1</th>\n      <td>9.1302</td>\n    </tr>\n    <tr>\n      <th>2</th>\n      <td>13.6620</td>\n    </tr>\n    <tr>\n      <th>3</th>\n      <td>11.8540</td>\n    </tr>\n    <tr>\n      <th>4</th>\n      <td>6.8233</td>\n    </tr>\n  </tbody>\n</table>\n</div>"
     },
     "execution_count": 52,
     "metadata": {},
     "output_type": "execute_result"
    }
   ],
   "source": [
    "y_data.head()"
   ],
   "metadata": {
    "collapsed": false,
    "ExecuteTime": {
     "end_time": "2024-04-07T16:39:30.026916900Z",
     "start_time": "2024-04-07T16:39:29.998140600Z"
    }
   },
   "id": "5658396394432c50"
  },
  {
   "cell_type": "code",
   "execution_count": 53,
   "outputs": [],
   "source": [
    "X=X_data.values\n",
    "Y=y_data.values\n",
    "W=np.array([[0.0],[0.0]]) ## 初始化W系数矩阵，w 是一个(2,1)矩阵"
   ],
   "metadata": {
    "collapsed": false,
    "ExecuteTime": {
     "end_time": "2024-04-07T16:39:30.026916900Z",
     "start_time": "2024-04-07T16:39:30.013089900Z"
    }
   },
   "id": "c1907ba6e5b2160e"
  },
  {
   "cell_type": "code",
   "execution_count": 54,
   "outputs": [
    {
     "data": {
      "text/plain": "((97, 2), (97, 1), (2, 1))"
     },
     "execution_count": 54,
     "metadata": {},
     "output_type": "execute_result"
    }
   ],
   "source": [
    "(X.shape,Y.shape, W.shape)#维度"
   ],
   "metadata": {
    "collapsed": false,
    "ExecuteTime": {
     "end_time": "2024-04-07T16:39:30.080551500Z",
     "start_time": "2024-04-07T16:39:30.023759100Z"
    }
   },
   "id": "5b00ec72f1132cad"
  },
  {
   "cell_type": "raw",
   "source": [
    "损失函数\n"
   ],
   "metadata": {
    "collapsed": false
   },
   "id": "bf24e614c612696d"
  },
  {
   "cell_type": "code",
   "execution_count": 55,
   "outputs": [],
   "source": [
    "def computeCost(X, Y, W):\n",
    "    Y_hat = np.dot(X,W)\n",
    "    loss =np.sum((Y_hat - Y)** 2)/(2*X.shape[0])# (m,n) @ (n, 1) -> (n, 1)\n",
    "    return loss"
   ],
   "metadata": {
    "collapsed": false,
    "ExecuteTime": {
     "end_time": "2024-04-07T16:39:30.100984400Z",
     "start_time": "2024-04-07T16:39:30.032407500Z"
    }
   },
   "id": "70f9cd3cb1a2149f"
  },
  {
   "cell_type": "raw",
   "source": [
    "\n",
    "梯度下降\n"
   ],
   "metadata": {
    "collapsed": false
   },
   "id": "67c2953612abf238"
  },
  {
   "cell_type": "code",
   "execution_count": 56,
   "outputs": [],
   "source": [
    "def gradientDescent(X, Y, W, alpha):\n",
    "    num_train = X.shape[0]     \n",
    "    Y_hat = np.dot(X,W)        \n",
    "    dW = X.T@(Y_hat-Y)/ X.shape[0]\n",
    "#     dW = X.T@(Y_hat-Y)\n",
    "    W += -alpha * dW\n",
    "    return W"
   ],
   "metadata": {
    "collapsed": false,
    "ExecuteTime": {
     "end_time": "2024-04-07T16:39:30.100984400Z",
     "start_time": "2024-04-07T16:39:30.039975600Z"
    }
   },
   "id": "8bfe55f62d3d64f0"
  },
  {
   "cell_type": "code",
   "execution_count": 57,
   "outputs": [],
   "source": [
    "def linearRegression(X,Y, alpha, iters):\n",
    "    loss_his = []\n",
    "    # step1: initialize the model parameters\n",
    "    feature_dim = X.shape[1]\n",
    "    W=np.zeros((feature_dim,1)) ## 初始化W系数矩阵，w 是一个(feature_dim,1)矩阵\n",
    "    ## repeat step 2 and step 3 untill to the convergence or the end of iterations\n",
    "    for i in range (iters):\n",
    "        # step2 : using the initilized parameters to predict the output and calculate the loss   \n",
    "        loss = computeCost(X,Y,W)\n",
    "        loss_his.append(loss)\n",
    "        # step3: using the gradient decent method to update the parameters \n",
    "        W=gradientDescent(X, Y, W, alpha)\n",
    "    return loss_his, W ## 返回损失和模型参数。"
   ],
   "metadata": {
    "collapsed": false,
    "ExecuteTime": {
     "end_time": "2024-04-07T16:39:30.181583300Z",
     "start_time": "2024-04-07T16:39:30.049194200Z"
    }
   },
   "id": "3da8469adff7bb67"
  },
  {
   "cell_type": "code",
   "execution_count": 58,
   "outputs": [],
   "source": [
    "def predict(X, W):\n",
    "    '''\n",
    "    输入：\n",
    "        X：测试数据集\n",
    "        W：模型训练好的参数\n",
    "    输出：\n",
    "        y_pre：预测值\n",
    "    '''\n",
    "    y_pre = np.dot(X,W)\n",
    "    return y_pre"
   ],
   "metadata": {
    "collapsed": false,
    "ExecuteTime": {
     "end_time": "2024-04-07T16:39:30.182580800Z",
     "start_time": "2024-04-07T16:39:30.057198400Z"
    }
   },
   "id": "6f4f4f8566b1cc98"
  },
  {
   "cell_type": "code",
   "execution_count": 59,
   "outputs": [],
   "source": [
    "alpha =0.0001\n",
    "iters = 10000\n",
    "loss_his, W = linearRegression(X,Y, alpha, iters)"
   ],
   "metadata": {
    "collapsed": false,
    "ExecuteTime": {
     "end_time": "2024-04-07T16:39:30.344108600Z",
     "start_time": "2024-04-07T16:39:30.061188100Z"
    }
   },
   "id": "5a2f5820cc74ee1a"
  },
  {
   "cell_type": "code",
   "execution_count": 60,
   "outputs": [
    {
     "data": {
      "text/plain": "array([[-0.57602166],\n       [ 0.85952782]])"
     },
     "execution_count": 60,
     "metadata": {},
     "output_type": "execute_result"
    }
   ],
   "source": [
    "W"
   ],
   "metadata": {
    "collapsed": false,
    "ExecuteTime": {
     "end_time": "2024-04-07T16:39:30.345104800Z",
     "start_time": "2024-04-07T16:39:30.218104200Z"
    }
   },
   "id": "d56f985acbf56bdb"
  },
  {
   "cell_type": "code",
   "execution_count": 61,
   "outputs": [
    {
     "data": {
      "text/plain": "<Figure size 600x400 with 1 Axes>",
      "image/png": "[encoded data removed]"
     },
     "metadata": {},
     "output_type": "display_data"
    }
   ],
   "source": [
    "x = np.linspace(X_data['人口'].min(), X_data['人口'].max(), 100)\n",
    "f = W[0, 0] + (W[1, 0] * x)\n",
    "\n",
    "fig, ax = plt.subplots(figsize=(6, 4))\n",
    "ax.plot(x, f, 'r', label='预测值')\n",
    "ax.scatter(X_data['人口'], data['收益'], label='训练数据')\n",
    "ax.legend(loc=2)\n",
    "ax.set_xlabel('人口' )\n",
    "ax.set_ylabel('收益', rotation=90)\n",
    "ax.set_title('预测收益和人口规模')\n",
    "plt.show()"
   ],
   "metadata": {
    "collapsed": false,
    "ExecuteTime": {
     "end_time": "2024-04-07T16:39:30.475537700Z",
     "start_time": "2024-04-07T16:39:30.229463500Z"
    }
   },
   "id": "e589d2e53fdcff74"
  },
  {
   "cell_type": "code",
   "execution_count": 62,
   "outputs": [
    {
     "data": {
      "text/plain": "<Figure size 600x400 with 1 Axes>",
      "image/png": "[encoded data removed]"
     },
     "metadata": {},
     "output_type": "display_data"
    }
   ],
   "source": [
    "fig, ax = plt.subplots(figsize=(6, 4))\n",
    "ax.plot(np.arange(iters), loss_his, 'r')\n",
    "ax.set_xlabel('迭代次数')\n",
    "ax.set_ylabel('代价', rotation=0)\n",
    "ax.set_title('误差和训练Epoch数')\n",
    "plt.show()"
   ],
   "metadata": {
    "collapsed": false,
    "ExecuteTime": {
     "end_time": "2024-04-07T16:39:30.586430600Z",
     "start_time": "2024-04-07T16:39:30.431143900Z"
    }
   },
   "id": "a6066bba509a93bf"
  }
 ],
 "metadata": {
  "kernelspec": {
   "display_name": "Python 3",
   "language": "python",
   "name": "python3"
  },
  "language_info": {
   "codemirror_mode": {
    "name": "ipython",
    "version": 2
   },
   "file_extension": ".py",
   "mimetype": "text/x-python",
   "name": "python",
   "nbconvert_exporter": "python",
   "pygments_lexer": "ipython2",
   "version": "2.7.6"
  }
 },
 "nbformat": 4,
 "nbformat_minor": 5
}
