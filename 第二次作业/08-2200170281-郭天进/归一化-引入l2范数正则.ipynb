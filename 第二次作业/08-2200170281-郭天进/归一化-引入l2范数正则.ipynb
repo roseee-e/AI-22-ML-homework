{
 "cells": [
  {
   "cell_type": "code",
   "execution_count": 235,
   "outputs": [],
   "source": [
    "import numpy as np\n",
    "import matplotlib.pyplot as plt\n",
    "import matplotlib\n",
    "from matplotlib import rcParams  ## run command settings for plotting\n"
   ],
   "metadata": {
    "collapsed": false,
    "ExecuteTime": {
     "end_time": "2024-04-08T02:05:10.512706100Z",
     "start_time": "2024-04-08T02:05:10.462873500Z"
    }
   },
   "id": "388125e08754e299"
  },
  {
   "cell_type": "code",
   "execution_count": 236,
   "outputs": [],
   "source": [
    "config = {\n",
    "    \"mathtext.fontset\":'stix',\n",
    "    \"font.family\":'serif',\n",
    "    \"font.serif\": ['SimHei'],\n",
    "    \"font.size\": 10,   # 字号，大家自行调节\n",
    "    'axes.unicode_minus': False # 处理负号，即-号\n",
    "}\n",
    "rcParams.update(config)  ## 设置画图的一些参数"
   ],
   "metadata": {
    "collapsed": false,
    "ExecuteTime": {
     "end_time": "2024-04-08T02:05:10.512706100Z",
     "start_time": "2024-04-08T02:05:10.468376700Z"
    }
   },
   "id": "36a131a2c5ed901b"
  },
  {
   "cell_type": "code",
   "execution_count": 237,
   "outputs": [
    {
     "data": {
      "text/plain": "       人口       收益\n0  6.1101  17.5920\n1  5.5277   9.1302\n2  8.5186  13.6620\n3  7.0032  11.8540\n4  5.8598   6.8233",
      "text/html": "<div>\n<style scoped>\n    .dataframe tbody tr th:only-of-type {\n        vertical-align: middle;\n    }\n\n    .dataframe tbody tr th {\n        vertical-align: top;\n    }\n\n    .dataframe thead th {\n        text-align: right;\n    }\n</style>\n<table border=\"1\" class=\"dataframe\">\n  <thead>\n    <tr style=\"text-align: right;\">\n      <th></th>\n      <th>人口</th>\n      <th>收益</th>\n    </tr>\n  </thead>\n  <tbody>\n    <tr>\n      <th>0</th>\n      <td>6.1101</td>\n      <td>17.5920</td>\n    </tr>\n    <tr>\n      <th>1</th>\n      <td>5.5277</td>\n      <td>9.1302</td>\n    </tr>\n    <tr>\n      <th>2</th>\n      <td>8.5186</td>\n      <td>13.6620</td>\n    </tr>\n    <tr>\n      <th>3</th>\n      <td>7.0032</td>\n      <td>11.8540</td>\n    </tr>\n    <tr>\n      <th>4</th>\n      <td>5.8598</td>\n      <td>6.8233</td>\n    </tr>\n  </tbody>\n</table>\n</div>"
     },
     "execution_count": 237,
     "metadata": {},
     "output_type": "execute_result"
    }
   ],
   "source": [
    "## 读取数据\n",
    "path = 'D:/tx/regress_data1.csv'\n",
    "import pandas as pd\n",
    "data = pd.read_csv(path) ## data 是dataframe 的数据类型\n",
    "data.head() # 返回data中的前几行数据，默认是前5行。"
   ],
   "metadata": {
    "collapsed": false,
    "ExecuteTime": {
     "end_time": "2024-04-08T02:05:10.513817400Z",
     "start_time": "2024-04-08T02:05:10.472307100Z"
    }
   },
   "id": "5b12bf62b234b81e"
  },
  {
   "cell_type": "code",
   "execution_count": 238,
   "outputs": [],
   "source": [
    "cols = data.shape[1]\n",
    "X_data = data.iloc[:,:cols-1]#X是所有行，去掉最后一列， 未标准化\n",
    "y_data = data.iloc[:,cols-1:]#X是所有行，最后一列"
   ],
   "metadata": {
    "collapsed": false,
    "ExecuteTime": {
     "end_time": "2024-04-08T02:05:10.513817400Z",
     "start_time": "2024-04-08T02:05:10.480380700Z"
    }
   },
   "id": "c4b19883ceba460e"
  },
  {
   "cell_type": "raw",
   "source": [
    "归一化数据处理\n"
   ],
   "metadata": {
    "collapsed": false
   },
   "id": "7ba55c50eaa8428e"
  },
  {
   "cell_type": "code",
   "execution_count": 239,
   "outputs": [],
   "source": [
    "X_data_normalized = (X_data - X_data.min()) / (X_data.max()-X_data.min())"
   ],
   "metadata": {
    "collapsed": false,
    "ExecuteTime": {
     "end_time": "2024-04-08T02:05:10.549363600Z",
     "start_time": "2024-04-08T02:05:10.484230900Z"
    }
   },
   "id": "b85ca39a2cfe752d"
  },
  {
   "cell_type": "code",
   "execution_count": 240,
   "outputs": [],
   "source": [
    "X_data_normalized.insert(0, 'Ones', 1)"
   ],
   "metadata": {
    "collapsed": false,
    "ExecuteTime": {
     "end_time": "2024-04-08T02:05:10.549363600Z",
     "start_time": "2024-04-08T02:05:10.491103100Z"
    }
   },
   "id": "210ac2f2fb9177c5"
  },
  {
   "cell_type": "code",
   "execution_count": 241,
   "outputs": [
    {
     "data": {
      "text/plain": "   Ones        人口\n0     1  0.063064\n1     1  0.029157\n2     1  0.203288\n3     1  0.115061\n4     1  0.048492",
      "text/html": "<div>\n<style scoped>\n    .dataframe tbody tr th:only-of-type {\n        vertical-align: middle;\n    }\n\n    .dataframe tbody tr th {\n        vertical-align: top;\n    }\n\n    .dataframe thead th {\n        text-align: right;\n    }\n</style>\n<table border=\"1\" class=\"dataframe\">\n  <thead>\n    <tr style=\"text-align: right;\">\n      <th></th>\n      <th>Ones</th>\n      <th>人口</th>\n    </tr>\n  </thead>\n  <tbody>\n    <tr>\n      <th>0</th>\n      <td>1</td>\n      <td>0.063064</td>\n    </tr>\n    <tr>\n      <th>1</th>\n      <td>1</td>\n      <td>0.029157</td>\n    </tr>\n    <tr>\n      <th>2</th>\n      <td>1</td>\n      <td>0.203288</td>\n    </tr>\n    <tr>\n      <th>3</th>\n      <td>1</td>\n      <td>0.115061</td>\n    </tr>\n    <tr>\n      <th>4</th>\n      <td>1</td>\n      <td>0.048492</td>\n    </tr>\n  </tbody>\n</table>\n</div>"
     },
     "execution_count": 241,
     "metadata": {},
     "output_type": "execute_result"
    }
   ],
   "source": [
    "X_data_normalized.head()#head()是观察前5行"
   ],
   "metadata": {
    "collapsed": false,
    "ExecuteTime": {
     "end_time": "2024-04-08T02:05:10.549363600Z",
     "start_time": "2024-04-08T02:05:10.495205600Z"
    }
   },
   "id": "b64b24a859bdd038"
  },
  {
   "cell_type": "code",
   "execution_count": 242,
   "outputs": [
    {
     "data": {
      "text/plain": "        收益\n0  17.5920\n1   9.1302\n2  13.6620\n3  11.8540\n4   6.8233",
      "text/html": "<div>\n<style scoped>\n    .dataframe tbody tr th:only-of-type {\n        vertical-align: middle;\n    }\n\n    .dataframe tbody tr th {\n        vertical-align: top;\n    }\n\n    .dataframe thead th {\n        text-align: right;\n    }\n</style>\n<table border=\"1\" class=\"dataframe\">\n  <thead>\n    <tr style=\"text-align: right;\">\n      <th></th>\n      <th>收益</th>\n    </tr>\n  </thead>\n  <tbody>\n    <tr>\n      <th>0</th>\n      <td>17.5920</td>\n    </tr>\n    <tr>\n      <th>1</th>\n      <td>9.1302</td>\n    </tr>\n    <tr>\n      <th>2</th>\n      <td>13.6620</td>\n    </tr>\n    <tr>\n      <th>3</th>\n      <td>11.8540</td>\n    </tr>\n    <tr>\n      <th>4</th>\n      <td>6.8233</td>\n    </tr>\n  </tbody>\n</table>\n</div>"
     },
     "execution_count": 242,
     "metadata": {},
     "output_type": "execute_result"
    }
   ],
   "source": [
    "y_data.head()"
   ],
   "metadata": {
    "collapsed": false,
    "ExecuteTime": {
     "end_time": "2024-04-08T02:05:10.549363600Z",
     "start_time": "2024-04-08T02:05:10.501081600Z"
    }
   },
   "id": "c9b97ebf81382bf1"
  },
  {
   "cell_type": "code",
   "execution_count": 243,
   "outputs": [],
   "source": [
    "X=X_data_normalized.values\n",
    "Y=y_data.values\n",
    "W=np.array([[0.0],[0.0]]) ## 初始化W系数矩阵，w 是一个(2,1)矩阵"
   ],
   "metadata": {
    "collapsed": false,
    "ExecuteTime": {
     "end_time": "2024-04-08T02:05:10.549363600Z",
     "start_time": "2024-04-08T02:05:10.510948200Z"
    }
   },
   "id": "482de863021d618c"
  },
  {
   "cell_type": "code",
   "execution_count": 244,
   "outputs": [
    {
     "data": {
      "text/plain": "((97, 2), (97, 1), (2, 1))"
     },
     "execution_count": 244,
     "metadata": {},
     "output_type": "execute_result"
    }
   ],
   "source": [
    "(X.shape,Y.shape, W.shape)#维度"
   ],
   "metadata": {
    "collapsed": false,
    "ExecuteTime": {
     "end_time": "2024-04-08T02:05:10.552353600Z",
     "start_time": "2024-04-08T02:05:10.514319700Z"
    }
   },
   "id": "e3e0696fe78f16c3"
  },
  {
   "cell_type": "raw",
   "source": [
    "引入l2正则 "
   ],
   "metadata": {
    "collapsed": false
   },
   "id": "9192845000af8034"
  },
  {
   "cell_type": "code",
   "execution_count": 245,
   "outputs": [],
   "source": [
    "def computeCost(X, Y, W, lambda_):\n",
    "    m = X.shape[0]\n",
    "    Y_hat = np.dot(X, W)\n",
    "    loss = np.sum((Y_hat - Y) ** 2) / (2 * m)\n",
    "    regularization_term = (lambda_ / (2 * m)) * np.sum(W ** 2)\n",
    "    return loss + regularization_term"
   ],
   "metadata": {
    "collapsed": false,
    "ExecuteTime": {
     "end_time": "2024-04-08T02:05:10.581791300Z",
     "start_time": "2024-04-08T02:05:10.520219900Z"
    }
   },
   "id": "e40af95f1cd0f7e0"
  },
  {
   "cell_type": "raw",
   "source": [
    "\n",
    "梯度下降\n"
   ],
   "metadata": {
    "collapsed": false
   },
   "id": "f5419d6aca87ba85"
  },
  {
   "cell_type": "code",
   "execution_count": 246,
   "outputs": [],
   "source": [
    "def gradientDescent(X, Y, W, alpha, lambda_):\n",
    "    m = X.shape[0]\n",
    "    Y_hat = np.dot(X, W)\n",
    "    dW = (1 / m) * np.dot(X.T, (Y_hat - Y)) + (lambda_ / m) * W\n",
    "    W -= alpha * dW\n",
    "    return W"
   ],
   "metadata": {
    "collapsed": false,
    "ExecuteTime": {
     "end_time": "2024-04-08T02:05:10.595509Z",
     "start_time": "2024-04-08T02:05:10.522995500Z"
    }
   },
   "id": "5cb1f749ae6151eb"
  },
  {
   "cell_type": "code",
   "execution_count": 247,
   "outputs": [],
   "source": [
    "def linearRegression(X, Y, alpha, iters, lambda_):\n",
    "    loss_his = []\n",
    "    feature_dim = X.shape[1]\n",
    "    W = np.zeros((feature_dim, 1))\n",
    "    \n",
    "    for i in range(iters):\n",
    "        loss = computeCost(X, Y, W, lambda_)\n",
    "        loss_his.append(loss)\n",
    "        W = gradientDescent(X, Y, W, alpha, lambda_)\n",
    "    \n",
    "    return loss_his, W"
   ],
   "metadata": {
    "collapsed": false,
    "ExecuteTime": {
     "end_time": "2024-04-08T02:05:10.597012100Z",
     "start_time": "2024-04-08T02:05:10.528491100Z"
    }
   },
   "id": "df073c7ecbe9b7a8"
  },
  {
   "cell_type": "code",
   "execution_count": 248,
   "outputs": [],
   "source": [
    "def predict(X, W):\n",
    "    '''\n",
    "    输入：\n",
    "        X：测试数据集\n",
    "        W：模型训练好的参数\n",
    "    输出：\n",
    "        y_pre：预测值\n",
    "    '''\n",
    "    y_pre = np.dot(X,W)\n",
    "    return y_pre"
   ],
   "metadata": {
    "collapsed": false,
    "ExecuteTime": {
     "end_time": "2024-04-08T02:05:10.597012100Z",
     "start_time": "2024-04-08T02:05:10.533727300Z"
    }
   },
   "id": "80ca18716df8d707"
  },
  {
   "cell_type": "code",
   "execution_count": 249,
   "outputs": [],
   "source": [
    "alpha =0.1\n",
    "iters = 10000\n",
    "lambda_=0.001\n",
    "loss_his, W = linearRegression(X,Y, alpha, iters,lambda_)"
   ],
   "metadata": {
    "collapsed": false,
    "ExecuteTime": {
     "end_time": "2024-04-08T02:05:10.725674Z",
     "start_time": "2024-04-08T02:05:10.536258400Z"
    }
   },
   "id": "11fed39b864ad7d4"
  },
  {
   "cell_type": "code",
   "execution_count": 250,
   "outputs": [
    {
     "data": {
      "text/plain": "array([[ 2.10221074],\n       [20.48753977]])"
     },
     "execution_count": 250,
     "metadata": {},
     "output_type": "execute_result"
    }
   ],
   "source": [
    "W"
   ],
   "metadata": {
    "collapsed": false,
    "ExecuteTime": {
     "end_time": "2024-04-08T02:05:10.726670800Z",
     "start_time": "2024-04-08T02:05:10.663336700Z"
    }
   },
   "id": "24d784a990061d3e"
  },
  {
   "cell_type": "code",
   "execution_count": 251,
   "outputs": [
    {
     "data": {
      "text/plain": "<Figure size 600x400 with 1 Axes>",
      "image/png": "[encoded data removed]"
     },
     "metadata": {},
     "output_type": "display_data"
    }
   ],
   "source": [
    "x = np.linspace(X_data_normalized['人口'].min(), X_data_normalized['人口'].max(), 100)\n",
    "f = W[0, 0] + (W[1, 0] * x)\n",
    "\n",
    "fig, ax = plt.subplots(figsize=(6, 4))\n",
    "ax.plot(x, f, 'r', label='预测值')\n",
    "ax.scatter(X_data_normalized['人口'], data['收益'], label='训练数据')\n",
    "ax.legend(loc=2)\n",
    "ax.set_xlabel('人口' )\n",
    "ax.set_ylabel('收益', rotation=90)\n",
    "ax.set_title('预测收益和人口规模')\n",
    "plt.show()"
   ],
   "metadata": {
    "collapsed": false,
    "ExecuteTime": {
     "end_time": "2024-04-08T02:05:10.785746700Z",
     "start_time": "2024-04-08T02:05:10.668951200Z"
    }
   },
   "id": "b137c55168743702"
  },
  {
   "cell_type": "code",
   "execution_count": 252,
   "outputs": [
    {
     "data": {
      "text/plain": "<Figure size 600x400 with 1 Axes>",
      "image/png": "[encoded data removed]"
     },
     "metadata": {},
     "output_type": "display_data"
    }
   ],
   "source": [
    "fig, ax = plt.subplots(figsize=(6, 4))\n",
    "ax.plot(np.arange(iters), loss_his, 'r')\n",
    "ax.set_xlabel('迭代次数')\n",
    "ax.set_ylabel('代价', rotation=0)\n",
    "ax.set_title('误差和训练Epoch数')\n",
    "plt.show()"
   ],
   "metadata": {
    "collapsed": false,
    "ExecuteTime": {
     "end_time": "2024-04-08T02:05:10.891085Z",
     "start_time": "2024-04-08T02:05:10.770154800Z"
    }
   },
   "id": "35c9958c7e871ac6"
  }
 ],
 "metadata": {
  "kernelspec": {
   "display_name": "Python 3",
   "language": "python",
   "name": "python3"
  },
  "language_info": {
   "codemirror_mode": {
    "name": "ipython",
    "version": 2
   },
   "file_extension": ".py",
   "mimetype": "text/x-python",
   "name": "python",
   "nbconvert_exporter": "python",
   "pygments_lexer": "ipython2",
   "version": "2.7.6"
  }
 },
 "nbformat": 4,
 "nbformat_minor": 5
}
