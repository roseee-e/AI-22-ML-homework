{
 "cells": [
  {
   "cell_type": "code",
   "execution_count": 355,
   "outputs": [],
   "source": [
    "import numpy as np\n",
    "import matplotlib.pyplot as plt\n",
    "import matplotlib\n",
    "from matplotlib import rcParams  ## run command settings for plotting\n"
   ],
   "metadata": {
    "collapsed": false,
    "ExecuteTime": {
     "end_time": "2024-04-07T16:18:20.866663400Z",
     "start_time": "2024-04-07T16:18:20.728328900Z"
    }
   },
   "id": "3ada3e671bdcd0b6"
  },
  {
   "cell_type": "code",
   "execution_count": 356,
   "outputs": [],
   "source": [
    "config = {\n",
    "    \"mathtext.fontset\":'stix',\n",
    "    \"font.family\":'serif',\n",
    "    \"font.serif\": ['SimHei'],\n",
    "    \"font.size\": 10,   # 字号，大家自行调节\n",
    "    'axes.unicode_minus': False # 处理负号，即-号\n",
    "}\n",
    "rcParams.update(config)  ## 设置画图的一些参数"
   ],
   "metadata": {
    "collapsed": false,
    "ExecuteTime": {
     "end_time": "2024-04-07T16:18:20.866663400Z",
     "start_time": "2024-04-07T16:18:20.740209800Z"
    }
   },
   "id": "4969e5690411058e"
  },
  {
   "cell_type": "code",
   "execution_count": 357,
   "outputs": [
    {
     "data": {
      "text/plain": "       人口       收益\n0  6.1101  17.5920\n1  5.5277   9.1302\n2  8.5186  13.6620\n3  7.0032  11.8540\n4  5.8598   6.8233",
      "text/html": "<div>\n<style scoped>\n    .dataframe tbody tr th:only-of-type {\n        vertical-align: middle;\n    }\n\n    .dataframe tbody tr th {\n        vertical-align: top;\n    }\n\n    .dataframe thead th {\n        text-align: right;\n    }\n</style>\n<table border=\"1\" class=\"dataframe\">\n  <thead>\n    <tr style=\"text-align: right;\">\n      <th></th>\n      <th>人口</th>\n      <th>收益</th>\n    </tr>\n  </thead>\n  <tbody>\n    <tr>\n      <th>0</th>\n      <td>6.1101</td>\n      <td>17.5920</td>\n    </tr>\n    <tr>\n      <th>1</th>\n      <td>5.5277</td>\n      <td>9.1302</td>\n    </tr>\n    <tr>\n      <th>2</th>\n      <td>8.5186</td>\n      <td>13.6620</td>\n    </tr>\n    <tr>\n      <th>3</th>\n      <td>7.0032</td>\n      <td>11.8540</td>\n    </tr>\n    <tr>\n      <th>4</th>\n      <td>5.8598</td>\n      <td>6.8233</td>\n    </tr>\n  </tbody>\n</table>\n</div>"
     },
     "execution_count": 357,
     "metadata": {},
     "output_type": "execute_result"
    }
   ],
   "source": [
    "## 读取数据\n",
    "path = 'D:/tx/regress_data1.csv'\n",
    "import pandas as pd\n",
    "data = pd.read_csv(path) ## data 是dataframe 的数据类型\n",
    "data.head() # 返回data中的前几行数据，默认是前5行。"
   ],
   "metadata": {
    "collapsed": false,
    "ExecuteTime": {
     "end_time": "2024-04-07T16:18:20.964148Z",
     "start_time": "2024-04-07T16:18:20.750057800Z"
    }
   },
   "id": "d97ab67a4c8ac5d5"
  },
  {
   "cell_type": "code",
   "execution_count": 358,
   "outputs": [],
   "source": [
    "cols = data.shape[1]\n",
    "X_data = data.iloc[:,:cols-1]#X是所有行，去掉最后一列， 未标准化\n",
    "y_data = data.iloc[:,cols-1:]#X是所有行，最后一列"
   ],
   "metadata": {
    "collapsed": false,
    "ExecuteTime": {
     "end_time": "2024-04-07T16:18:20.964148Z",
     "start_time": "2024-04-07T16:18:20.764615900Z"
    }
   },
   "id": "699b0364f9b618de"
  },
  {
   "cell_type": "code",
   "execution_count": 359,
   "outputs": [
    {
     "data": {
      "text/plain": "              人口         收益\ncount  97.000000  97.000000\nmean    8.159800   5.839135\nstd     3.869884   5.510262\nmin     5.026900  -2.680700\n25%     5.707700   1.986900\n50%     6.589400   4.562300\n75%     8.578100   7.046700\nmax    22.203000  24.147000",
      "text/html": "<div>\n<style scoped>\n    .dataframe tbody tr th:only-of-type {\n        vertical-align: middle;\n    }\n\n    .dataframe tbody tr th {\n        vertical-align: top;\n    }\n\n    .dataframe thead th {\n        text-align: right;\n    }\n</style>\n<table border=\"1\" class=\"dataframe\">\n  <thead>\n    <tr style=\"text-align: right;\">\n      <th></th>\n      <th>人口</th>\n      <th>收益</th>\n    </tr>\n  </thead>\n  <tbody>\n    <tr>\n      <th>count</th>\n      <td>97.000000</td>\n      <td>97.000000</td>\n    </tr>\n    <tr>\n      <th>mean</th>\n      <td>8.159800</td>\n      <td>5.839135</td>\n    </tr>\n    <tr>\n      <th>std</th>\n      <td>3.869884</td>\n      <td>5.510262</td>\n    </tr>\n    <tr>\n      <th>min</th>\n      <td>5.026900</td>\n      <td>-2.680700</td>\n    </tr>\n    <tr>\n      <th>25%</th>\n      <td>5.707700</td>\n      <td>1.986900</td>\n    </tr>\n    <tr>\n      <th>50%</th>\n      <td>6.589400</td>\n      <td>4.562300</td>\n    </tr>\n    <tr>\n      <th>75%</th>\n      <td>8.578100</td>\n      <td>7.046700</td>\n    </tr>\n    <tr>\n      <th>max</th>\n      <td>22.203000</td>\n      <td>24.147000</td>\n    </tr>\n  </tbody>\n</table>\n</div>"
     },
     "execution_count": 359,
     "metadata": {},
     "output_type": "execute_result"
    }
   ],
   "source": [
    "data.describe() ## 查看数据的统计信息"
   ],
   "metadata": {
    "collapsed": false,
    "ExecuteTime": {
     "end_time": "2024-04-07T16:18:20.965612800Z",
     "start_time": "2024-04-07T16:18:20.772102800Z"
    }
   },
   "id": "c25c0c13cda46249"
  },
  {
   "cell_type": "code",
   "execution_count": 360,
   "outputs": [
    {
     "data": {
      "text/plain": "<Figure size 400x300 with 1 Axes>",
      "image/png": "[encoded data removed]"
     },
     "metadata": {},
     "output_type": "display_data"
    }
   ],
   "source": [
    "data.plot(kind='scatter', x='人口', y='收益', figsize=(4,3)) # 利用散点图可视化数据\n",
    "import matplotlib\n",
    "plt.xlabel('人口')\n",
    "plt.ylabel('收益', rotation=90)\n",
    "plt.show()"
   ],
   "metadata": {
    "collapsed": false,
    "ExecuteTime": {
     "end_time": "2024-04-07T16:18:20.966637Z",
     "start_time": "2024-04-07T16:18:20.784683500Z"
    }
   },
   "id": "18fa0d470ae78add"
  },
  {
   "cell_type": "code",
   "execution_count": 361,
   "outputs": [],
   "source": [
    "X_data.insert(0, 'Ones', 1)"
   ],
   "metadata": {
    "collapsed": false,
    "ExecuteTime": {
     "end_time": "2024-04-07T16:18:20.967632400Z",
     "start_time": "2024-04-07T16:18:20.879474600Z"
    }
   },
   "id": "4098f44814a9a98"
  },
  {
   "cell_type": "code",
   "execution_count": 362,
   "outputs": [
    {
     "data": {
      "text/plain": "   Ones      人口\n0     1  6.1101\n1     1  5.5277\n2     1  8.5186\n3     1  7.0032\n4     1  5.8598",
      "text/html": "<div>\n<style scoped>\n    .dataframe tbody tr th:only-of-type {\n        vertical-align: middle;\n    }\n\n    .dataframe tbody tr th {\n        vertical-align: top;\n    }\n\n    .dataframe thead th {\n        text-align: right;\n    }\n</style>\n<table border=\"1\" class=\"dataframe\">\n  <thead>\n    <tr style=\"text-align: right;\">\n      <th></th>\n      <th>Ones</th>\n      <th>人口</th>\n    </tr>\n  </thead>\n  <tbody>\n    <tr>\n      <th>0</th>\n      <td>1</td>\n      <td>6.1101</td>\n    </tr>\n    <tr>\n      <th>1</th>\n      <td>1</td>\n      <td>5.5277</td>\n    </tr>\n    <tr>\n      <th>2</th>\n      <td>1</td>\n      <td>8.5186</td>\n    </tr>\n    <tr>\n      <th>3</th>\n      <td>1</td>\n      <td>7.0032</td>\n    </tr>\n    <tr>\n      <th>4</th>\n      <td>1</td>\n      <td>5.8598</td>\n    </tr>\n  </tbody>\n</table>\n</div>"
     },
     "execution_count": 362,
     "metadata": {},
     "output_type": "execute_result"
    }
   ],
   "source": [
    "X_data.head()#head()是观察前5行"
   ],
   "metadata": {
    "collapsed": false,
    "ExecuteTime": {
     "end_time": "2024-04-07T16:18:20.967632400Z",
     "start_time": "2024-04-07T16:18:20.889306800Z"
    }
   },
   "id": "e7fc086afdb062ba"
  },
  {
   "cell_type": "code",
   "execution_count": 363,
   "outputs": [
    {
     "data": {
      "text/plain": "        收益\n0  17.5920\n1   9.1302\n2  13.6620\n3  11.8540\n4   6.8233",
      "text/html": "<div>\n<style scoped>\n    .dataframe tbody tr th:only-of-type {\n        vertical-align: middle;\n    }\n\n    .dataframe tbody tr th {\n        vertical-align: top;\n    }\n\n    .dataframe thead th {\n        text-align: right;\n    }\n</style>\n<table border=\"1\" class=\"dataframe\">\n  <thead>\n    <tr style=\"text-align: right;\">\n      <th></th>\n      <th>收益</th>\n    </tr>\n  </thead>\n  <tbody>\n    <tr>\n      <th>0</th>\n      <td>17.5920</td>\n    </tr>\n    <tr>\n      <th>1</th>\n      <td>9.1302</td>\n    </tr>\n    <tr>\n      <th>2</th>\n      <td>13.6620</td>\n    </tr>\n    <tr>\n      <th>3</th>\n      <td>11.8540</td>\n    </tr>\n    <tr>\n      <th>4</th>\n      <td>6.8233</td>\n    </tr>\n  </tbody>\n</table>\n</div>"
     },
     "execution_count": 363,
     "metadata": {},
     "output_type": "execute_result"
    }
   ],
   "source": [
    "y_data.head()"
   ],
   "metadata": {
    "collapsed": false,
    "ExecuteTime": {
     "end_time": "2024-04-07T16:18:20.967632400Z",
     "start_time": "2024-04-07T16:18:20.901686900Z"
    }
   },
   "id": "eeabe9ec1dfcc1b"
  },
  {
   "cell_type": "code",
   "execution_count": 364,
   "outputs": [],
   "source": [
    "X=X_data.values\n",
    "Y=y_data.values\n",
    "W=np.array([[0.0],[0.0]]) ## 初始化W系数矩阵，w 是一个(2,1)矩阵"
   ],
   "metadata": {
    "collapsed": false,
    "ExecuteTime": {
     "end_time": "2024-04-07T16:18:20.967632400Z",
     "start_time": "2024-04-07T16:18:20.913440Z"
    }
   },
   "id": "a0bdfee6b4adfd97"
  },
  {
   "cell_type": "code",
   "execution_count": 365,
   "outputs": [
    {
     "data": {
      "text/plain": "((97, 2), (97, 1), (2, 1))"
     },
     "execution_count": 365,
     "metadata": {},
     "output_type": "execute_result"
    }
   ],
   "source": [
    "(X.shape,Y.shape, W.shape)#维度"
   ],
   "metadata": {
    "collapsed": false,
    "ExecuteTime": {
     "end_time": "2024-04-07T16:18:20.967632400Z",
     "start_time": "2024-04-07T16:18:20.923003700Z"
    }
   },
   "id": "fa359bd44fc7d4ae"
  },
  {
   "cell_type": "raw",
   "source": [
    "引入l2正则 "
   ],
   "metadata": {
    "collapsed": false
   },
   "id": "9fbc2a50f34ead41"
  },
  {
   "cell_type": "code",
   "execution_count": 366,
   "outputs": [],
   "source": [
    "def computeCost(X, Y, W, lambda_):\n",
    "    m = X.shape[0]\n",
    "    Y_hat = np.dot(X, W)\n",
    "    loss = np.sum((Y_hat - Y) ** 2) / (2 * m)\n",
    "    regularization_term = (lambda_ / (2 * m)) * np.sum(W ** 2)\n",
    "    return loss + regularization_term"
   ],
   "metadata": {
    "collapsed": false,
    "ExecuteTime": {
     "end_time": "2024-04-07T16:18:20.967632400Z",
     "start_time": "2024-04-07T16:18:20.930453100Z"
    }
   },
   "id": "5c0a50a365847a9"
  },
  {
   "cell_type": "raw",
   "source": [
    "\n",
    "梯度下降\n"
   ],
   "metadata": {
    "collapsed": false
   },
   "id": "2ca141e7e58e0d2e"
  },
  {
   "cell_type": "code",
   "execution_count": 367,
   "outputs": [],
   "source": [
    "def gradientDescent(X, Y, W, alpha, lambda_):\n",
    "    m = X.shape[0]\n",
    "    Y_hat = np.dot(X, W)\n",
    "    dW = (1 / m) * np.dot(X.T, (Y_hat - Y)) + (lambda_ / m) * W\n",
    "    W -= alpha * dW\n",
    "    return W"
   ],
   "metadata": {
    "collapsed": false,
    "ExecuteTime": {
     "end_time": "2024-04-07T16:18:20.967632400Z",
     "start_time": "2024-04-07T16:18:20.937869300Z"
    }
   },
   "id": "8da9f25f74e971f8"
  },
  {
   "cell_type": "code",
   "execution_count": 368,
   "outputs": [],
   "source": [
    "def linearRegression(X, Y, alpha, iters, lambda_):\n",
    "    loss_his = []\n",
    "    feature_dim = X.shape[1]\n",
    "    W = np.zeros((feature_dim, 1))\n",
    "    \n",
    "    for i in range(iters):\n",
    "        loss = computeCost(X, Y, W, lambda_)\n",
    "        loss_his.append(loss)\n",
    "        W = gradientDescent(X, Y, W, alpha, lambda_)\n",
    "    \n",
    "    return loss_his, W"
   ],
   "metadata": {
    "collapsed": false,
    "ExecuteTime": {
     "end_time": "2024-04-07T16:18:20.967632400Z",
     "start_time": "2024-04-07T16:18:20.945181500Z"
    }
   },
   "id": "1b7d2bd805ce7f57"
  },
  {
   "cell_type": "code",
   "execution_count": 369,
   "outputs": [],
   "source": [
    "def predict(X, W):\n",
    "    '''\n",
    "    输入：\n",
    "        X：测试数据集\n",
    "        W：模型训练好的参数\n",
    "    输出：\n",
    "        y_pre：预测值\n",
    "    '''\n",
    "    y_pre = np.dot(X,W)\n",
    "    return y_pre"
   ],
   "metadata": {
    "collapsed": false,
    "ExecuteTime": {
     "end_time": "2024-04-07T16:18:20.967632400Z",
     "start_time": "2024-04-07T16:18:20.951789900Z"
    }
   },
   "id": "b93afe7f7a3719fa"
  },
  {
   "cell_type": "code",
   "execution_count": 370,
   "outputs": [],
   "source": [
    "alpha =0.0001\n",
    "iters = 10000\n",
    "lambda_=10 #参数可取0.1 1 10 100  观察10较佳\n",
    "loss_his, W = linearRegression(X,Y, alpha, iters,lambda_)"
   ],
   "metadata": {
    "collapsed": false,
    "ExecuteTime": {
     "end_time": "2024-04-07T16:18:21.360536100Z",
     "start_time": "2024-04-07T16:18:20.957111100Z"
    }
   },
   "id": "8ad82f5cfd90a02"
  },
  {
   "cell_type": "code",
   "execution_count": 371,
   "outputs": [
    {
     "data": {
      "text/plain": "array([[-0.54441911],\n       [ 0.85534913]])"
     },
     "execution_count": 371,
     "metadata": {},
     "output_type": "execute_result"
    }
   ],
   "source": [
    "W"
   ],
   "metadata": {
    "collapsed": false,
    "ExecuteTime": {
     "end_time": "2024-04-07T16:18:21.400762500Z",
     "start_time": "2024-04-07T16:18:21.148556600Z"
    }
   },
   "id": "7ff6282dffff3250"
  },
  {
   "cell_type": "code",
   "execution_count": 372,
   "outputs": [
    {
     "data": {
      "text/plain": "<Figure size 600x400 with 1 Axes>",
      "image/png": "[encoded data removed]"
     },
     "metadata": {},
     "output_type": "display_data"
    }
   ],
   "source": [
    "x = np.linspace(X_data['人口'].min(), X_data['人口'].max(), 100)\n",
    "f = W[0, 0] + (W[1, 0] * x)\n",
    "\n",
    "fig, ax = plt.subplots(figsize=(6, 4))\n",
    "ax.plot(x, f, 'r', label='预测值')\n",
    "ax.scatter(X_data['人口'], data['收益'], label='训练数据')\n",
    "ax.legend(loc=2)\n",
    "ax.set_xlabel('人口' )\n",
    "ax.set_ylabel('收益', rotation=90)\n",
    "ax.set_title('预测收益和人口规模')\n",
    "plt.show()"
   ],
   "metadata": {
    "collapsed": false,
    "ExecuteTime": {
     "end_time": "2024-04-07T16:18:21.500647500Z",
     "start_time": "2024-04-07T16:18:21.157269900Z"
    }
   },
   "id": "a48f8105c7aa14e9"
  },
  {
   "cell_type": "code",
   "execution_count": 373,
   "outputs": [
    {
     "data": {
      "text/plain": "<Figure size 600x400 with 1 Axes>",
      "image/png": "[encoded data removed]"
     },
     "metadata": {},
     "output_type": "display_data"
    }
   ],
   "source": [
    "fig, ax = plt.subplots(figsize=(6, 4))\n",
    "ax.plot(np.arange(iters), loss_his, 'r')\n",
    "ax.set_xlabel('迭代次数')\n",
    "ax.set_ylabel('代价', rotation=0)\n",
    "ax.set_title('误差和训练Epoch数')\n",
    "plt.show()"
   ],
   "metadata": {
    "collapsed": false,
    "ExecuteTime": {
     "end_time": "2024-04-07T16:18:21.636290500Z",
     "start_time": "2024-04-07T16:18:21.323974300Z"
    }
   },
   "id": "d30eb5dcba45675"
  }
 ],
 "metadata": {
  "kernelspec": {
   "display_name": "Python 3",
   "language": "python",
   "name": "python3"
  },
  "language_info": {
   "codemirror_mode": {
    "name": "ipython",
    "version": 2
   },
   "file_extension": ".py",
   "mimetype": "text/x-python",
   "name": "python",
   "nbconvert_exporter": "python",
   "pygments_lexer": "ipython2",
   "version": "2.7.6"
  }
 },
 "nbformat": 4,
 "nbformat_minor": 5
}
