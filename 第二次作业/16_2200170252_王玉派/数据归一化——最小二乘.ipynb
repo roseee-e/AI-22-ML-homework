{
 "cells": [
  {
   "cell_type": "code",
   "execution_count": 1,
   "id": "9294690a-c470-4d23-ab13-f0316c5e5caf",
   "metadata": {},
   "outputs": [],
   "source": [
    "import numpy as np\n",
    "import matplotlib.pyplot as plt\n",
    "import matplotlib\n",
    "from matplotlib import rcParams  ## run command settings for plotting"
   ]
  },
  {
   "cell_type": "code",
   "execution_count": 2,
   "id": "961ca842-4d14-4f8e-870e-120955e6c9d3",
   "metadata": {},
   "outputs": [],
   "source": [
    "config = {\n",
    "    \"mathtext.fontset\":'stix',\n",
    "    \"font.family\":'serif',\n",
    "    \"font.serif\": ['SimHei'],\n",
    "    \"font.size\": 10,   # 字号，大家自行调节\n",
    "    'axes.unicode_minus': False # 处理负号，即-号\n",
    "}\n",
    "\n",
    "rcParams.update(config)  ## 设置画图的一些参数"
   ]
  },
  {
   "cell_type": "code",
   "execution_count": 3,
   "id": "ec8e6325-4b5e-403c-b884-c84e6375a9ce",
   "metadata": {},
   "outputs": [
    {
     "data": {
      "text/html": [
       "<div>\n",
       "<style scoped>\n",
       "    .dataframe tbody tr th:only-of-type {\n",
       "        vertical-align: middle;\n",
       "    }\n",
       "\n",
       "    .dataframe tbody tr th {\n",
       "        vertical-align: top;\n",
       "    }\n",
       "\n",
       "    .dataframe thead th {\n",
       "        text-align: right;\n",
       "    }\n",
       "</style>\n",
       "<table border=\"1\" class=\"dataframe\">\n",
       "  <thead>\n",
       "    <tr style=\"text-align: right;\">\n",
       "      <th></th>\n",
       "      <th>人口</th>\n",
       "      <th>收益</th>\n",
       "    </tr>\n",
       "  </thead>\n",
       "  <tbody>\n",
       "    <tr>\n",
       "      <th>0</th>\n",
       "      <td>6.1101</td>\n",
       "      <td>17.5920</td>\n",
       "    </tr>\n",
       "    <tr>\n",
       "      <th>1</th>\n",
       "      <td>5.5277</td>\n",
       "      <td>9.1302</td>\n",
       "    </tr>\n",
       "    <tr>\n",
       "      <th>2</th>\n",
       "      <td>8.5186</td>\n",
       "      <td>13.6620</td>\n",
       "    </tr>\n",
       "    <tr>\n",
       "      <th>3</th>\n",
       "      <td>7.0032</td>\n",
       "      <td>11.8540</td>\n",
       "    </tr>\n",
       "    <tr>\n",
       "      <th>4</th>\n",
       "      <td>5.8598</td>\n",
       "      <td>6.8233</td>\n",
       "    </tr>\n",
       "  </tbody>\n",
       "</table>\n",
       "</div>"
      ],
      "text/plain": [
       "       人口       收益\n",
       "0  6.1101  17.5920\n",
       "1  5.5277   9.1302\n",
       "2  8.5186  13.6620\n",
       "3  7.0032  11.8540\n",
       "4  5.8598   6.8233"
      ]
     },
     "execution_count": 3,
     "metadata": {},
     "output_type": "execute_result"
    }
   ],
   "source": [
    "path = 'C:/Users/wyp/Desktop/regress_data1.csv'\n",
    "import pandas as pd\n",
    "data = pd.read_csv(path) ## data 是dataframe 的数据类型\n",
    "data.head() # 返回data中的前几行数据，默认是前5行。  "
   ]
  },
  {
   "cell_type": "code",
   "execution_count": 4,
   "id": "b0af09eb-191d-4959-ad51-f822b7a09d09",
   "metadata": {},
   "outputs": [],
   "source": [
    "cols = data.shape[1]\n",
    "X_data = data.iloc[:,:cols-1]#X是人口一列\n",
    "y_data = data.iloc[:,cols-1:]#y是收益一列"
   ]
  },
  {
   "cell_type": "markdown",
   "id": "d5884785-8c81-4f6f-b2ba-140253aeb185",
   "metadata": {},
   "source": [
    "数据归一化"
   ]
  },
  {
   "cell_type": "code",
   "execution_count": 5,
   "id": "d2263341-792b-4c8a-9a3b-a8ebfc9b6c7f",
   "metadata": {},
   "outputs": [],
   "source": [
    "X_1=(X_data-X_data.min())/(X_data.max()-X_data.min())"
   ]
  },
  {
   "cell_type": "code",
   "execution_count": 6,
   "id": "25674c4d-0549-4a9e-920f-0a54df23b1ee",
   "metadata": {
    "scrolled": true
   },
   "outputs": [
    {
     "data": {
      "image/png": "[encoded data removed]",
      "text/plain": [
       "<Figure size 400x300 with 1 Axes>"
      ]
     },
     "metadata": {},
     "output_type": "display_data"
    }
   ],
   "source": [
    "data.plot(kind='scatter', x='人口', y='收益', figsize=(4,3)) # 利用散点图可视化数据\n",
    "import matplotlib\n",
    "plt.xlabel('人口')\n",
    "plt.ylabel('收益', rotation=90)\n",
    "plt.show()"
   ]
  },
  {
   "cell_type": "code",
   "execution_count": 7,
   "id": "8b3b2a80-379c-4a12-92b3-fd515cd1d218",
   "metadata": {},
   "outputs": [],
   "source": [
    "X_1.insert(0, 'Ones', 1)"
   ]
  },
  {
   "cell_type": "code",
   "execution_count": 8,
   "id": "f525f555-f8e7-4361-896d-8dc175833b7d",
   "metadata": {},
   "outputs": [
    {
     "data": {
      "text/html": [
       "<div>\n",
       "<style scoped>\n",
       "    .dataframe tbody tr th:only-of-type {\n",
       "        vertical-align: middle;\n",
       "    }\n",
       "\n",
       "    .dataframe tbody tr th {\n",
       "        vertical-align: top;\n",
       "    }\n",
       "\n",
       "    .dataframe thead th {\n",
       "        text-align: right;\n",
       "    }\n",
       "</style>\n",
       "<table border=\"1\" class=\"dataframe\">\n",
       "  <thead>\n",
       "    <tr style=\"text-align: right;\">\n",
       "      <th></th>\n",
       "      <th>Ones</th>\n",
       "      <th>人口</th>\n",
       "    </tr>\n",
       "  </thead>\n",
       "  <tbody>\n",
       "    <tr>\n",
       "      <th>0</th>\n",
       "      <td>1</td>\n",
       "      <td>0.063064</td>\n",
       "    </tr>\n",
       "    <tr>\n",
       "      <th>1</th>\n",
       "      <td>1</td>\n",
       "      <td>0.029157</td>\n",
       "    </tr>\n",
       "    <tr>\n",
       "      <th>2</th>\n",
       "      <td>1</td>\n",
       "      <td>0.203288</td>\n",
       "    </tr>\n",
       "    <tr>\n",
       "      <th>3</th>\n",
       "      <td>1</td>\n",
       "      <td>0.115061</td>\n",
       "    </tr>\n",
       "    <tr>\n",
       "      <th>4</th>\n",
       "      <td>1</td>\n",
       "      <td>0.048492</td>\n",
       "    </tr>\n",
       "  </tbody>\n",
       "</table>\n",
       "</div>"
      ],
      "text/plain": [
       "   Ones        人口\n",
       "0     1  0.063064\n",
       "1     1  0.029157\n",
       "2     1  0.203288\n",
       "3     1  0.115061\n",
       "4     1  0.048492"
      ]
     },
     "execution_count": 8,
     "metadata": {},
     "output_type": "execute_result"
    }
   ],
   "source": [
    "X_1.head()#head()是观察前5行"
   ]
  },
  {
   "cell_type": "code",
   "execution_count": 9,
   "id": "46cd1241-5eac-455d-b7a8-f456d9cd1ff3",
   "metadata": {},
   "outputs": [],
   "source": [
    "X=X_1.values\n",
    "Y=y_data.values"
   ]
  },
  {
   "cell_type": "code",
   "execution_count": 10,
   "id": "f36d212f-6f92-4b96-86d1-05e247aa0d6d",
   "metadata": {},
   "outputs": [],
   "source": [
    "def bin_mult(X,Y):\n",
    "    t=np.linalg.inv(X.T@X)\n",
    "    w=t@X.T@Y\n",
    "    return w"
   ]
  },
  {
   "cell_type": "code",
   "execution_count": 11,
   "id": "a369c303-b054-4343-8be6-64d15cce6a6f",
   "metadata": {},
   "outputs": [],
   "source": [
    "def computeCost(X, Y, W):\n",
    "    Y_hat = np.dot(X,W)\n",
    "    loss =np.sum((Y_hat - Y)** 2)/(2*X.shape[0])# (m,n) @ (n, 1) -> (n, 1)\n",
    "    return loss"
   ]
  },
  {
   "cell_type": "code",
   "execution_count": 12,
   "id": "cba4a67f-10bd-4b71-ae67-2bc7cfe2eea1",
   "metadata": {},
   "outputs": [],
   "source": [
    "def linearRegression(X,Y,itters):\n",
    "    loss_his=[]\n",
    "    m=X.shape[1]\n",
    "    w=np.zeros((m,1))\n",
    "    for i in range(iters):\n",
    "        loss=computeCost(X,Y,w)\n",
    "        loss_his.append(loss)\n",
    "        w=bin_mult(X,Y)\n",
    "    return loss_his,w"
   ]
  },
  {
   "cell_type": "code",
   "execution_count": 13,
   "id": "2eae9181-cb20-484f-a878-4e494b674d23",
   "metadata": {},
   "outputs": [
    {
     "data": {
      "text/plain": [
       "array([[ 2.10147995],\n",
       "       [20.49166518]])"
      ]
     },
     "execution_count": 13,
     "metadata": {},
     "output_type": "execute_result"
    }
   ],
   "source": [
    "iters=10000\n",
    "loss_his,w=linearRegression(X,Y,iters)\n",
    "w"
   ]
  },
  {
   "cell_type": "code",
   "execution_count": 14,
   "id": "f81d0e38-6361-4d2b-a927-aee7f2dd6ea9",
   "metadata": {},
   "outputs": [
    {
     "data": {
      "image/png": "[encoded data removed]",
      "text/plain": [
       "<Figure size 600x400 with 1 Axes>"
      ]
     },
     "metadata": {},
     "output_type": "display_data"
    }
   ],
   "source": [
    "x = np.linspace(X_1['人口'].min(), X_1['人口'].max(), 100)\n",
    "f = w[0, 0] + (w[1, 0] * x)\n",
    "\n",
    "fig, ax = plt.subplots(figsize=(6, 4))\n",
    "ax.plot(x, f, 'r', label='预测值')\n",
    "ax.scatter(X_1['人口'], data['收益'], label='训练数据')\n",
    "ax.legend(loc=2)\n",
    "ax.set_xlabel('人口' )\n",
    "ax.set_ylabel('收益', rotation=90)\n",
    "ax.set_title('预测收益和人口规模')\n",
    "plt.show()"
   ]
  },
  {
   "cell_type": "code",
   "execution_count": 15,
   "id": "46bce3c7-3b1a-4e36-a2ae-9a0cef79d219",
   "metadata": {},
   "outputs": [
    {
     "data": {
      "image/png": "[encoded data removed]",
      "text/plain": [
       "<Figure size 600x400 with 1 Axes>"
      ]
     },
     "metadata": {},
     "output_type": "display_data"
    }
   ],
   "source": [
    "fig, ax = plt.subplots(figsize=(6, 4))\n",
    "ax.plot(np.arange(iters), loss_his, 'r')\n",
    "ax.set_xlabel('迭代次数')\n",
    "ax.set_ylabel('代价', rotation=0)\n",
    "ax.set_title('误差和训练Epoch数')\n",
    "plt.show()"
   ]
  }
 ],
 "metadata": {
  "kernelspec": {
   "display_name": "Python 3 (ipykernel)",
   "language": "python",
   "name": "python3"
  },
  "language_info": {
   "codemirror_mode": {
    "name": "ipython",
    "version": 3
   },
   "file_extension": ".py",
   "mimetype": "text/x-python",
   "name": "python",
   "nbconvert_exporter": "python",
   "pygments_lexer": "ipython3",
   "version": "3.11.7"
  }
 },
 "nbformat": 4,
 "nbformat_minor": 5
}
