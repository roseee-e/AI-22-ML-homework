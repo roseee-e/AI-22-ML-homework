{
 "cells": [
  {
   "cell_type": "code",
   "execution_count": 64,
   "id": "f74561a4",
   "metadata": {},
   "outputs": [],
   "source": [
    "import numpy as np\n",
    "import pandas as pd"
   ]
  },
  {
   "cell_type": "code",
   "execution_count": 65,
   "id": "259f155f",
   "metadata": {},
   "outputs": [
    {
     "data": {
      "text/html": [
       "<div>\n",
       "<style scoped>\n",
       "    .dataframe tbody tr th:only-of-type {\n",
       "        vertical-align: middle;\n",
       "    }\n",
       "\n",
       "    .dataframe tbody tr th {\n",
       "        vertical-align: top;\n",
       "    }\n",
       "\n",
       "    .dataframe thead th {\n",
       "        text-align: right;\n",
       "    }\n",
       "</style>\n",
       "<table border=\"1\" class=\"dataframe\">\n",
       "  <thead>\n",
       "    <tr style=\"text-align: right;\">\n",
       "      <th></th>\n",
       "      <th>x1</th>\n",
       "      <th>x2</th>\n",
       "      <th>x3</th>\n",
       "      <th>x4</th>\n",
       "      <th>y</th>\n",
       "    </tr>\n",
       "  </thead>\n",
       "  <tbody>\n",
       "    <tr>\n",
       "      <th>0</th>\n",
       "      <td>Sunny</td>\n",
       "      <td>Hot</td>\n",
       "      <td>High</td>\n",
       "      <td>Weak</td>\n",
       "      <td>No</td>\n",
       "    </tr>\n",
       "    <tr>\n",
       "      <th>1</th>\n",
       "      <td>Sunny</td>\n",
       "      <td>Hot</td>\n",
       "      <td>High</td>\n",
       "      <td>Strong</td>\n",
       "      <td>No</td>\n",
       "    </tr>\n",
       "    <tr>\n",
       "      <th>2</th>\n",
       "      <td>Overcast</td>\n",
       "      <td>Hot</td>\n",
       "      <td>High</td>\n",
       "      <td>Weak</td>\n",
       "      <td>Yes</td>\n",
       "    </tr>\n",
       "    <tr>\n",
       "      <th>3</th>\n",
       "      <td>Rain</td>\n",
       "      <td>Mild</td>\n",
       "      <td>High</td>\n",
       "      <td>Weak</td>\n",
       "      <td>Yes</td>\n",
       "    </tr>\n",
       "    <tr>\n",
       "      <th>4</th>\n",
       "      <td>Rain</td>\n",
       "      <td>Cool</td>\n",
       "      <td>Normal</td>\n",
       "      <td>Weak</td>\n",
       "      <td>Yes</td>\n",
       "    </tr>\n",
       "  </tbody>\n",
       "</table>\n",
       "</div>"
      ],
      "text/plain": [
       "         x1    x2      x3      x4    y\n",
       "0     Sunny   Hot    High    Weak   No\n",
       "1     Sunny   Hot    High  Strong   No\n",
       "2  Overcast   Hot    High    Weak  Yes\n",
       "3      Rain  Mild    High    Weak  Yes\n",
       "4      Rain  Cool  Normal    Weak  Yes"
      ]
     },
     "execution_count": 65,
     "metadata": {},
     "output_type": "execute_result"
    }
   ],
   "source": [
    "data = [['Sunny','Hot','High','Weak','No'],['Sunny','Hot','High','Strong','No'],['Overcast','Hot','High','Weak','Yes'],\\\n",
    "      ['Rain','Mild','High','Weak','Yes'],['Rain','Cool','Normal','Weak','Yes'],['Rain','Cool','Normal','Strong','No'],\\\n",
    "      ['Overcast','Cool','Normal','Strong','Yes'],['Sunny','Mild','High','Weak','No'],['Sunny','Cool','Normal','Weak','Yes'],\\\n",
    "      ['Rain','Mild','Normal','Weak','Yes'],['Sunny','Mild','Normal','Strong','Yes'],['Overcast','Mild','High','Strong','Yes'],\\\n",
    "      ['Overcast','Hot','Normal','Weak','Yes'],['Rain','Mild','High','Strong','No']]\n",
    "Data = pd.DataFrame(data, columns = ['x1','x2','x3','x4','y'])\n",
    "Data.head()"
   ]
  },
  {
   "cell_type": "code",
   "execution_count": 66,
   "id": "55cbe081",
   "metadata": {},
   "outputs": [],
   "source": [
    "cols = Data.shape[1]\n",
    "X_data = Data.iloc[:,:cols-1]\n",
    "y_data = Data.iloc[:,cols-1:]\n",
    "featureNames = X_data.columns"
   ]
  },
  {
   "cell_type": "code",
   "execution_count": 67,
   "id": "15528bd5",
   "metadata": {},
   "outputs": [],
   "source": [
    "def Naive_Bayes(X_data, y_data):\n",
    "    y = y_data.values\n",
    "    X = X_data.values\n",
    "    y_unique = np.unique(y)\n",
    "    prior_prob = np.zeros(len(y_unique))\n",
    "    for i in range(len(y_unique)):\n",
    "        prior_prob[i] = sum(y==y_unique[i])/len(y)\n",
    "    \n",
    "    condition_prob = {}\n",
    "    \n",
    "    for feat in featureNames:\n",
    "        x_unique = list(set(X_data[feat]))\n",
    "        x_condition_prob = np.zeros((len(y_unique),len(x_unique)))\n",
    "        for j in range(len(y_unique)):\n",
    "            for k in range(len(x_unique)):\n",
    "                x_condition_prob[j,k] = sum((X_data[feat] == x_unique[k]) & (y_data['y']== y_unique[j]))/sum(y == y_unique[j])\n",
    "        x_condition_prob = pd.DataFrame(x_condition_prob, columns = x_unique, index = [0,1])\n",
    "        condition_prob[feat] = x_condition_prob\n",
    "        \n",
    "    return prior_prob,condition_prob"
   ]
  },
  {
   "cell_type": "code",
   "execution_count": 68,
   "id": "a0de91c9",
   "metadata": {},
   "outputs": [
    {
     "name": "stdout",
     "output_type": "stream",
     "text": [
      "[0.35714286 0.64285714]\n",
      "       Rain  Overcast     Sunny\n",
      "0  0.400000  0.000000  0.600000\n",
      "1  0.333333  0.444444  0.222222\n",
      "       Mild      Cool       Hot\n",
      "0  0.400000  0.200000  0.400000\n",
      "1  0.444444  0.333333  0.222222\n"
     ]
    }
   ],
   "source": [
    "prior_prob,condition_prob = Naive_Bayes(X_data,y_data)\n",
    "print(prior_prob)\n",
    "print(condition_prob['x1'])\n",
    "print(condition_prob['x2'])"
   ]
  },
  {
   "cell_type": "code",
   "execution_count": 69,
   "id": "57a8a455",
   "metadata": {},
   "outputs": [],
   "source": [
    "def Prediction(testData, prior, condition_prob):\n",
    "    numclass = prior.shape[0]\n",
    "    numsample = testData.shape[0]\n",
    "    featureNames = testData.columns\n",
    "    post_prob = np.zeros((numsample,numclass))\n",
    "    for k in range(numsample):\n",
    "        prob_k = np.zeros((numclass,))\n",
    "        for i in range(numclass):\n",
    "            pri = prior[i]\n",
    "            for feat in featureNames:\n",
    "                feat_val = testData[feat][k]\n",
    "                cp = condition_prob[feat]\n",
    "                cp_val = cp.loc[i,feat_val]\n",
    "                pri *=cp_val\n",
    "            prob_k[i] = pri\n",
    "        prob = prob_k/np.sum(prob_k,axis=0)\n",
    "        post_prob[k,:] = prob\n",
    "    return post_prob"
   ]
  },
  {
   "cell_type": "code",
   "execution_count": 70,
   "id": "91e24883",
   "metadata": {},
   "outputs": [
    {
     "data": {
      "text/html": [
       "<div>\n",
       "<style scoped>\n",
       "    .dataframe tbody tr th:only-of-type {\n",
       "        vertical-align: middle;\n",
       "    }\n",
       "\n",
       "    .dataframe tbody tr th {\n",
       "        vertical-align: top;\n",
       "    }\n",
       "\n",
       "    .dataframe thead th {\n",
       "        text-align: right;\n",
       "    }\n",
       "</style>\n",
       "<table border=\"1\" class=\"dataframe\">\n",
       "  <thead>\n",
       "    <tr style=\"text-align: right;\">\n",
       "      <th></th>\n",
       "      <th>x1</th>\n",
       "      <th>x2</th>\n",
       "      <th>x3</th>\n",
       "      <th>x4</th>\n",
       "    </tr>\n",
       "  </thead>\n",
       "  <tbody>\n",
       "    <tr>\n",
       "      <th>0</th>\n",
       "      <td>Sunny</td>\n",
       "      <td>Cool</td>\n",
       "      <td>High</td>\n",
       "      <td>Strong</td>\n",
       "    </tr>\n",
       "  </tbody>\n",
       "</table>\n",
       "</div>"
      ],
      "text/plain": [
       "      x1    x2    x3      x4\n",
       "0  Sunny  Cool  High  Strong"
      ]
     },
     "execution_count": 70,
     "metadata": {},
     "output_type": "execute_result"
    }
   ],
   "source": [
    "test_data = [['Sunny','Cool','High','Strong']]\n",
    "testData = pd.DataFrame(test_data,columns=['x1','x2','x3','x4'])\n",
    "testData"
   ]
  },
  {
   "cell_type": "code",
   "execution_count": 71,
   "id": "748d953a",
   "metadata": {},
   "outputs": [
    {
     "data": {
      "text/plain": [
       "array([[0.79541735, 0.20458265]])"
      ]
     },
     "execution_count": 71,
     "metadata": {},
     "output_type": "execute_result"
    }
   ],
   "source": [
    "postPrior = Prediction(testData, prior_prob, condition_prob)\n",
    "postPrior"
   ]
  },
  {
   "cell_type": "code",
   "execution_count": null,
   "id": "cebb095b",
   "metadata": {},
   "outputs": [],
   "source": []
  }
 ],
 "metadata": {
  "kernelspec": {
   "display_name": "Python 3 (ipykernel)",
   "language": "python",
   "name": "python3"
  },
  "language_info": {
   "codemirror_mode": {
    "name": "ipython",
    "version": 3
   },
   "file_extension": ".py",
   "mimetype": "text/x-python",
   "name": "python",
   "nbconvert_exporter": "python",
   "pygments_lexer": "ipython3",
   "version": "3.11.5"
  }
 },
 "nbformat": 4,
 "nbformat_minor": 5
}
