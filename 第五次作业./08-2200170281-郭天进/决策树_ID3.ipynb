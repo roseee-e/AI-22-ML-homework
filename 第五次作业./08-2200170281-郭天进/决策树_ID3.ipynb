{
 "cells": [
  {
   "cell_type": "code",
   "execution_count": 20,
   "id": "74bfa76f-7688-4f43-b20b-944484439eec",
   "metadata": {
    "ExecuteTime": {
     "end_time": "2024-05-19T14:44:15.218484100Z",
     "start_time": "2024-05-19T14:44:15.195632500Z"
    }
   },
   "outputs": [],
   "source": [
    "import numpy as np\n",
    "import pandas as pd\n",
    "import math\n",
    "from math import log\n",
    "from sklearn.metrics import accuracy_score\n",
    "import re"
   ]
  },
  {
   "cell_type": "code",
   "execution_count": 21,
   "id": "72a5178e-f6ac-448c-af83-83ca66ba5665",
   "metadata": {
    "ExecuteTime": {
     "end_time": "2024-05-19T14:44:15.221722300Z",
     "start_time": "2024-05-19T14:44:15.198773100Z"
    }
   },
   "outputs": [
    {
     "data": {
      "text/plain": "   编号  年龄 有工作 有房子  信用 类别\n0   0  青年   否   否  一般  否\n1   1  青年   否   否   好  否\n2   2  青年   是   否   好  是\n3   3  青年   是   是  一般  是\n4   4  青年   否   否  一般  否",
      "text/html": "<div>\n<style scoped>\n    .dataframe tbody tr th:only-of-type {\n        vertical-align: middle;\n    }\n\n    .dataframe tbody tr th {\n        vertical-align: top;\n    }\n\n    .dataframe thead th {\n        text-align: right;\n    }\n</style>\n<table border=\"1\" class=\"dataframe\">\n  <thead>\n    <tr style=\"text-align: right;\">\n      <th></th>\n      <th>编号</th>\n      <th>年龄</th>\n      <th>有工作</th>\n      <th>有房子</th>\n      <th>信用</th>\n      <th>类别</th>\n    </tr>\n  </thead>\n  <tbody>\n    <tr>\n      <th>0</th>\n      <td>0</td>\n      <td>青年</td>\n      <td>否</td>\n      <td>否</td>\n      <td>一般</td>\n      <td>否</td>\n    </tr>\n    <tr>\n      <th>1</th>\n      <td>1</td>\n      <td>青年</td>\n      <td>否</td>\n      <td>否</td>\n      <td>好</td>\n      <td>否</td>\n    </tr>\n    <tr>\n      <th>2</th>\n      <td>2</td>\n      <td>青年</td>\n      <td>是</td>\n      <td>否</td>\n      <td>好</td>\n      <td>是</td>\n    </tr>\n    <tr>\n      <th>3</th>\n      <td>3</td>\n      <td>青年</td>\n      <td>是</td>\n      <td>是</td>\n      <td>一般</td>\n      <td>是</td>\n    </tr>\n    <tr>\n      <th>4</th>\n      <td>4</td>\n      <td>青年</td>\n      <td>否</td>\n      <td>否</td>\n      <td>一般</td>\n      <td>否</td>\n    </tr>\n  </tbody>\n</table>\n</div>"
     },
     "execution_count": 21,
     "metadata": {},
     "output_type": "execute_result"
    }
   ],
   "source": [
    "path ='D:\\python\\ID3数据.txt'\n",
    "data = pd.read_csv(path)\n",
    "data.head()"
   ]
  },
  {
   "cell_type": "code",
   "execution_count": 22,
   "id": "1a089ffd-f9b1-4708-8ef0-60a8e0267d83",
   "metadata": {
    "ExecuteTime": {
     "end_time": "2024-05-19T14:44:15.221722300Z",
     "start_time": "2024-05-19T14:44:15.210920900Z"
    }
   },
   "outputs": [
    {
     "data": {
      "text/plain": "   年龄 有工作 有房子  信用 类别\n0  青年   否   否  一般  否\n1  青年   否   否   好  否\n2  青年   是   否   好  是\n3  青年   是   是  一般  是\n4  青年   否   否  一般  否",
      "text/html": "<div>\n<style scoped>\n    .dataframe tbody tr th:only-of-type {\n        vertical-align: middle;\n    }\n\n    .dataframe tbody tr th {\n        vertical-align: top;\n    }\n\n    .dataframe thead th {\n        text-align: right;\n    }\n</style>\n<table border=\"1\" class=\"dataframe\">\n  <thead>\n    <tr style=\"text-align: right;\">\n      <th></th>\n      <th>年龄</th>\n      <th>有工作</th>\n      <th>有房子</th>\n      <th>信用</th>\n      <th>类别</th>\n    </tr>\n  </thead>\n  <tbody>\n    <tr>\n      <th>0</th>\n      <td>青年</td>\n      <td>否</td>\n      <td>否</td>\n      <td>一般</td>\n      <td>否</td>\n    </tr>\n    <tr>\n      <th>1</th>\n      <td>青年</td>\n      <td>否</td>\n      <td>否</td>\n      <td>好</td>\n      <td>否</td>\n    </tr>\n    <tr>\n      <th>2</th>\n      <td>青年</td>\n      <td>是</td>\n      <td>否</td>\n      <td>好</td>\n      <td>是</td>\n    </tr>\n    <tr>\n      <th>3</th>\n      <td>青年</td>\n      <td>是</td>\n      <td>是</td>\n      <td>一般</td>\n      <td>是</td>\n    </tr>\n    <tr>\n      <th>4</th>\n      <td>青年</td>\n      <td>否</td>\n      <td>否</td>\n      <td>一般</td>\n      <td>否</td>\n    </tr>\n  </tbody>\n</table>\n</div>"
     },
     "execution_count": 22,
     "metadata": {},
     "output_type": "execute_result"
    }
   ],
   "source": [
    "train_data = data.drop(['编号'],axis=1)\n",
    "train_data.head()\n"
   ]
  },
  {
   "cell_type": "code",
   "execution_count": 23,
   "id": "8ff6ac19-e899-4e2a-a129-fae230392acd",
   "metadata": {
    "ExecuteTime": {
     "end_time": "2024-05-19T14:44:15.251138400Z",
     "start_time": "2024-05-19T14:44:15.216476Z"
    }
   },
   "outputs": [],
   "source": [
    "from collections import Counter\n",
    "\n",
    "def calcEnt(y_label):\n",
    "    num_samples = y_label.shape[0]\n",
    "    cnt = Counter(y_label) ## return a dictionary\n",
    "    ent = -sum([(p / num_samples) * log(p / num_samples, 2) for p in cnt.values()])\n",
    "    return ent"
   ]
  },
  {
   "cell_type": "code",
   "execution_count": 24,
   "id": "3fcec9e5-7e84-42e3-b734-ad04a0504b83",
   "metadata": {
    "ExecuteTime": {
     "end_time": "2024-05-19T14:44:15.254605500Z",
     "start_time": "2024-05-19T14:44:15.221215800Z"
    }
   },
   "outputs": [],
   "source": [
    "def condEnt(attri_data, y_label):\n",
    "    num_samples = y_label.shape[0]\n",
    "    attri_cnt = Counter(attri_data) ## return a dictionary\n",
    "    cond_ent = 0\n",
    "    for key in attri_cnt:\n",
    "        attri_key_label = y_label[attri_data==key]\n",
    "        cond_ent += len(attri_key_label)/num_samples * calcEnt(attri_key_label)\n",
    "    return cond_ent"
   ]
  },
  {
   "cell_type": "code",
   "execution_count": 25,
   "id": "4f05758b-8aeb-40dd-bb79-85451b336bd1",
   "metadata": {
    "ExecuteTime": {
     "end_time": "2024-05-19T14:44:15.278087800Z",
     "start_time": "2024-05-19T14:44:15.227307800Z"
    }
   },
   "outputs": [],
   "source": [
    "def OptAttri(train_data):\n",
    "    infoGain =0 \n",
    "    y_label = train_data.iloc[:,-1]\n",
    "    attri_num = train_data.shape[1]-1\n",
    "    for i in range (attri_num):\n",
    "        attri_data = train_data.iloc[:,i]\n",
    "        ent = calcEnt(y_label)\n",
    "        cond_ent = condEnt(attri_data, y_label)\n",
    "        infoGain_tmp = ent-cond_ent\n",
    "        if infoGain_tmp > infoGain:\n",
    "            infoGain = infoGain_tmp\n",
    "            opt_attr_name = train_data.columns[i]\n",
    "            opt_attr = i\n",
    "    return opt_attr, opt_attr_name, infoGain"
   ]
  },
  {
   "cell_type": "code",
   "execution_count": 26,
   "id": "d20b739f-50f6-4274-b776-3eca19366a0c",
   "metadata": {
    "ExecuteTime": {
     "end_time": "2024-05-19T14:44:15.324906400Z",
     "start_time": "2024-05-19T14:44:15.233404800Z"
    }
   },
   "outputs": [],
   "source": [
    "class Node:\n",
    "    def __init__(self, root=True, label=None, attri_name=None):\n",
    "        self.root = root ## 是否为根节点\n",
    "        self.label = label ## 节点的标签\n",
    "        self.attri_name = attri_name ## 节点的属性名字\n",
    "        self.tree = {} ## 某个节点的子树\n",
    "        self.result = {\n",
    "            'label:': self.label,\n",
    "            'attri_name':self.attri_name,\n",
    "            'tree': self.tree,\n",
    "            'root': self.root\n",
    "        }\n",
    "\n",
    "    def add_node(self, val, node): ## 根据属性的划分取值val，继续建立节点。\n",
    "        self.tree[val] = node\n",
    "    \n",
    "    def __repr__(self):\n",
    "        return '{}'.format(self.result)"
   ]
  },
  {
   "cell_type": "code",
   "execution_count": 27,
   "id": "3ed0a81e-f8fd-4445-94a8-eeef6a058ef0",
   "metadata": {
    "ExecuteTime": {
     "end_time": "2024-05-19T14:44:15.334968400Z",
     "start_time": "2024-05-19T14:44:15.239350100Z"
    }
   },
   "outputs": [],
   "source": [
    "from pydotplus import graphviz\n",
    "import re\n",
    "from IPython.display import display, Image\n",
    "\n",
    "def tree2graph(i, g, root):\n",
    "    if root.attri_name == None:\n",
    "        g_node_label = f'Node:{i}\\n属性:{root.attri_name}\\n标签:{root.label}'\n",
    "    else:\n",
    "        g_node_label = f'Node:{i}\\n属性:{root.attri_name}\\n标签:{root.label}'\n",
    "    g_node = i\n",
    "    g.add_node(graphviz.Node(g_node, label=g_node_label, fontname='FangSong'))\n",
    "    \n",
    "    for val in list(root.tree):\n",
    "        i, g_children = tree2graph(i+1, g, root.tree[val])\n",
    "        g.add_edge(graphviz.Edge(g_node, g_children, label=val, fontname='FangSong'))\n",
    "    return i, g_node\n",
    "\n",
    "def draw(root):\n",
    "    g = graphviz.Dot()\n",
    "    tree2graph(0, g, root)\n",
    "    g2 = graphviz.graph_from_dot_data(g.to_string())\n",
    "    display(Image(g2.create_png()))"
   ]
  },
  {
   "cell_type": "code",
   "execution_count": 28,
   "id": "396c9778-8901-41f7-afb1-1fd04ad7c850",
   "metadata": {
    "ExecuteTime": {
     "end_time": "2024-05-19T14:44:15.337984600Z",
     "start_time": "2024-05-19T14:44:15.252596900Z"
    }
   },
   "outputs": [],
   "source": [
    "class ID3_DTree:\n",
    "    def __init__(self, epsilon=0.1):\n",
    "        self.epsilon = epsilon\n",
    "        self._tree = {}\n",
    "\n",
    "    # 熵\n",
    "    def calcEnt(self, y_label):\n",
    "        num_samples = y_label.shape[0]\n",
    "        cnt = Counter(y_label) ## return a dictionary\n",
    "        ent = -sum([(p / num_samples) * log(p / num_samples, 2) for p in cnt.values()])\n",
    "        return ent\n",
    "\n",
    "\n",
    "    # 条件熵\n",
    "\n",
    "    def condEnt(self, attri_data, y_label):\n",
    "        num_samples = y_label.shape[0]\n",
    "        attri_cnt = Counter(attri_data) ## return a dictionary\n",
    "        cond_ent = 0\n",
    "        for key in attri_cnt:\n",
    "            attri_key_label = y_label[attri_data==key]\n",
    "            cond_ent += len(attri_key_label)/num_samples * self.calcEnt(attri_key_label)\n",
    "        return cond_ent\n",
    "\n",
    "    ## 特征属性选择\n",
    "\n",
    "    def OptAttri(self,train_data):\n",
    "        infoGain =0 \n",
    "        y_label = train_data.iloc[:,-1]\n",
    "        attri_num = train_data.shape[1]-1\n",
    "        for i in range (attri_num):\n",
    "            attri_data = train_data.iloc[:,i]\n",
    "            ent = self.calcEnt(y_label)\n",
    "            cond_ent = self.condEnt(attri_data, y_label)\n",
    "            infoGain_tmp = ent-cond_ent\n",
    "            if infoGain_tmp > infoGain:\n",
    "                infoGain = infoGain_tmp\n",
    "                opt_attr = train_data.columns[i] ## attri name\n",
    "        return opt_attr, infoGain\n",
    "\n",
    "    def train(self, train_data):\n",
    "        \"\"\"\n",
    "        input:数据集D(DataFrame格式)，特征集A，阈值eta\n",
    "        output:决策树T\n",
    "        \"\"\"\n",
    "        y_label = train_data.iloc[:,-1]\n",
    "        feature_space = train_data.columns[:-1] ## feature names\n",
    "                                                                                \n",
    "        features = train_data.iloc[:,:-1]\n",
    "    \n",
    "        # 1,若D中实例属于同一类Ck，即y_label 中的类别个数为1，则T为单节点树，并将类Ck作为结点的类标记，返回T\n",
    "        if len(y_label.value_counts()) == 1: \n",
    "            return Node(root=True, label=y_label.iloc[0])\n",
    "\n",
    "        # 2, 若特征属性A为空，则T为单节点树，将D中样本数最多的类Ck作为该节点的类标记，返回T\n",
    "        if len(feature_space) == 0:\n",
    "            return Node(root=True,label=y_label.value_counts().sort_values(ascending=False).index[0])\n",
    "\n",
    "        # 3,若不是上述情况，需要计算信息增益, 选择信息增益最大的属性做为待选根节点属性Ag\n",
    "        opt_attr_name, max_infoGain= self.OptAttri(train_data)\n",
    "        \n",
    "        # 4,若Ag的信息增益小于阈值eta,则置T为单节点树，并将D中是样本数最多的类Ck作为该节点的类标记，返回T\n",
    "        if max_infoGain < self.epsilon:\n",
    "            return Node(root=True,label=y_train.value_counts().sort_values(ascending=False).index[0])\n",
    "\n",
    "        # 5,若Ag的infogain大于阈值eta，则需要构建Ag子集\n",
    "        node_tree = Node(root=False, attri_name=opt_attr_name)\n",
    "        feature_list = train_data[opt_attr_name].value_counts().index ## 已选属性的子属性的名称\n",
    "       \n",
    "         ## 需要确定每个子属性下面的样本子集，并且根据其他属性对样本子集继续进行树的划分 （去除根属性）\n",
    "        for f in feature_list:\n",
    "            sub_train_df = train_data.loc[train_data[opt_attr_name] ==f].drop([opt_attr_name], axis=1)\n",
    "\n",
    "         # 6, 递归生成树：对样本子集继续进行树的划分\n",
    "            sub_tree = self.train(sub_train_df)\n",
    "            node_tree.add_node(f, sub_tree)\n",
    "        return node_tree\n",
    "\n",
    "    def fit(self, train_data):\n",
    "        Dtree = self.train(train_data)\n",
    "        return Dtree\n",
    "\n",
    "    \n",
    "    def predict(self, root, test_data_Frame): ## test_data_Frame （针对西瓜例子，没有编号这个属性）, root 是建立好的树\n",
    "        root0= root\n",
    "        testNum = test_data_Frame.shape[0]\n",
    "        pred=[]\n",
    "        for i in range(testNum): \n",
    "            root = root0\n",
    "            test_data = test_data_Frame.iloc[i:i+1,:]\n",
    "          \n",
    "            while root.attri_name!=None: ## 说明根节点可以划分\n",
    "                attri_val = test_data[root.attri_name].values[0] # 根节点的属性取值\n",
    "                if attri_val in root.tree: # 若存在子树，则将此时的属性节点当成根节点，直到不能划分时，即为叶节点\n",
    "                    root = root.tree[attri_val]\n",
    "                else:\n",
    "                    break\n",
    "            y_pred = root.label\n",
    "            pred.append(y_pred)\n",
    "        return pred"
   ]
  },
  {
   "cell_type": "code",
   "execution_count": 29,
   "id": "927c5540-6bb3-4c28-a7c1-6d810e2942ed",
   "metadata": {
    "ExecuteTime": {
     "end_time": "2024-05-19T14:44:15.419771500Z",
     "start_time": "2024-05-19T14:44:15.255604700Z"
    }
   },
   "outputs": [
    {
     "data": {
      "image/png": "[encoded data removed]",
      "text/plain": "<IPython.core.display.Image object>"
     },
     "metadata": {},
     "output_type": "display_data"
    },
    {
     "name": "stdout",
     "output_type": "stream",
     "text": [
      "['否', '是', '是', '否', '否', '否', '是', '是', '是', '是', '是']\n"
     ]
    }
   ],
   "source": [
    "dt = ID3_DTree()\n",
    "Dtree = dt.fit(train_data)\n",
    "\n",
    "# 画树的结构\n",
    "draw(Dtree)\n",
    "test_data = train_data.iloc[1:12,:-1]\n",
    "\n",
    "# # 预测结果\n",
    "y_pred = dt.predict(Dtree,test_data)\n",
    "print (y_pred)"
   ]
  }
 ],
 "metadata": {
  "kernelspec": {
   "display_name": "Python 3 (ipykernel)",
   "language": "python",
   "name": "python3"
  },
  "language_info": {
   "codemirror_mode": {
    "name": "ipython",
    "version": 3
   },
   "file_extension": ".py",
   "mimetype": "text/x-python",
   "name": "python",
   "nbconvert_exporter": "python",
   "pygments_lexer": "ipython3",
   "version": "3.11.7"
  }
 },
 "nbformat": 4,
 "nbformat_minor": 5
}
